{
 "cells": [
  {
   "cell_type": "markdown",
   "id": "c90bfbc9",
   "metadata": {},
   "source": [
    "### import libraries "
   ]
  },
  {
   "cell_type": "code",
   "execution_count": 7,
   "id": "06372638",
   "metadata": {},
   "outputs": [],
   "source": [
    "import pandas as pd \n",
    "import numpy as np "
   ]
  },
  {
   "cell_type": "code",
   "execution_count": 8,
   "id": "87935794",
   "metadata": {},
   "outputs": [],
   "source": [
    "df = pd.read_excel('data.xlsx')"
   ]
  },
  {
   "cell_type": "markdown",
   "id": "c44e5254",
   "metadata": {},
   "source": [
    "### view data"
   ]
  },
  {
   "cell_type": "code",
   "execution_count": 9,
   "id": "3f8590fc",
   "metadata": {},
   "outputs": [
    {
     "data": {
      "text/html": [
       "<div>\n",
       "<style scoped>\n",
       "    .dataframe tbody tr th:only-of-type {\n",
       "        vertical-align: middle;\n",
       "    }\n",
       "\n",
       "    .dataframe tbody tr th {\n",
       "        vertical-align: top;\n",
       "    }\n",
       "\n",
       "    .dataframe thead th {\n",
       "        text-align: right;\n",
       "    }\n",
       "</style>\n",
       "<table border=\"1\" class=\"dataframe\">\n",
       "  <thead>\n",
       "    <tr style=\"text-align: right;\">\n",
       "      <th></th>\n",
       "      <th>Unnamed: 0</th>\n",
       "      <th>imageLink</th>\n",
       "      <th>totalPrice</th>\n",
       "      <th>squarePrice</th>\n",
       "      <th>mainTitle</th>\n",
       "      <th>mainAddress</th>\n",
       "      <th>bathNumber</th>\n",
       "      <th>bedNumber</th>\n",
       "      <th>mainSquare</th>\n",
       "      <th>mainOrientation</th>\n",
       "      <th>detailPage</th>\n",
       "      <th>mainID</th>\n",
       "      <th>latitude</th>\n",
       "      <th>longitude</th>\n",
       "    </tr>\n",
       "  </thead>\n",
       "  <tbody>\n",
       "    <tr>\n",
       "      <th>0</th>\n",
       "      <td>0</td>\n",
       "      <td>https://cdn.propzy.vn/listing/thumbnail/map/20...</td>\n",
       "      <td>38 tỷ</td>\n",
       "      <td>213,5 triệu/m²</td>\n",
       "      <td>Nhà mặt tiền quận 5 gần Đại Học Y Dược</td>\n",
       "      <td>Đ. Ký Hòa, P.11, Q.5</td>\n",
       "      <td>1</td>\n",
       "      <td>4</td>\n",
       "      <td>178.0</td>\n",
       "      <td>Nam</td>\n",
       "      <td>https://propzy.vn/mua/nha/hcm/quan-5/id34612</td>\n",
       "      <td>id34612</td>\n",
       "      <td>10.7665188</td>\n",
       "      <td>106.6769666</td>\n",
       "    </tr>\n",
       "    <tr>\n",
       "      <th>1</th>\n",
       "      <td>1</td>\n",
       "      <td>https://cdn.propzy.vn/listing/thumbnail/map/20...</td>\n",
       "      <td>3,9 tỷ</td>\n",
       "      <td>59,1 triệu/m²</td>\n",
       "      <td>Bán căn hộ cao cấp 2PN tại chung cư SaiGon Mia...</td>\n",
       "      <td>Đ. Số 9A, X.Bình Hưng, H.Bình Chánh</td>\n",
       "      <td>2</td>\n",
       "      <td>2</td>\n",
       "      <td>66.0</td>\n",
       "      <td>Đông</td>\n",
       "      <td>https://propzy.vn/mua/can-ho/hcm/huyen-binh-ch...</td>\n",
       "      <td>id380194</td>\n",
       "      <td>10.7168856</td>\n",
       "      <td>106.6706381</td>\n",
       "    </tr>\n",
       "    <tr>\n",
       "      <th>2</th>\n",
       "      <td>2</td>\n",
       "      <td>https://cdn.propzy.vn/listing/thumbnail/map/20...</td>\n",
       "      <td>2,85 tỷ</td>\n",
       "      <td>31 triệu/m²</td>\n",
       "      <td>CC La Casa Bán căn hộ 2 phòng ngủ - đầy đủ tiệ...</td>\n",
       "      <td>Đ. Hoàng Quốc Việt, P.Phú Thuận, Q.7</td>\n",
       "      <td>2</td>\n",
       "      <td>2</td>\n",
       "      <td>92.0</td>\n",
       "      <td>T.Nam</td>\n",
       "      <td>https://propzy.vn/mua/can-ho/hcm/quan-7/id376244</td>\n",
       "      <td>id376244</td>\n",
       "      <td>10.7137186</td>\n",
       "      <td>106.736866</td>\n",
       "    </tr>\n",
       "    <tr>\n",
       "      <th>3</th>\n",
       "      <td>3</td>\n",
       "      <td>https://cdn.propzy.vn/listing/thumbnail/map/20...</td>\n",
       "      <td>4,18 tỷ</td>\n",
       "      <td>36,7 triệu/m²</td>\n",
       "      <td>River Panorama Bán Căn Góc Dual- key 3PN 2WC -...</td>\n",
       "      <td>Đ. Hoàng Quốc Việt, P.Phú Thuận, Q.7</td>\n",
       "      <td>2</td>\n",
       "      <td>3</td>\n",
       "      <td>113.9</td>\n",
       "      <td>Đ.Nam</td>\n",
       "      <td>https://propzy.vn/mua/can-ho/hcm/quan-7/id331419</td>\n",
       "      <td>id331419</td>\n",
       "      <td>10.7137186</td>\n",
       "      <td>106.736866</td>\n",
       "    </tr>\n",
       "    <tr>\n",
       "      <th>4</th>\n",
       "      <td>4</td>\n",
       "      <td>https://cdn.propzy.vn/listing/thumbnail/map/20...</td>\n",
       "      <td>12 tỷ</td>\n",
       "      <td>183,8 triệu/m²</td>\n",
       "      <td>Bán căn Shophouse, có nội thất, chung cư The S...</td>\n",
       "      <td>Đ. Mai Chí Thọ, P.An Phú, Q.2</td>\n",
       "      <td>1</td>\n",
       "      <td>--</td>\n",
       "      <td>65.3</td>\n",
       "      <td>Đ.Nam</td>\n",
       "      <td>https://propzy.vn/mua/can-ho/hcm/quan-2/id247808</td>\n",
       "      <td>id247808</td>\n",
       "      <td>10.7965159</td>\n",
       "      <td>106.7523077</td>\n",
       "    </tr>\n",
       "  </tbody>\n",
       "</table>\n",
       "</div>"
      ],
      "text/plain": [
       "   Unnamed: 0                                          imageLink totalPrice  \\\n",
       "0           0  https://cdn.propzy.vn/listing/thumbnail/map/20...      38 tỷ   \n",
       "1           1  https://cdn.propzy.vn/listing/thumbnail/map/20...     3,9 tỷ   \n",
       "2           2  https://cdn.propzy.vn/listing/thumbnail/map/20...    2,85 tỷ   \n",
       "3           3  https://cdn.propzy.vn/listing/thumbnail/map/20...    4,18 tỷ   \n",
       "4           4  https://cdn.propzy.vn/listing/thumbnail/map/20...      12 tỷ   \n",
       "\n",
       "      squarePrice                                          mainTitle  \\\n",
       "0  213,5 triệu/m²             Nhà mặt tiền quận 5 gần Đại Học Y Dược   \n",
       "1   59,1 triệu/m²  Bán căn hộ cao cấp 2PN tại chung cư SaiGon Mia...   \n",
       "2     31 triệu/m²  CC La Casa Bán căn hộ 2 phòng ngủ - đầy đủ tiệ...   \n",
       "3   36,7 triệu/m²  River Panorama Bán Căn Góc Dual- key 3PN 2WC -...   \n",
       "4  183,8 triệu/m²  Bán căn Shophouse, có nội thất, chung cư The S...   \n",
       "\n",
       "                            mainAddress bathNumber bedNumber mainSquare  \\\n",
       "0                  Đ. Ký Hòa, P.11, Q.5          1         4      178.0   \n",
       "1   Đ. Số 9A, X.Bình Hưng, H.Bình Chánh          2         2       66.0   \n",
       "2  Đ. Hoàng Quốc Việt, P.Phú Thuận, Q.7          2         2       92.0   \n",
       "3  Đ. Hoàng Quốc Việt, P.Phú Thuận, Q.7          2         3      113.9   \n",
       "4         Đ. Mai Chí Thọ, P.An Phú, Q.2          1        --       65.3   \n",
       "\n",
       "  mainOrientation                                         detailPage  \\\n",
       "0             Nam       https://propzy.vn/mua/nha/hcm/quan-5/id34612   \n",
       "1            Đông  https://propzy.vn/mua/can-ho/hcm/huyen-binh-ch...   \n",
       "2           T.Nam   https://propzy.vn/mua/can-ho/hcm/quan-7/id376244   \n",
       "3           Đ.Nam   https://propzy.vn/mua/can-ho/hcm/quan-7/id331419   \n",
       "4           Đ.Nam   https://propzy.vn/mua/can-ho/hcm/quan-2/id247808   \n",
       "\n",
       "     mainID    latitude    longitude  \n",
       "0   id34612  10.7665188  106.6769666  \n",
       "1  id380194  10.7168856  106.6706381  \n",
       "2  id376244  10.7137186   106.736866  \n",
       "3  id331419  10.7137186   106.736866  \n",
       "4  id247808  10.7965159  106.7523077  "
      ]
     },
     "execution_count": 9,
     "metadata": {},
     "output_type": "execute_result"
    }
   ],
   "source": [
    "df.head()"
   ]
  },
  {
   "cell_type": "markdown",
   "id": "55edc9d1",
   "metadata": {},
   "source": [
    "### drop column Unnamed: 0"
   ]
  },
  {
   "cell_type": "code",
   "execution_count": 10,
   "id": "c3067d5d",
   "metadata": {},
   "outputs": [],
   "source": [
    "df = df.drop(['Unnamed: 0'],axis = 1)"
   ]
  },
  {
   "cell_type": "code",
   "execution_count": 11,
   "id": "2dc4e11c",
   "metadata": {},
   "outputs": [
    {
     "data": {
      "text/html": [
       "<div>\n",
       "<style scoped>\n",
       "    .dataframe tbody tr th:only-of-type {\n",
       "        vertical-align: middle;\n",
       "    }\n",
       "\n",
       "    .dataframe tbody tr th {\n",
       "        vertical-align: top;\n",
       "    }\n",
       "\n",
       "    .dataframe thead th {\n",
       "        text-align: right;\n",
       "    }\n",
       "</style>\n",
       "<table border=\"1\" class=\"dataframe\">\n",
       "  <thead>\n",
       "    <tr style=\"text-align: right;\">\n",
       "      <th></th>\n",
       "      <th>imageLink</th>\n",
       "      <th>totalPrice</th>\n",
       "      <th>squarePrice</th>\n",
       "      <th>mainTitle</th>\n",
       "      <th>mainAddress</th>\n",
       "      <th>bathNumber</th>\n",
       "      <th>bedNumber</th>\n",
       "      <th>mainSquare</th>\n",
       "      <th>mainOrientation</th>\n",
       "      <th>detailPage</th>\n",
       "      <th>mainID</th>\n",
       "      <th>latitude</th>\n",
       "      <th>longitude</th>\n",
       "    </tr>\n",
       "  </thead>\n",
       "  <tbody>\n",
       "    <tr>\n",
       "      <th>0</th>\n",
       "      <td>https://cdn.propzy.vn/listing/thumbnail/map/20...</td>\n",
       "      <td>38 tỷ</td>\n",
       "      <td>213,5 triệu/m²</td>\n",
       "      <td>Nhà mặt tiền quận 5 gần Đại Học Y Dược</td>\n",
       "      <td>Đ. Ký Hòa, P.11, Q.5</td>\n",
       "      <td>1</td>\n",
       "      <td>4</td>\n",
       "      <td>178.0</td>\n",
       "      <td>Nam</td>\n",
       "      <td>https://propzy.vn/mua/nha/hcm/quan-5/id34612</td>\n",
       "      <td>id34612</td>\n",
       "      <td>10.7665188</td>\n",
       "      <td>106.6769666</td>\n",
       "    </tr>\n",
       "    <tr>\n",
       "      <th>1</th>\n",
       "      <td>https://cdn.propzy.vn/listing/thumbnail/map/20...</td>\n",
       "      <td>3,9 tỷ</td>\n",
       "      <td>59,1 triệu/m²</td>\n",
       "      <td>Bán căn hộ cao cấp 2PN tại chung cư SaiGon Mia...</td>\n",
       "      <td>Đ. Số 9A, X.Bình Hưng, H.Bình Chánh</td>\n",
       "      <td>2</td>\n",
       "      <td>2</td>\n",
       "      <td>66.0</td>\n",
       "      <td>Đông</td>\n",
       "      <td>https://propzy.vn/mua/can-ho/hcm/huyen-binh-ch...</td>\n",
       "      <td>id380194</td>\n",
       "      <td>10.7168856</td>\n",
       "      <td>106.6706381</td>\n",
       "    </tr>\n",
       "    <tr>\n",
       "      <th>2</th>\n",
       "      <td>https://cdn.propzy.vn/listing/thumbnail/map/20...</td>\n",
       "      <td>2,85 tỷ</td>\n",
       "      <td>31 triệu/m²</td>\n",
       "      <td>CC La Casa Bán căn hộ 2 phòng ngủ - đầy đủ tiệ...</td>\n",
       "      <td>Đ. Hoàng Quốc Việt, P.Phú Thuận, Q.7</td>\n",
       "      <td>2</td>\n",
       "      <td>2</td>\n",
       "      <td>92.0</td>\n",
       "      <td>T.Nam</td>\n",
       "      <td>https://propzy.vn/mua/can-ho/hcm/quan-7/id376244</td>\n",
       "      <td>id376244</td>\n",
       "      <td>10.7137186</td>\n",
       "      <td>106.736866</td>\n",
       "    </tr>\n",
       "    <tr>\n",
       "      <th>3</th>\n",
       "      <td>https://cdn.propzy.vn/listing/thumbnail/map/20...</td>\n",
       "      <td>4,18 tỷ</td>\n",
       "      <td>36,7 triệu/m²</td>\n",
       "      <td>River Panorama Bán Căn Góc Dual- key 3PN 2WC -...</td>\n",
       "      <td>Đ. Hoàng Quốc Việt, P.Phú Thuận, Q.7</td>\n",
       "      <td>2</td>\n",
       "      <td>3</td>\n",
       "      <td>113.9</td>\n",
       "      <td>Đ.Nam</td>\n",
       "      <td>https://propzy.vn/mua/can-ho/hcm/quan-7/id331419</td>\n",
       "      <td>id331419</td>\n",
       "      <td>10.7137186</td>\n",
       "      <td>106.736866</td>\n",
       "    </tr>\n",
       "    <tr>\n",
       "      <th>4</th>\n",
       "      <td>https://cdn.propzy.vn/listing/thumbnail/map/20...</td>\n",
       "      <td>12 tỷ</td>\n",
       "      <td>183,8 triệu/m²</td>\n",
       "      <td>Bán căn Shophouse, có nội thất, chung cư The S...</td>\n",
       "      <td>Đ. Mai Chí Thọ, P.An Phú, Q.2</td>\n",
       "      <td>1</td>\n",
       "      <td>--</td>\n",
       "      <td>65.3</td>\n",
       "      <td>Đ.Nam</td>\n",
       "      <td>https://propzy.vn/mua/can-ho/hcm/quan-2/id247808</td>\n",
       "      <td>id247808</td>\n",
       "      <td>10.7965159</td>\n",
       "      <td>106.7523077</td>\n",
       "    </tr>\n",
       "  </tbody>\n",
       "</table>\n",
       "</div>"
      ],
      "text/plain": [
       "                                           imageLink totalPrice  \\\n",
       "0  https://cdn.propzy.vn/listing/thumbnail/map/20...      38 tỷ   \n",
       "1  https://cdn.propzy.vn/listing/thumbnail/map/20...     3,9 tỷ   \n",
       "2  https://cdn.propzy.vn/listing/thumbnail/map/20...    2,85 tỷ   \n",
       "3  https://cdn.propzy.vn/listing/thumbnail/map/20...    4,18 tỷ   \n",
       "4  https://cdn.propzy.vn/listing/thumbnail/map/20...      12 tỷ   \n",
       "\n",
       "      squarePrice                                          mainTitle  \\\n",
       "0  213,5 triệu/m²             Nhà mặt tiền quận 5 gần Đại Học Y Dược   \n",
       "1   59,1 triệu/m²  Bán căn hộ cao cấp 2PN tại chung cư SaiGon Mia...   \n",
       "2     31 triệu/m²  CC La Casa Bán căn hộ 2 phòng ngủ - đầy đủ tiệ...   \n",
       "3   36,7 triệu/m²  River Panorama Bán Căn Góc Dual- key 3PN 2WC -...   \n",
       "4  183,8 triệu/m²  Bán căn Shophouse, có nội thất, chung cư The S...   \n",
       "\n",
       "                            mainAddress bathNumber bedNumber mainSquare  \\\n",
       "0                  Đ. Ký Hòa, P.11, Q.5          1         4      178.0   \n",
       "1   Đ. Số 9A, X.Bình Hưng, H.Bình Chánh          2         2       66.0   \n",
       "2  Đ. Hoàng Quốc Việt, P.Phú Thuận, Q.7          2         2       92.0   \n",
       "3  Đ. Hoàng Quốc Việt, P.Phú Thuận, Q.7          2         3      113.9   \n",
       "4         Đ. Mai Chí Thọ, P.An Phú, Q.2          1        --       65.3   \n",
       "\n",
       "  mainOrientation                                         detailPage  \\\n",
       "0             Nam       https://propzy.vn/mua/nha/hcm/quan-5/id34612   \n",
       "1            Đông  https://propzy.vn/mua/can-ho/hcm/huyen-binh-ch...   \n",
       "2           T.Nam   https://propzy.vn/mua/can-ho/hcm/quan-7/id376244   \n",
       "3           Đ.Nam   https://propzy.vn/mua/can-ho/hcm/quan-7/id331419   \n",
       "4           Đ.Nam   https://propzy.vn/mua/can-ho/hcm/quan-2/id247808   \n",
       "\n",
       "     mainID    latitude    longitude  \n",
       "0   id34612  10.7665188  106.6769666  \n",
       "1  id380194  10.7168856  106.6706381  \n",
       "2  id376244  10.7137186   106.736866  \n",
       "3  id331419  10.7137186   106.736866  \n",
       "4  id247808  10.7965159  106.7523077  "
      ]
     },
     "execution_count": 11,
     "metadata": {},
     "output_type": "execute_result"
    }
   ],
   "source": [
    "df.head()"
   ]
  },
  {
   "cell_type": "markdown",
   "id": "7f18339e",
   "metadata": {},
   "source": [
    "### inspect columns type"
   ]
  },
  {
   "cell_type": "code",
   "execution_count": 12,
   "id": "b1f51ab5",
   "metadata": {},
   "outputs": [
    {
     "data": {
      "text/plain": [
       "imageLink          object\n",
       "totalPrice         object\n",
       "squarePrice        object\n",
       "mainTitle          object\n",
       "mainAddress        object\n",
       "bathNumber         object\n",
       "bedNumber          object\n",
       "mainSquare         object\n",
       "mainOrientation    object\n",
       "detailPage         object\n",
       "mainID             object\n",
       "latitude           object\n",
       "longitude          object\n",
       "dtype: object"
      ]
     },
     "execution_count": 12,
     "metadata": {},
     "output_type": "execute_result"
    }
   ],
   "source": [
    "df.dtypes"
   ]
  },
  {
   "cell_type": "markdown",
   "id": "b184be8a",
   "metadata": {},
   "source": [
    "### Shape of data"
   ]
  },
  {
   "cell_type": "code",
   "execution_count": 13,
   "id": "649a9169",
   "metadata": {},
   "outputs": [
    {
     "data": {
      "text/plain": [
       "(120, 13)"
      ]
     },
     "execution_count": 13,
     "metadata": {},
     "output_type": "execute_result"
    }
   ],
   "source": [
    "df.shape"
   ]
  },
  {
   "cell_type": "markdown",
   "id": "41608373",
   "metadata": {},
   "source": [
    "### Rename columns"
   ]
  },
  {
   "cell_type": "code",
   "execution_count": 14,
   "id": "2ff2235c",
   "metadata": {},
   "outputs": [
    {
     "data": {
      "text/html": [
       "<div>\n",
       "<style scoped>\n",
       "    .dataframe tbody tr th:only-of-type {\n",
       "        vertical-align: middle;\n",
       "    }\n",
       "\n",
       "    .dataframe tbody tr th {\n",
       "        vertical-align: top;\n",
       "    }\n",
       "\n",
       "    .dataframe thead th {\n",
       "        text-align: right;\n",
       "    }\n",
       "</style>\n",
       "<table border=\"1\" class=\"dataframe\">\n",
       "  <thead>\n",
       "    <tr style=\"text-align: right;\">\n",
       "      <th></th>\n",
       "      <th>image_link</th>\n",
       "      <th>price</th>\n",
       "      <th>sqm_price</th>\n",
       "      <th>title</th>\n",
       "      <th>address</th>\n",
       "      <th>bathrooms</th>\n",
       "      <th>bedrooms</th>\n",
       "      <th>sqm</th>\n",
       "      <th>orientation</th>\n",
       "      <th>detail_link</th>\n",
       "      <th>post_id</th>\n",
       "      <th>lat</th>\n",
       "      <th>long</th>\n",
       "    </tr>\n",
       "  </thead>\n",
       "  <tbody>\n",
       "    <tr>\n",
       "      <th>0</th>\n",
       "      <td>https://cdn.propzy.vn/listing/thumbnail/map/20...</td>\n",
       "      <td>38 tỷ</td>\n",
       "      <td>213,5 triệu/m²</td>\n",
       "      <td>Nhà mặt tiền quận 5 gần Đại Học Y Dược</td>\n",
       "      <td>Đ. Ký Hòa, P.11, Q.5</td>\n",
       "      <td>1</td>\n",
       "      <td>4</td>\n",
       "      <td>178.0</td>\n",
       "      <td>Nam</td>\n",
       "      <td>https://propzy.vn/mua/nha/hcm/quan-5/id34612</td>\n",
       "      <td>id34612</td>\n",
       "      <td>10.7665188</td>\n",
       "      <td>106.6769666</td>\n",
       "    </tr>\n",
       "    <tr>\n",
       "      <th>1</th>\n",
       "      <td>https://cdn.propzy.vn/listing/thumbnail/map/20...</td>\n",
       "      <td>3,9 tỷ</td>\n",
       "      <td>59,1 triệu/m²</td>\n",
       "      <td>Bán căn hộ cao cấp 2PN tại chung cư SaiGon Mia...</td>\n",
       "      <td>Đ. Số 9A, X.Bình Hưng, H.Bình Chánh</td>\n",
       "      <td>2</td>\n",
       "      <td>2</td>\n",
       "      <td>66.0</td>\n",
       "      <td>Đông</td>\n",
       "      <td>https://propzy.vn/mua/can-ho/hcm/huyen-binh-ch...</td>\n",
       "      <td>id380194</td>\n",
       "      <td>10.7168856</td>\n",
       "      <td>106.6706381</td>\n",
       "    </tr>\n",
       "    <tr>\n",
       "      <th>2</th>\n",
       "      <td>https://cdn.propzy.vn/listing/thumbnail/map/20...</td>\n",
       "      <td>2,85 tỷ</td>\n",
       "      <td>31 triệu/m²</td>\n",
       "      <td>CC La Casa Bán căn hộ 2 phòng ngủ - đầy đủ tiệ...</td>\n",
       "      <td>Đ. Hoàng Quốc Việt, P.Phú Thuận, Q.7</td>\n",
       "      <td>2</td>\n",
       "      <td>2</td>\n",
       "      <td>92.0</td>\n",
       "      <td>T.Nam</td>\n",
       "      <td>https://propzy.vn/mua/can-ho/hcm/quan-7/id376244</td>\n",
       "      <td>id376244</td>\n",
       "      <td>10.7137186</td>\n",
       "      <td>106.736866</td>\n",
       "    </tr>\n",
       "    <tr>\n",
       "      <th>3</th>\n",
       "      <td>https://cdn.propzy.vn/listing/thumbnail/map/20...</td>\n",
       "      <td>4,18 tỷ</td>\n",
       "      <td>36,7 triệu/m²</td>\n",
       "      <td>River Panorama Bán Căn Góc Dual- key 3PN 2WC -...</td>\n",
       "      <td>Đ. Hoàng Quốc Việt, P.Phú Thuận, Q.7</td>\n",
       "      <td>2</td>\n",
       "      <td>3</td>\n",
       "      <td>113.9</td>\n",
       "      <td>Đ.Nam</td>\n",
       "      <td>https://propzy.vn/mua/can-ho/hcm/quan-7/id331419</td>\n",
       "      <td>id331419</td>\n",
       "      <td>10.7137186</td>\n",
       "      <td>106.736866</td>\n",
       "    </tr>\n",
       "    <tr>\n",
       "      <th>4</th>\n",
       "      <td>https://cdn.propzy.vn/listing/thumbnail/map/20...</td>\n",
       "      <td>12 tỷ</td>\n",
       "      <td>183,8 triệu/m²</td>\n",
       "      <td>Bán căn Shophouse, có nội thất, chung cư The S...</td>\n",
       "      <td>Đ. Mai Chí Thọ, P.An Phú, Q.2</td>\n",
       "      <td>1</td>\n",
       "      <td>--</td>\n",
       "      <td>65.3</td>\n",
       "      <td>Đ.Nam</td>\n",
       "      <td>https://propzy.vn/mua/can-ho/hcm/quan-2/id247808</td>\n",
       "      <td>id247808</td>\n",
       "      <td>10.7965159</td>\n",
       "      <td>106.7523077</td>\n",
       "    </tr>\n",
       "  </tbody>\n",
       "</table>\n",
       "</div>"
      ],
      "text/plain": [
       "                                          image_link    price       sqm_price  \\\n",
       "0  https://cdn.propzy.vn/listing/thumbnail/map/20...    38 tỷ  213,5 triệu/m²   \n",
       "1  https://cdn.propzy.vn/listing/thumbnail/map/20...   3,9 tỷ   59,1 triệu/m²   \n",
       "2  https://cdn.propzy.vn/listing/thumbnail/map/20...  2,85 tỷ     31 triệu/m²   \n",
       "3  https://cdn.propzy.vn/listing/thumbnail/map/20...  4,18 tỷ   36,7 triệu/m²   \n",
       "4  https://cdn.propzy.vn/listing/thumbnail/map/20...    12 tỷ  183,8 triệu/m²   \n",
       "\n",
       "                                               title  \\\n",
       "0             Nhà mặt tiền quận 5 gần Đại Học Y Dược   \n",
       "1  Bán căn hộ cao cấp 2PN tại chung cư SaiGon Mia...   \n",
       "2  CC La Casa Bán căn hộ 2 phòng ngủ - đầy đủ tiệ...   \n",
       "3  River Panorama Bán Căn Góc Dual- key 3PN 2WC -...   \n",
       "4  Bán căn Shophouse, có nội thất, chung cư The S...   \n",
       "\n",
       "                                address bathrooms bedrooms    sqm orientation  \\\n",
       "0                  Đ. Ký Hòa, P.11, Q.5         1        4  178.0         Nam   \n",
       "1   Đ. Số 9A, X.Bình Hưng, H.Bình Chánh         2        2   66.0        Đông   \n",
       "2  Đ. Hoàng Quốc Việt, P.Phú Thuận, Q.7         2        2   92.0       T.Nam   \n",
       "3  Đ. Hoàng Quốc Việt, P.Phú Thuận, Q.7         2        3  113.9       Đ.Nam   \n",
       "4         Đ. Mai Chí Thọ, P.An Phú, Q.2         1       --   65.3       Đ.Nam   \n",
       "\n",
       "                                         detail_link   post_id         lat  \\\n",
       "0       https://propzy.vn/mua/nha/hcm/quan-5/id34612   id34612  10.7665188   \n",
       "1  https://propzy.vn/mua/can-ho/hcm/huyen-binh-ch...  id380194  10.7168856   \n",
       "2   https://propzy.vn/mua/can-ho/hcm/quan-7/id376244  id376244  10.7137186   \n",
       "3   https://propzy.vn/mua/can-ho/hcm/quan-7/id331419  id331419  10.7137186   \n",
       "4   https://propzy.vn/mua/can-ho/hcm/quan-2/id247808  id247808  10.7965159   \n",
       "\n",
       "          long  \n",
       "0  106.6769666  \n",
       "1  106.6706381  \n",
       "2   106.736866  \n",
       "3   106.736866  \n",
       "4  106.7523077  "
      ]
     },
     "execution_count": 14,
     "metadata": {},
     "output_type": "execute_result"
    }
   ],
   "source": [
    "df.rename(columns = {'imageLink':'image_link',\n",
    "                    'detailPage':'detail_link',\n",
    "                    'mainID':'post_id',\n",
    "                    'mainAddress':'address',\n",
    "                    'mainTitle':'title',\n",
    "                    'mainOrientation':'orientation',\n",
    "                    'totalPrice':'price',\n",
    "                    'squarePrice':'sqm_price',\n",
    "                    'mainSquare':'sqm',\n",
    "                    'bathNumber':'bathrooms',\n",
    "                    'bedNumber':'bedrooms',\n",
    "                    'latitude':'lat',\n",
    "                    'longitude':'long'},\n",
    "                      inplace = True)\n",
    "df.head()"
   ]
  },
  {
   "cell_type": "code",
   "execution_count": 15,
   "id": "cfb34e28",
   "metadata": {},
   "outputs": [
    {
     "data": {
      "text/plain": [
       "Index(['image_link', 'price', 'sqm_price', 'title', 'address', 'bathrooms',\n",
       "       'bedrooms', 'sqm', 'orientation', 'detail_link', 'post_id', 'lat',\n",
       "       'long'],\n",
       "      dtype='object')"
      ]
     },
     "execution_count": 15,
     "metadata": {},
     "output_type": "execute_result"
    }
   ],
   "source": [
    "df.columns"
   ]
  },
  {
   "cell_type": "code",
   "execution_count": 16,
   "id": "05c6cf99",
   "metadata": {},
   "outputs": [
    {
     "data": {
      "text/plain": [
       "image_link     object\n",
       "price          object\n",
       "sqm_price      object\n",
       "title          object\n",
       "address        object\n",
       "bathrooms      object\n",
       "bedrooms       object\n",
       "sqm            object\n",
       "orientation    object\n",
       "detail_link    object\n",
       "post_id        object\n",
       "lat            object\n",
       "long           object\n",
       "dtype: object"
      ]
     },
     "execution_count": 16,
     "metadata": {},
     "output_type": "execute_result"
    }
   ],
   "source": [
    "df.dtypes"
   ]
  },
  {
   "cell_type": "markdown",
   "id": "7fb1affb",
   "metadata": {},
   "source": [
    "### check null values in columns\n",
    "\n",
    "    Remove row get null\n",
    "\n",
    "    Change null to default value \n"
   ]
  },
  {
   "cell_type": "code",
   "execution_count": 17,
   "id": "f225493c",
   "metadata": {},
   "outputs": [
    {
     "name": "stdout",
     "output_type": "stream",
     "text": [
      "image_link Is any Null: False\n",
      "price Is any Null: False\n",
      "sqm_price Is any Null: False\n",
      "title Is any Null: False\n",
      "address Is any Null: False\n",
      "bathrooms Is any Null: False\n",
      "bedrooms Is any Null: False\n",
      "sqm Is any Null: False\n",
      "orientation Is any Null: False\n",
      "detail_link Is any Null: False\n",
      "post_id Is any Null: False\n",
      "lat Is any Null: False\n",
      "long Is any Null: False\n"
     ]
    }
   ],
   "source": [
    "for col in df.columns:\n",
    "    print(str(col) + \" Is any Null: {}\".format(pd.isna(df[col]).values.any()))"
   ]
  },
  {
   "cell_type": "markdown",
   "id": "e5ba4ea9",
   "metadata": {},
   "source": [
    "### create a dataframe output, storage every ok columns from raw dataframe\n",
    "\n",
    "    image_link     object\n",
    "    title          object\n",
    "    address        object\n",
    "    orientation    object\n",
    "    detail_link    object\n",
    "    post_id        object"
   ]
  },
  {
   "cell_type": "code",
   "execution_count": 18,
   "id": "8a7fa7fc",
   "metadata": {},
   "outputs": [],
   "source": [
    "result = pd.DataFrame([])"
   ]
  },
  {
   "cell_type": "code",
   "execution_count": 20,
   "id": "0ab65eef",
   "metadata": {},
   "outputs": [],
   "source": [
    "#df['image_link']\n",
    "#df[['image_link','post_id']]\n",
    "\n",
    "result = pd.concat([result,df[['image_link','title','address','orientation','detail_link','post_id']]],axis =1)"
   ]
  },
  {
   "cell_type": "code",
   "execution_count": 21,
   "id": "e37c60d9",
   "metadata": {},
   "outputs": [
    {
     "data": {
      "text/html": [
       "<div>\n",
       "<style scoped>\n",
       "    .dataframe tbody tr th:only-of-type {\n",
       "        vertical-align: middle;\n",
       "    }\n",
       "\n",
       "    .dataframe tbody tr th {\n",
       "        vertical-align: top;\n",
       "    }\n",
       "\n",
       "    .dataframe thead th {\n",
       "        text-align: right;\n",
       "    }\n",
       "</style>\n",
       "<table border=\"1\" class=\"dataframe\">\n",
       "  <thead>\n",
       "    <tr style=\"text-align: right;\">\n",
       "      <th></th>\n",
       "      <th>image_link</th>\n",
       "      <th>title</th>\n",
       "      <th>address</th>\n",
       "      <th>orientation</th>\n",
       "      <th>detail_link</th>\n",
       "      <th>post_id</th>\n",
       "    </tr>\n",
       "  </thead>\n",
       "  <tbody>\n",
       "    <tr>\n",
       "      <th>0</th>\n",
       "      <td>https://cdn.propzy.vn/listing/thumbnail/map/20...</td>\n",
       "      <td>Nhà mặt tiền quận 5 gần Đại Học Y Dược</td>\n",
       "      <td>Đ. Ký Hòa, P.11, Q.5</td>\n",
       "      <td>Nam</td>\n",
       "      <td>https://propzy.vn/mua/nha/hcm/quan-5/id34612</td>\n",
       "      <td>id34612</td>\n",
       "    </tr>\n",
       "    <tr>\n",
       "      <th>1</th>\n",
       "      <td>https://cdn.propzy.vn/listing/thumbnail/map/20...</td>\n",
       "      <td>Bán căn hộ cao cấp 2PN tại chung cư SaiGon Mia...</td>\n",
       "      <td>Đ. Số 9A, X.Bình Hưng, H.Bình Chánh</td>\n",
       "      <td>Đông</td>\n",
       "      <td>https://propzy.vn/mua/can-ho/hcm/huyen-binh-ch...</td>\n",
       "      <td>id380194</td>\n",
       "    </tr>\n",
       "    <tr>\n",
       "      <th>2</th>\n",
       "      <td>https://cdn.propzy.vn/listing/thumbnail/map/20...</td>\n",
       "      <td>CC La Casa Bán căn hộ 2 phòng ngủ - đầy đủ tiệ...</td>\n",
       "      <td>Đ. Hoàng Quốc Việt, P.Phú Thuận, Q.7</td>\n",
       "      <td>T.Nam</td>\n",
       "      <td>https://propzy.vn/mua/can-ho/hcm/quan-7/id376244</td>\n",
       "      <td>id376244</td>\n",
       "    </tr>\n",
       "    <tr>\n",
       "      <th>3</th>\n",
       "      <td>https://cdn.propzy.vn/listing/thumbnail/map/20...</td>\n",
       "      <td>River Panorama Bán Căn Góc Dual- key 3PN 2WC -...</td>\n",
       "      <td>Đ. Hoàng Quốc Việt, P.Phú Thuận, Q.7</td>\n",
       "      <td>Đ.Nam</td>\n",
       "      <td>https://propzy.vn/mua/can-ho/hcm/quan-7/id331419</td>\n",
       "      <td>id331419</td>\n",
       "    </tr>\n",
       "    <tr>\n",
       "      <th>4</th>\n",
       "      <td>https://cdn.propzy.vn/listing/thumbnail/map/20...</td>\n",
       "      <td>Bán căn Shophouse, có nội thất, chung cư The S...</td>\n",
       "      <td>Đ. Mai Chí Thọ, P.An Phú, Q.2</td>\n",
       "      <td>Đ.Nam</td>\n",
       "      <td>https://propzy.vn/mua/can-ho/hcm/quan-2/id247808</td>\n",
       "      <td>id247808</td>\n",
       "    </tr>\n",
       "    <tr>\n",
       "      <th>...</th>\n",
       "      <td>...</td>\n",
       "      <td>...</td>\n",
       "      <td>...</td>\n",
       "      <td>...</td>\n",
       "      <td>...</td>\n",
       "      <td>...</td>\n",
       "    </tr>\n",
       "    <tr>\n",
       "      <th>115</th>\n",
       "      <td>https://cdn.propzy.vn/listing/default_detail.jpg</td>\n",
       "      <td>Bán nhà phố liền kề KDC Phong Phú 4 xã Phong P...</td>\n",
       "      <td>Đ. Số 15E, X.Phong Phú, H.Bình Chánh</td>\n",
       "      <td>Đ.Bắc</td>\n",
       "      <td>https://propzy.vn/mua/nha/hcm/huyen-binh-chanh...</td>\n",
       "      <td>id388399</td>\n",
       "    </tr>\n",
       "    <tr>\n",
       "      <th>116</th>\n",
       "      <td>https://cdn.propzy.vn/listing/thumbnail/map/20...</td>\n",
       "      <td>Nhà hẻm gần mặt tiền Phường 9 Quận 8 - Gần cầu...</td>\n",
       "      <td>Đ. Hưng Phú, P.9, Q.8</td>\n",
       "      <td>Đ.Bắc</td>\n",
       "      <td>https://propzy.vn/mua/nha/hcm/quan-8/id388637</td>\n",
       "      <td>id388637</td>\n",
       "    </tr>\n",
       "    <tr>\n",
       "      <th>117</th>\n",
       "      <td>https://cdn.propzy.vn/listing/default_detail.jpg</td>\n",
       "      <td>Bán nhà hẻm gần chợ Bình Đông, Phường 14, Quận 8</td>\n",
       "      <td>Đ. Bình Đông, P.14, Q.8</td>\n",
       "      <td>T.Bắc</td>\n",
       "      <td>https://propzy.vn/mua/nha/hcm/quan-8/id388694</td>\n",
       "      <td>id388694</td>\n",
       "    </tr>\n",
       "    <tr>\n",
       "      <th>118</th>\n",
       "      <td>https://cdn.propzy.vn/listing/thumbnail/map/20...</td>\n",
       "      <td>Bán nhà hẻm xa ba gác gần chợ Rạch Ông, Phường...</td>\n",
       "      <td>Đ. Nguyễn Thị Tần, P.2, Q.8</td>\n",
       "      <td>T.Bắc</td>\n",
       "      <td>https://propzy.vn/mua/nha/hcm/quan-8/id388725</td>\n",
       "      <td>id388725</td>\n",
       "    </tr>\n",
       "    <tr>\n",
       "      <th>119</th>\n",
       "      <td>https://cdn.propzy.vn/listing/thumbnail/map/20...</td>\n",
       "      <td>Bán Nhà 1 Trệt 1 Lầu Mặt Tiền Đường Số Phường ...</td>\n",
       "      <td>Đ. Số 1, P.Phú Mỹ, Q.7</td>\n",
       "      <td>T.Nam</td>\n",
       "      <td>https://propzy.vn/mua/nha/hcm/quan-7/id388786</td>\n",
       "      <td>id388786</td>\n",
       "    </tr>\n",
       "  </tbody>\n",
       "</table>\n",
       "<p>120 rows × 6 columns</p>\n",
       "</div>"
      ],
      "text/plain": [
       "                                            image_link  \\\n",
       "0    https://cdn.propzy.vn/listing/thumbnail/map/20...   \n",
       "1    https://cdn.propzy.vn/listing/thumbnail/map/20...   \n",
       "2    https://cdn.propzy.vn/listing/thumbnail/map/20...   \n",
       "3    https://cdn.propzy.vn/listing/thumbnail/map/20...   \n",
       "4    https://cdn.propzy.vn/listing/thumbnail/map/20...   \n",
       "..                                                 ...   \n",
       "115   https://cdn.propzy.vn/listing/default_detail.jpg   \n",
       "116  https://cdn.propzy.vn/listing/thumbnail/map/20...   \n",
       "117   https://cdn.propzy.vn/listing/default_detail.jpg   \n",
       "118  https://cdn.propzy.vn/listing/thumbnail/map/20...   \n",
       "119  https://cdn.propzy.vn/listing/thumbnail/map/20...   \n",
       "\n",
       "                                                 title  \\\n",
       "0               Nhà mặt tiền quận 5 gần Đại Học Y Dược   \n",
       "1    Bán căn hộ cao cấp 2PN tại chung cư SaiGon Mia...   \n",
       "2    CC La Casa Bán căn hộ 2 phòng ngủ - đầy đủ tiệ...   \n",
       "3    River Panorama Bán Căn Góc Dual- key 3PN 2WC -...   \n",
       "4    Bán căn Shophouse, có nội thất, chung cư The S...   \n",
       "..                                                 ...   \n",
       "115  Bán nhà phố liền kề KDC Phong Phú 4 xã Phong P...   \n",
       "116  Nhà hẻm gần mặt tiền Phường 9 Quận 8 - Gần cầu...   \n",
       "117   Bán nhà hẻm gần chợ Bình Đông, Phường 14, Quận 8   \n",
       "118  Bán nhà hẻm xa ba gác gần chợ Rạch Ông, Phường...   \n",
       "119  Bán Nhà 1 Trệt 1 Lầu Mặt Tiền Đường Số Phường ...   \n",
       "\n",
       "                                  address orientation  \\\n",
       "0                    Đ. Ký Hòa, P.11, Q.5         Nam   \n",
       "1     Đ. Số 9A, X.Bình Hưng, H.Bình Chánh        Đông   \n",
       "2    Đ. Hoàng Quốc Việt, P.Phú Thuận, Q.7       T.Nam   \n",
       "3    Đ. Hoàng Quốc Việt, P.Phú Thuận, Q.7       Đ.Nam   \n",
       "4           Đ. Mai Chí Thọ, P.An Phú, Q.2       Đ.Nam   \n",
       "..                                    ...         ...   \n",
       "115  Đ. Số 15E, X.Phong Phú, H.Bình Chánh       Đ.Bắc   \n",
       "116                 Đ. Hưng Phú, P.9, Q.8       Đ.Bắc   \n",
       "117               Đ. Bình Đông, P.14, Q.8       T.Bắc   \n",
       "118           Đ. Nguyễn Thị Tần, P.2, Q.8       T.Bắc   \n",
       "119                Đ. Số 1, P.Phú Mỹ, Q.7       T.Nam   \n",
       "\n",
       "                                           detail_link   post_id  \n",
       "0         https://propzy.vn/mua/nha/hcm/quan-5/id34612   id34612  \n",
       "1    https://propzy.vn/mua/can-ho/hcm/huyen-binh-ch...  id380194  \n",
       "2     https://propzy.vn/mua/can-ho/hcm/quan-7/id376244  id376244  \n",
       "3     https://propzy.vn/mua/can-ho/hcm/quan-7/id331419  id331419  \n",
       "4     https://propzy.vn/mua/can-ho/hcm/quan-2/id247808  id247808  \n",
       "..                                                 ...       ...  \n",
       "115  https://propzy.vn/mua/nha/hcm/huyen-binh-chanh...  id388399  \n",
       "116      https://propzy.vn/mua/nha/hcm/quan-8/id388637  id388637  \n",
       "117      https://propzy.vn/mua/nha/hcm/quan-8/id388694  id388694  \n",
       "118      https://propzy.vn/mua/nha/hcm/quan-8/id388725  id388725  \n",
       "119      https://propzy.vn/mua/nha/hcm/quan-7/id388786  id388786  \n",
       "\n",
       "[120 rows x 6 columns]"
      ]
     },
     "execution_count": 21,
     "metadata": {},
     "output_type": "execute_result"
    }
   ],
   "source": [
    "result"
   ]
  },
  {
   "cell_type": "markdown",
   "id": "47af8d4d",
   "metadata": {},
   "source": [
    "### Check the different between result and df\n",
    "\n",
    "    Check column in dataframe, if in result, remove it"
   ]
  },
  {
   "cell_type": "code",
   "execution_count": 22,
   "id": "c425f796",
   "metadata": {},
   "outputs": [
    {
     "name": "stdout",
     "output_type": "stream",
     "text": [
      "['image_link', 'title', 'address', 'orientation', 'detail_link', 'post_id']\n"
     ]
    }
   ],
   "source": [
    "done_columns = []\n",
    "\n",
    "for col in df.columns:\n",
    "    if col in result.columns:\n",
    "        done_columns.append(col)\n",
    "        \n",
    "print(done_columns)"
   ]
  },
  {
   "cell_type": "markdown",
   "id": "871d6393",
   "metadata": {},
   "source": [
    "https://pandas.pydata.org/pandas-docs/stable/reference/api/pandas.DataFrame.drop.html\n",
    "\n",
    "DataFrame.drop(labels=None, axis=0, index=None, columns=None, level=None, inplace=False, errors='raise')"
   ]
  },
  {
   "cell_type": "code",
   "execution_count": 23,
   "id": "b0561d7f",
   "metadata": {},
   "outputs": [],
   "source": [
    "# Drop the done columns\n",
    "df = df.drop(done_columns,axis = 1)"
   ]
  },
  {
   "cell_type": "code",
   "execution_count": 24,
   "id": "e9cf5fde",
   "metadata": {},
   "outputs": [
    {
     "data": {
      "text/html": [
       "<div>\n",
       "<style scoped>\n",
       "    .dataframe tbody tr th:only-of-type {\n",
       "        vertical-align: middle;\n",
       "    }\n",
       "\n",
       "    .dataframe tbody tr th {\n",
       "        vertical-align: top;\n",
       "    }\n",
       "\n",
       "    .dataframe thead th {\n",
       "        text-align: right;\n",
       "    }\n",
       "</style>\n",
       "<table border=\"1\" class=\"dataframe\">\n",
       "  <thead>\n",
       "    <tr style=\"text-align: right;\">\n",
       "      <th></th>\n",
       "      <th>price</th>\n",
       "      <th>sqm_price</th>\n",
       "      <th>bathrooms</th>\n",
       "      <th>bedrooms</th>\n",
       "      <th>sqm</th>\n",
       "      <th>lat</th>\n",
       "      <th>long</th>\n",
       "    </tr>\n",
       "  </thead>\n",
       "  <tbody>\n",
       "    <tr>\n",
       "      <th>0</th>\n",
       "      <td>38 tỷ</td>\n",
       "      <td>213,5 triệu/m²</td>\n",
       "      <td>1</td>\n",
       "      <td>4</td>\n",
       "      <td>178.0</td>\n",
       "      <td>10.7665188</td>\n",
       "      <td>106.6769666</td>\n",
       "    </tr>\n",
       "    <tr>\n",
       "      <th>1</th>\n",
       "      <td>3,9 tỷ</td>\n",
       "      <td>59,1 triệu/m²</td>\n",
       "      <td>2</td>\n",
       "      <td>2</td>\n",
       "      <td>66.0</td>\n",
       "      <td>10.7168856</td>\n",
       "      <td>106.6706381</td>\n",
       "    </tr>\n",
       "    <tr>\n",
       "      <th>2</th>\n",
       "      <td>2,85 tỷ</td>\n",
       "      <td>31 triệu/m²</td>\n",
       "      <td>2</td>\n",
       "      <td>2</td>\n",
       "      <td>92.0</td>\n",
       "      <td>10.7137186</td>\n",
       "      <td>106.736866</td>\n",
       "    </tr>\n",
       "    <tr>\n",
       "      <th>3</th>\n",
       "      <td>4,18 tỷ</td>\n",
       "      <td>36,7 triệu/m²</td>\n",
       "      <td>2</td>\n",
       "      <td>3</td>\n",
       "      <td>113.9</td>\n",
       "      <td>10.7137186</td>\n",
       "      <td>106.736866</td>\n",
       "    </tr>\n",
       "    <tr>\n",
       "      <th>4</th>\n",
       "      <td>12 tỷ</td>\n",
       "      <td>183,8 triệu/m²</td>\n",
       "      <td>1</td>\n",
       "      <td>--</td>\n",
       "      <td>65.3</td>\n",
       "      <td>10.7965159</td>\n",
       "      <td>106.7523077</td>\n",
       "    </tr>\n",
       "  </tbody>\n",
       "</table>\n",
       "</div>"
      ],
      "text/plain": [
       "     price       sqm_price bathrooms bedrooms    sqm         lat         long\n",
       "0    38 tỷ  213,5 triệu/m²         1        4  178.0  10.7665188  106.6769666\n",
       "1   3,9 tỷ   59,1 triệu/m²         2        2   66.0  10.7168856  106.6706381\n",
       "2  2,85 tỷ     31 triệu/m²         2        2   92.0  10.7137186   106.736866\n",
       "3  4,18 tỷ   36,7 triệu/m²         2        3  113.9  10.7137186   106.736866\n",
       "4    12 tỷ  183,8 triệu/m²         1       --   65.3  10.7965159  106.7523077"
      ]
     },
     "execution_count": 24,
     "metadata": {},
     "output_type": "execute_result"
    }
   ],
   "source": [
    "df.head()"
   ]
  },
  {
   "cell_type": "markdown",
   "id": "61d97777",
   "metadata": {},
   "source": [
    "### inspect a likely Integer column\n",
    "\n",
    "    - bathrooms: just a value and the value's number , inspect by pie plot\n",
    "    - bedrooms\n",
    "    - sqm\n",
    "    - lat\n",
    "    - long\n"
   ]
  },
  {
   "cell_type": "code",
   "execution_count": 25,
   "id": "54a68291",
   "metadata": {},
   "outputs": [
    {
     "data": {
      "text/plain": [
       "array(['1', '2', '3', '85', '--', '4', '5', '6', '35'], dtype=object)"
      ]
     },
     "execution_count": 25,
     "metadata": {},
     "output_type": "execute_result"
    }
   ],
   "source": [
    "y = df['bathrooms'].unique()\n",
    "y"
   ]
  },
  {
   "cell_type": "code",
   "execution_count": 26,
   "id": "dbf46797",
   "metadata": {},
   "outputs": [
    {
     "name": "stdout",
     "output_type": "stream",
     "text": [
      "2     57\n",
      "1     29\n",
      "3     13\n",
      "--    10\n",
      "4      6\n",
      "5      2\n",
      "6      1\n",
      "35     1\n",
      "85     1\n",
      "Name: bathrooms, dtype: int64\n",
      "<class 'pandas.core.series.Series'>\n"
     ]
    }
   ],
   "source": [
    "x = df['bathrooms'].value_counts()\n",
    "print(x)\n",
    "print(type(x))"
   ]
  },
  {
   "cell_type": "code",
   "execution_count": 27,
   "id": "ce515c64",
   "metadata": {},
   "outputs": [
    {
     "data": {
      "text/plain": [
       "<AxesSubplot:>"
      ]
     },
     "execution_count": 27,
     "metadata": {},
     "output_type": "execute_result"
    },
    {
     "data": {
      "image/png": "[encoded data removed]",
      "text/plain": [
       "<Figure size 432x432 with 1 Axes>"
      ]
     },
     "metadata": {
      "needs_background": "light"
     },
     "output_type": "display_data"
    }
   ],
   "source": [
    "x.plot.bar(figsize = (6,6))"
   ]
  },
  {
   "cell_type": "code",
   "execution_count": 28,
   "id": "0f1329d7",
   "metadata": {},
   "outputs": [
    {
     "data": {
      "text/plain": [
       "2     0.475000\n",
       "1     0.241667\n",
       "3     0.108333\n",
       "--    0.083333\n",
       "4     0.050000\n",
       "5     0.016667\n",
       "6     0.008333\n",
       "35    0.008333\n",
       "85    0.008333\n",
       "Name: bathrooms, dtype: float64"
      ]
     },
     "execution_count": 28,
     "metadata": {},
     "output_type": "execute_result"
    }
   ],
   "source": [
    "x_normalize = df['bathrooms'].value_counts(normalize = True)\n",
    "x_normalize"
   ]
  },
  {
   "cell_type": "code",
   "execution_count": 29,
   "id": "580cec3e",
   "metadata": {},
   "outputs": [
    {
     "data": {
      "text/plain": [
       "<AxesSubplot:>"
      ]
     },
     "execution_count": 29,
     "metadata": {},
     "output_type": "execute_result"
    },
    {
     "data": {
      "image/png": "[encoded data removed]",
      "text/plain": [
       "<Figure size 432x288 with 1 Axes>"
      ]
     },
     "metadata": {
      "needs_background": "light"
     },
     "output_type": "display_data"
    }
   ],
   "source": [
    "x_normalize.plot.bar()"
   ]
  },
  {
   "cell_type": "code",
   "execution_count": 30,
   "id": "82342b6f",
   "metadata": {},
   "outputs": [],
   "source": [
    "a = df['bathrooms']"
   ]
  },
  {
   "cell_type": "code",
   "execution_count": 31,
   "id": "c427abbe",
   "metadata": {},
   "outputs": [],
   "source": [
    "a = a.replace(\"--\",'None')"
   ]
  },
  {
   "cell_type": "code",
   "execution_count": 32,
   "id": "a5b875e4",
   "metadata": {},
   "outputs": [
    {
     "data": {
      "text/plain": [
       "array(['1', '2', '3', '85', 'None', '4', '5', '6', '35'], dtype=object)"
      ]
     },
     "execution_count": 32,
     "metadata": {},
     "output_type": "execute_result"
    }
   ],
   "source": [
    "a.unique()"
   ]
  },
  {
   "cell_type": "code",
   "execution_count": 33,
   "id": "ffab4211",
   "metadata": {},
   "outputs": [],
   "source": [
    "def to_integer(x,banlist):\n",
    "    if x in banlist:\n",
    "        x = 0\n",
    "    return x"
   ]
  },
  {
   "cell_type": "code",
   "execution_count": 34,
   "id": "ff5921c5",
   "metadata": {},
   "outputs": [
    {
     "name": "stdout",
     "output_type": "stream",
     "text": [
      "1\n",
      "2\n",
      "3\n",
      "85\n",
      "0\n",
      "4\n",
      "5\n",
      "6\n",
      "35\n"
     ]
    }
   ],
   "source": [
    "for x in a.unique():\n",
    "    a = to_integer(x,banlist = ['None'])\n",
    "    print(a)"
   ]
  },
  {
   "cell_type": "code",
   "execution_count": 35,
   "id": "135510e6",
   "metadata": {},
   "outputs": [],
   "source": [
    "s = df['bathrooms']"
   ]
  },
  {
   "cell_type": "code",
   "execution_count": 36,
   "id": "e5aec9de",
   "metadata": {},
   "outputs": [],
   "source": [
    "s = s.apply(to_integer,args = (['--'],) )"
   ]
  },
  {
   "cell_type": "code",
   "execution_count": 37,
   "id": "6bb7a2f2",
   "metadata": {},
   "outputs": [
    {
     "data": {
      "text/plain": [
       "2     57\n",
       "1     29\n",
       "3     13\n",
       "0     10\n",
       "4      6\n",
       "5      2\n",
       "6      1\n",
       "35     1\n",
       "85     1\n",
       "Name: bathrooms, dtype: int64"
      ]
     },
     "execution_count": 37,
     "metadata": {},
     "output_type": "execute_result"
    }
   ],
   "source": [
    "s.value_counts()"
   ]
  },
  {
   "cell_type": "code",
   "execution_count": 40,
   "id": "c2a53568",
   "metadata": {},
   "outputs": [],
   "source": [
    "df['bathrooms'] = df['bathrooms'].apply(to_integer,args = (['--'],))\n",
    "df['bedrooms'] = df['bedrooms'].apply(to_integer,args = (['--'],))"
   ]
  },
  {
   "cell_type": "code",
   "execution_count": 41,
   "id": "530dd9f3",
   "metadata": {},
   "outputs": [],
   "source": [
    "convert_dict = {\"bedrooms\":int,\n",
    "               \"bathrooms\":int\n",
    "               }\n",
    "df = df.astype(convert_dict)"
   ]
  },
  {
   "cell_type": "code",
   "execution_count": 42,
   "id": "2cbc27bb",
   "metadata": {},
   "outputs": [
    {
     "data": {
      "text/plain": [
       "price        object\n",
       "sqm_price    object\n",
       "bathrooms     int32\n",
       "bedrooms      int32\n",
       "sqm          object\n",
       "lat          object\n",
       "long         object\n",
       "dtype: object"
      ]
     },
     "execution_count": 42,
     "metadata": {},
     "output_type": "execute_result"
    }
   ],
   "source": [
    "df.dtypes"
   ]
  },
  {
   "cell_type": "code",
   "execution_count": 43,
   "id": "0f27b78b",
   "metadata": {},
   "outputs": [],
   "source": [
    "result = pd.concat([result,df[['bathrooms','bedrooms']]],axis = 1)"
   ]
  },
  {
   "cell_type": "code",
   "execution_count": 44,
   "id": "415c867b",
   "metadata": {},
   "outputs": [
    {
     "data": {
      "text/plain": [
       "image_link     object\n",
       "title          object\n",
       "address        object\n",
       "orientation    object\n",
       "detail_link    object\n",
       "post_id        object\n",
       "bathrooms       int32\n",
       "bedrooms        int32\n",
       "dtype: object"
      ]
     },
     "execution_count": 44,
     "metadata": {},
     "output_type": "execute_result"
    }
   ],
   "source": [
    "result.dtypes"
   ]
  },
  {
   "cell_type": "code",
   "execution_count": 45,
   "id": "d248a94e",
   "metadata": {},
   "outputs": [],
   "source": [
    "df =df.drop(['bathrooms','bedrooms'],axis =1)"
   ]
  },
  {
   "cell_type": "code",
   "execution_count": 46,
   "id": "d4cd567e",
   "metadata": {},
   "outputs": [
    {
     "data": {
      "text/html": [
       "<div>\n",
       "<style scoped>\n",
       "    .dataframe tbody tr th:only-of-type {\n",
       "        vertical-align: middle;\n",
       "    }\n",
       "\n",
       "    .dataframe tbody tr th {\n",
       "        vertical-align: top;\n",
       "    }\n",
       "\n",
       "    .dataframe thead th {\n",
       "        text-align: right;\n",
       "    }\n",
       "</style>\n",
       "<table border=\"1\" class=\"dataframe\">\n",
       "  <thead>\n",
       "    <tr style=\"text-align: right;\">\n",
       "      <th></th>\n",
       "      <th>image_link</th>\n",
       "      <th>title</th>\n",
       "      <th>address</th>\n",
       "      <th>orientation</th>\n",
       "      <th>detail_link</th>\n",
       "      <th>post_id</th>\n",
       "      <th>bathrooms</th>\n",
       "      <th>bedrooms</th>\n",
       "    </tr>\n",
       "  </thead>\n",
       "  <tbody>\n",
       "    <tr>\n",
       "      <th>0</th>\n",
       "      <td>https://cdn.propzy.vn/listing/thumbnail/map/20...</td>\n",
       "      <td>Nhà mặt tiền quận 5 gần Đại Học Y Dược</td>\n",
       "      <td>Đ. Ký Hòa, P.11, Q.5</td>\n",
       "      <td>Nam</td>\n",
       "      <td>https://propzy.vn/mua/nha/hcm/quan-5/id34612</td>\n",
       "      <td>id34612</td>\n",
       "      <td>1</td>\n",
       "      <td>4</td>\n",
       "    </tr>\n",
       "    <tr>\n",
       "      <th>1</th>\n",
       "      <td>https://cdn.propzy.vn/listing/thumbnail/map/20...</td>\n",
       "      <td>Bán căn hộ cao cấp 2PN tại chung cư SaiGon Mia...</td>\n",
       "      <td>Đ. Số 9A, X.Bình Hưng, H.Bình Chánh</td>\n",
       "      <td>Đông</td>\n",
       "      <td>https://propzy.vn/mua/can-ho/hcm/huyen-binh-ch...</td>\n",
       "      <td>id380194</td>\n",
       "      <td>2</td>\n",
       "      <td>2</td>\n",
       "    </tr>\n",
       "    <tr>\n",
       "      <th>2</th>\n",
       "      <td>https://cdn.propzy.vn/listing/thumbnail/map/20...</td>\n",
       "      <td>CC La Casa Bán căn hộ 2 phòng ngủ - đầy đủ tiệ...</td>\n",
       "      <td>Đ. Hoàng Quốc Việt, P.Phú Thuận, Q.7</td>\n",
       "      <td>T.Nam</td>\n",
       "      <td>https://propzy.vn/mua/can-ho/hcm/quan-7/id376244</td>\n",
       "      <td>id376244</td>\n",
       "      <td>2</td>\n",
       "      <td>2</td>\n",
       "    </tr>\n",
       "    <tr>\n",
       "      <th>3</th>\n",
       "      <td>https://cdn.propzy.vn/listing/thumbnail/map/20...</td>\n",
       "      <td>River Panorama Bán Căn Góc Dual- key 3PN 2WC -...</td>\n",
       "      <td>Đ. Hoàng Quốc Việt, P.Phú Thuận, Q.7</td>\n",
       "      <td>Đ.Nam</td>\n",
       "      <td>https://propzy.vn/mua/can-ho/hcm/quan-7/id331419</td>\n",
       "      <td>id331419</td>\n",
       "      <td>2</td>\n",
       "      <td>3</td>\n",
       "    </tr>\n",
       "    <tr>\n",
       "      <th>4</th>\n",
       "      <td>https://cdn.propzy.vn/listing/thumbnail/map/20...</td>\n",
       "      <td>Bán căn Shophouse, có nội thất, chung cư The S...</td>\n",
       "      <td>Đ. Mai Chí Thọ, P.An Phú, Q.2</td>\n",
       "      <td>Đ.Nam</td>\n",
       "      <td>https://propzy.vn/mua/can-ho/hcm/quan-2/id247808</td>\n",
       "      <td>id247808</td>\n",
       "      <td>1</td>\n",
       "      <td>0</td>\n",
       "    </tr>\n",
       "  </tbody>\n",
       "</table>\n",
       "</div>"
      ],
      "text/plain": [
       "                                          image_link  \\\n",
       "0  https://cdn.propzy.vn/listing/thumbnail/map/20...   \n",
       "1  https://cdn.propzy.vn/listing/thumbnail/map/20...   \n",
       "2  https://cdn.propzy.vn/listing/thumbnail/map/20...   \n",
       "3  https://cdn.propzy.vn/listing/thumbnail/map/20...   \n",
       "4  https://cdn.propzy.vn/listing/thumbnail/map/20...   \n",
       "\n",
       "                                               title  \\\n",
       "0             Nhà mặt tiền quận 5 gần Đại Học Y Dược   \n",
       "1  Bán căn hộ cao cấp 2PN tại chung cư SaiGon Mia...   \n",
       "2  CC La Casa Bán căn hộ 2 phòng ngủ - đầy đủ tiệ...   \n",
       "3  River Panorama Bán Căn Góc Dual- key 3PN 2WC -...   \n",
       "4  Bán căn Shophouse, có nội thất, chung cư The S...   \n",
       "\n",
       "                                address orientation  \\\n",
       "0                  Đ. Ký Hòa, P.11, Q.5         Nam   \n",
       "1   Đ. Số 9A, X.Bình Hưng, H.Bình Chánh        Đông   \n",
       "2  Đ. Hoàng Quốc Việt, P.Phú Thuận, Q.7       T.Nam   \n",
       "3  Đ. Hoàng Quốc Việt, P.Phú Thuận, Q.7       Đ.Nam   \n",
       "4         Đ. Mai Chí Thọ, P.An Phú, Q.2       Đ.Nam   \n",
       "\n",
       "                                         detail_link   post_id  bathrooms  \\\n",
       "0       https://propzy.vn/mua/nha/hcm/quan-5/id34612   id34612          1   \n",
       "1  https://propzy.vn/mua/can-ho/hcm/huyen-binh-ch...  id380194          2   \n",
       "2   https://propzy.vn/mua/can-ho/hcm/quan-7/id376244  id376244          2   \n",
       "3   https://propzy.vn/mua/can-ho/hcm/quan-7/id331419  id331419          2   \n",
       "4   https://propzy.vn/mua/can-ho/hcm/quan-2/id247808  id247808          1   \n",
       "\n",
       "   bedrooms  \n",
       "0         4  \n",
       "1         2  \n",
       "2         2  \n",
       "3         3  \n",
       "4         0  "
      ]
     },
     "execution_count": 46,
     "metadata": {},
     "output_type": "execute_result"
    }
   ],
   "source": [
    "result.head()"
   ]
  },
  {
   "cell_type": "code",
   "execution_count": 47,
   "id": "03ffeda6",
   "metadata": {},
   "outputs": [
    {
     "data": {
      "text/html": [
       "<div>\n",
       "<style scoped>\n",
       "    .dataframe tbody tr th:only-of-type {\n",
       "        vertical-align: middle;\n",
       "    }\n",
       "\n",
       "    .dataframe tbody tr th {\n",
       "        vertical-align: top;\n",
       "    }\n",
       "\n",
       "    .dataframe thead th {\n",
       "        text-align: right;\n",
       "    }\n",
       "</style>\n",
       "<table border=\"1\" class=\"dataframe\">\n",
       "  <thead>\n",
       "    <tr style=\"text-align: right;\">\n",
       "      <th></th>\n",
       "      <th>price</th>\n",
       "      <th>sqm_price</th>\n",
       "      <th>sqm</th>\n",
       "      <th>lat</th>\n",
       "      <th>long</th>\n",
       "    </tr>\n",
       "  </thead>\n",
       "  <tbody>\n",
       "    <tr>\n",
       "      <th>0</th>\n",
       "      <td>38 tỷ</td>\n",
       "      <td>213,5 triệu/m²</td>\n",
       "      <td>178.0</td>\n",
       "      <td>10.7665188</td>\n",
       "      <td>106.6769666</td>\n",
       "    </tr>\n",
       "    <tr>\n",
       "      <th>1</th>\n",
       "      <td>3,9 tỷ</td>\n",
       "      <td>59,1 triệu/m²</td>\n",
       "      <td>66.0</td>\n",
       "      <td>10.7168856</td>\n",
       "      <td>106.6706381</td>\n",
       "    </tr>\n",
       "    <tr>\n",
       "      <th>2</th>\n",
       "      <td>2,85 tỷ</td>\n",
       "      <td>31 triệu/m²</td>\n",
       "      <td>92.0</td>\n",
       "      <td>10.7137186</td>\n",
       "      <td>106.736866</td>\n",
       "    </tr>\n",
       "    <tr>\n",
       "      <th>3</th>\n",
       "      <td>4,18 tỷ</td>\n",
       "      <td>36,7 triệu/m²</td>\n",
       "      <td>113.9</td>\n",
       "      <td>10.7137186</td>\n",
       "      <td>106.736866</td>\n",
       "    </tr>\n",
       "    <tr>\n",
       "      <th>4</th>\n",
       "      <td>12 tỷ</td>\n",
       "      <td>183,8 triệu/m²</td>\n",
       "      <td>65.3</td>\n",
       "      <td>10.7965159</td>\n",
       "      <td>106.7523077</td>\n",
       "    </tr>\n",
       "  </tbody>\n",
       "</table>\n",
       "</div>"
      ],
      "text/plain": [
       "     price       sqm_price    sqm         lat         long\n",
       "0    38 tỷ  213,5 triệu/m²  178.0  10.7665188  106.6769666\n",
       "1   3,9 tỷ   59,1 triệu/m²   66.0  10.7168856  106.6706381\n",
       "2  2,85 tỷ     31 triệu/m²   92.0  10.7137186   106.736866\n",
       "3  4,18 tỷ   36,7 triệu/m²  113.9  10.7137186   106.736866\n",
       "4    12 tỷ  183,8 triệu/m²   65.3  10.7965159  106.7523077"
      ]
     },
     "execution_count": 47,
     "metadata": {},
     "output_type": "execute_result"
    }
   ],
   "source": [
    "df.head()"
   ]
  },
  {
   "cell_type": "code",
   "execution_count": 48,
   "id": "b2e61e76",
   "metadata": {},
   "outputs": [],
   "source": [
    "def to_float(x,bandlist):\n",
    "    if x in bandlist:\n",
    "        x = 0\n",
    "    return float(x)"
   ]
  },
  {
   "cell_type": "code",
   "execution_count": 49,
   "id": "b87704ba",
   "metadata": {},
   "outputs": [
    {
     "ename": "ValueError",
     "evalue": "could not convert string to float: '1,083.9'",
     "output_type": "error",
     "traceback": [
      "\u001b[1;31m---------------------------------------------------------------------------\u001b[0m",
      "\u001b[1;31mValueError\u001b[0m                                Traceback (most recent call last)",
      "\u001b[1;32m<ipython-input-49-021e6b060bd9>\u001b[0m in \u001b[0;36m<module>\u001b[1;34m\u001b[0m\n\u001b[1;32m----> 1\u001b[1;33m \u001b[0mdf\u001b[0m\u001b[1;33m[\u001b[0m\u001b[1;34m'sqm'\u001b[0m\u001b[1;33m]\u001b[0m \u001b[1;33m=\u001b[0m \u001b[0mdf\u001b[0m\u001b[1;33m[\u001b[0m\u001b[1;34m'sqm'\u001b[0m\u001b[1;33m]\u001b[0m\u001b[1;33m.\u001b[0m\u001b[0mapply\u001b[0m\u001b[1;33m(\u001b[0m\u001b[0mto_float\u001b[0m\u001b[1;33m,\u001b[0m \u001b[0margs\u001b[0m \u001b[1;33m=\u001b[0m \u001b[1;33m(\u001b[0m\u001b[1;33m[\u001b[0m\u001b[1;34m'None'\u001b[0m\u001b[1;33m]\u001b[0m\u001b[1;33m,\u001b[0m\u001b[1;33m)\u001b[0m\u001b[1;33m)\u001b[0m\u001b[1;33m\u001b[0m\u001b[1;33m\u001b[0m\u001b[0m\n\u001b[0m",
      "\u001b[1;32m~\\anaconda3\\lib\\site-packages\\pandas\\core\\series.py\u001b[0m in \u001b[0;36mapply\u001b[1;34m(self, func, convert_dtype, args, **kwds)\u001b[0m\n\u001b[0;32m   4136\u001b[0m             \u001b[1;32melse\u001b[0m\u001b[1;33m:\u001b[0m\u001b[1;33m\u001b[0m\u001b[1;33m\u001b[0m\u001b[0m\n\u001b[0;32m   4137\u001b[0m                 \u001b[0mvalues\u001b[0m \u001b[1;33m=\u001b[0m \u001b[0mself\u001b[0m\u001b[1;33m.\u001b[0m\u001b[0mastype\u001b[0m\u001b[1;33m(\u001b[0m\u001b[0mobject\u001b[0m\u001b[1;33m)\u001b[0m\u001b[1;33m.\u001b[0m\u001b[0m_values\u001b[0m\u001b[1;33m\u001b[0m\u001b[1;33m\u001b[0m\u001b[0m\n\u001b[1;32m-> 4138\u001b[1;33m                 \u001b[0mmapped\u001b[0m \u001b[1;33m=\u001b[0m \u001b[0mlib\u001b[0m\u001b[1;33m.\u001b[0m\u001b[0mmap_infer\u001b[0m\u001b[1;33m(\u001b[0m\u001b[0mvalues\u001b[0m\u001b[1;33m,\u001b[0m \u001b[0mf\u001b[0m\u001b[1;33m,\u001b[0m \u001b[0mconvert\u001b[0m\u001b[1;33m=\u001b[0m\u001b[0mconvert_dtype\u001b[0m\u001b[1;33m)\u001b[0m\u001b[1;33m\u001b[0m\u001b[1;33m\u001b[0m\u001b[0m\n\u001b[0m\u001b[0;32m   4139\u001b[0m \u001b[1;33m\u001b[0m\u001b[0m\n\u001b[0;32m   4140\u001b[0m         \u001b[1;32mif\u001b[0m \u001b[0mlen\u001b[0m\u001b[1;33m(\u001b[0m\u001b[0mmapped\u001b[0m\u001b[1;33m)\u001b[0m \u001b[1;32mand\u001b[0m \u001b[0misinstance\u001b[0m\u001b[1;33m(\u001b[0m\u001b[0mmapped\u001b[0m\u001b[1;33m[\u001b[0m\u001b[1;36m0\u001b[0m\u001b[1;33m]\u001b[0m\u001b[1;33m,\u001b[0m \u001b[0mSeries\u001b[0m\u001b[1;33m)\u001b[0m\u001b[1;33m:\u001b[0m\u001b[1;33m\u001b[0m\u001b[1;33m\u001b[0m\u001b[0m\n",
      "\u001b[1;32mpandas\\_libs\\lib.pyx\u001b[0m in \u001b[0;36mpandas._libs.lib.map_infer\u001b[1;34m()\u001b[0m\n",
      "\u001b[1;32m~\\anaconda3\\lib\\site-packages\\pandas\\core\\series.py\u001b[0m in \u001b[0;36mf\u001b[1;34m(x)\u001b[0m\n\u001b[0;32m   4121\u001b[0m \u001b[1;33m\u001b[0m\u001b[0m\n\u001b[0;32m   4122\u001b[0m             \u001b[1;32mdef\u001b[0m \u001b[0mf\u001b[0m\u001b[1;33m(\u001b[0m\u001b[0mx\u001b[0m\u001b[1;33m)\u001b[0m\u001b[1;33m:\u001b[0m\u001b[1;33m\u001b[0m\u001b[1;33m\u001b[0m\u001b[0m\n\u001b[1;32m-> 4123\u001b[1;33m                 \u001b[1;32mreturn\u001b[0m \u001b[0mfunc\u001b[0m\u001b[1;33m(\u001b[0m\u001b[0mx\u001b[0m\u001b[1;33m,\u001b[0m \u001b[1;33m*\u001b[0m\u001b[0margs\u001b[0m\u001b[1;33m,\u001b[0m \u001b[1;33m**\u001b[0m\u001b[0mkwds\u001b[0m\u001b[1;33m)\u001b[0m\u001b[1;33m\u001b[0m\u001b[1;33m\u001b[0m\u001b[0m\n\u001b[0m\u001b[0;32m   4124\u001b[0m \u001b[1;33m\u001b[0m\u001b[0m\n\u001b[0;32m   4125\u001b[0m         \u001b[1;32melse\u001b[0m\u001b[1;33m:\u001b[0m\u001b[1;33m\u001b[0m\u001b[1;33m\u001b[0m\u001b[0m\n",
      "\u001b[1;32m<ipython-input-48-5cdb2d33cc3a>\u001b[0m in \u001b[0;36mto_float\u001b[1;34m(x, bandlist)\u001b[0m\n\u001b[0;32m      2\u001b[0m     \u001b[1;32mif\u001b[0m \u001b[0mx\u001b[0m \u001b[1;32min\u001b[0m \u001b[0mbandlist\u001b[0m\u001b[1;33m:\u001b[0m\u001b[1;33m\u001b[0m\u001b[1;33m\u001b[0m\u001b[0m\n\u001b[0;32m      3\u001b[0m         \u001b[0mx\u001b[0m \u001b[1;33m=\u001b[0m \u001b[1;36m0\u001b[0m\u001b[1;33m\u001b[0m\u001b[1;33m\u001b[0m\u001b[0m\n\u001b[1;32m----> 4\u001b[1;33m     \u001b[1;32mreturn\u001b[0m \u001b[0mfloat\u001b[0m\u001b[1;33m(\u001b[0m\u001b[0mx\u001b[0m\u001b[1;33m)\u001b[0m\u001b[1;33m\u001b[0m\u001b[1;33m\u001b[0m\u001b[0m\n\u001b[0m",
      "\u001b[1;31mValueError\u001b[0m: could not convert string to float: '1,083.9'"
     ]
    }
   ],
   "source": [
    "df['sqm'] = df['sqm'].apply(to_float, args = (['None'],))"
   ]
  },
  {
   "cell_type": "code",
   "execution_count": 50,
   "id": "fdade6b3",
   "metadata": {},
   "outputs": [],
   "source": [
    "t =\"1,083.9\""
   ]
  },
  {
   "cell_type": "code",
   "execution_count": 51,
   "id": "3af78a2d",
   "metadata": {},
   "outputs": [
    {
     "data": {
      "text/plain": [
       "'1083.9'"
      ]
     },
     "execution_count": 51,
     "metadata": {},
     "output_type": "execute_result"
    }
   ],
   "source": [
    "t.replace(\",\",\"\")"
   ]
  },
  {
   "cell_type": "code",
   "execution_count": 52,
   "id": "6e648d08",
   "metadata": {},
   "outputs": [],
   "source": [
    "s = df['sqm'].apply(lambda x:x.replace(\",\",\"\"))"
   ]
  },
  {
   "cell_type": "code",
   "execution_count": 53,
   "id": "9751eee8",
   "metadata": {},
   "outputs": [
    {
     "data": {
      "text/plain": [
       "0      178.0\n",
       "1       66.0\n",
       "2       92.0\n",
       "3      113.9\n",
       "4       65.3\n",
       "       ...  \n",
       "115    112.0\n",
       "116     26.5\n",
       "117     20.5\n",
       "118     48.0\n",
       "119     74.4\n",
       "Name: sqm, Length: 120, dtype: float64"
      ]
     },
     "execution_count": 53,
     "metadata": {},
     "output_type": "execute_result"
    }
   ],
   "source": [
    "s.apply(to_float,args = (['None','--'],))"
   ]
  },
  {
   "cell_type": "code",
   "execution_count": 54,
   "id": "d9e82bb0",
   "metadata": {},
   "outputs": [],
   "source": [
    "df['sqm'] = s"
   ]
  },
  {
   "cell_type": "code",
   "execution_count": 55,
   "id": "25044cfa",
   "metadata": {},
   "outputs": [],
   "source": [
    "convert_dict = {'sqm':float}"
   ]
  },
  {
   "cell_type": "code",
   "execution_count": 56,
   "id": "9016481b",
   "metadata": {},
   "outputs": [],
   "source": [
    "df = df.astype(convert_dict)"
   ]
  },
  {
   "cell_type": "code",
   "execution_count": 57,
   "id": "fb603dae",
   "metadata": {},
   "outputs": [
    {
     "data": {
      "text/plain": [
       "price         object\n",
       "sqm_price     object\n",
       "sqm          float64\n",
       "lat           object\n",
       "long          object\n",
       "dtype: object"
      ]
     },
     "execution_count": 57,
     "metadata": {},
     "output_type": "execute_result"
    }
   ],
   "source": [
    "df.dtypes"
   ]
  },
  {
   "cell_type": "code",
   "execution_count": 58,
   "id": "c0fe7b58",
   "metadata": {},
   "outputs": [],
   "source": [
    "result = pd.concat([result,df['sqm']],axis = 1)\n",
    "\n",
    "df = df.drop(['sqm'],axis = 1)"
   ]
  },
  {
   "cell_type": "code",
   "execution_count": 59,
   "id": "d1316804",
   "metadata": {},
   "outputs": [
    {
     "data": {
      "text/plain": [
       "image_link      object\n",
       "title           object\n",
       "address         object\n",
       "orientation     object\n",
       "detail_link     object\n",
       "post_id         object\n",
       "bathrooms        int32\n",
       "bedrooms         int32\n",
       "sqm            float64\n",
       "dtype: object"
      ]
     },
     "execution_count": 59,
     "metadata": {},
     "output_type": "execute_result"
    }
   ],
   "source": [
    "result.dtypes"
   ]
  },
  {
   "cell_type": "code",
   "execution_count": 60,
   "id": "598750ae",
   "metadata": {},
   "outputs": [
    {
     "data": {
      "text/plain": [
       "price        object\n",
       "sqm_price    object\n",
       "lat          object\n",
       "long         object\n",
       "dtype: object"
      ]
     },
     "execution_count": 60,
     "metadata": {},
     "output_type": "execute_result"
    }
   ],
   "source": [
    "df.dtypes"
   ]
  },
  {
   "cell_type": "code",
   "execution_count": 61,
   "id": "34c0b7a9",
   "metadata": {},
   "outputs": [
    {
     "data": {
      "text/html": [
       "<div>\n",
       "<style scoped>\n",
       "    .dataframe tbody tr th:only-of-type {\n",
       "        vertical-align: middle;\n",
       "    }\n",
       "\n",
       "    .dataframe tbody tr th {\n",
       "        vertical-align: top;\n",
       "    }\n",
       "\n",
       "    .dataframe thead th {\n",
       "        text-align: right;\n",
       "    }\n",
       "</style>\n",
       "<table border=\"1\" class=\"dataframe\">\n",
       "  <thead>\n",
       "    <tr style=\"text-align: right;\">\n",
       "      <th></th>\n",
       "      <th>price</th>\n",
       "      <th>sqm_price</th>\n",
       "      <th>lat</th>\n",
       "      <th>long</th>\n",
       "    </tr>\n",
       "  </thead>\n",
       "  <tbody>\n",
       "    <tr>\n",
       "      <th>0</th>\n",
       "      <td>38 tỷ</td>\n",
       "      <td>213,5 triệu/m²</td>\n",
       "      <td>10.7665188</td>\n",
       "      <td>106.6769666</td>\n",
       "    </tr>\n",
       "    <tr>\n",
       "      <th>1</th>\n",
       "      <td>3,9 tỷ</td>\n",
       "      <td>59,1 triệu/m²</td>\n",
       "      <td>10.7168856</td>\n",
       "      <td>106.6706381</td>\n",
       "    </tr>\n",
       "    <tr>\n",
       "      <th>2</th>\n",
       "      <td>2,85 tỷ</td>\n",
       "      <td>31 triệu/m²</td>\n",
       "      <td>10.7137186</td>\n",
       "      <td>106.736866</td>\n",
       "    </tr>\n",
       "    <tr>\n",
       "      <th>3</th>\n",
       "      <td>4,18 tỷ</td>\n",
       "      <td>36,7 triệu/m²</td>\n",
       "      <td>10.7137186</td>\n",
       "      <td>106.736866</td>\n",
       "    </tr>\n",
       "    <tr>\n",
       "      <th>4</th>\n",
       "      <td>12 tỷ</td>\n",
       "      <td>183,8 triệu/m²</td>\n",
       "      <td>10.7965159</td>\n",
       "      <td>106.7523077</td>\n",
       "    </tr>\n",
       "  </tbody>\n",
       "</table>\n",
       "</div>"
      ],
      "text/plain": [
       "     price       sqm_price         lat         long\n",
       "0    38 tỷ  213,5 triệu/m²  10.7665188  106.6769666\n",
       "1   3,9 tỷ   59,1 triệu/m²  10.7168856  106.6706381\n",
       "2  2,85 tỷ     31 triệu/m²  10.7137186   106.736866\n",
       "3  4,18 tỷ   36,7 triệu/m²  10.7137186   106.736866\n",
       "4    12 tỷ  183,8 triệu/m²  10.7965159  106.7523077"
      ]
     },
     "execution_count": 61,
     "metadata": {},
     "output_type": "execute_result"
    }
   ],
   "source": [
    "df.head()"
   ]
  },
  {
   "cell_type": "code",
   "execution_count": 62,
   "id": "d2e209e0",
   "metadata": {},
   "outputs": [
    {
     "ename": "ValueError",
     "evalue": "could not convert string to float: '%C4%90.+S%E1%BB%91+9'",
     "output_type": "error",
     "traceback": [
      "\u001b[1;31m---------------------------------------------------------------------------\u001b[0m",
      "\u001b[1;31mValueError\u001b[0m                                Traceback (most recent call last)",
      "\u001b[1;32m<ipython-input-62-96b4524f1bdb>\u001b[0m in \u001b[0;36m<module>\u001b[1;34m\u001b[0m\n\u001b[1;32m----> 1\u001b[1;33m \u001b[0mdf\u001b[0m\u001b[1;33m[\u001b[0m\u001b[1;34m'lat'\u001b[0m\u001b[1;33m]\u001b[0m\u001b[1;33m.\u001b[0m\u001b[0mapply\u001b[0m\u001b[1;33m(\u001b[0m\u001b[0mto_float\u001b[0m\u001b[1;33m,\u001b[0m \u001b[0margs\u001b[0m \u001b[1;33m=\u001b[0m \u001b[1;33m(\u001b[0m\u001b[1;33m[\u001b[0m\u001b[1;34m'None'\u001b[0m\u001b[1;33m,\u001b[0m\u001b[1;34m'--'\u001b[0m\u001b[1;33m]\u001b[0m\u001b[1;33m,\u001b[0m\u001b[1;33m)\u001b[0m\u001b[1;33m)\u001b[0m\u001b[1;33m\u001b[0m\u001b[1;33m\u001b[0m\u001b[0m\n\u001b[0m",
      "\u001b[1;32m~\\anaconda3\\lib\\site-packages\\pandas\\core\\series.py\u001b[0m in \u001b[0;36mapply\u001b[1;34m(self, func, convert_dtype, args, **kwds)\u001b[0m\n\u001b[0;32m   4136\u001b[0m             \u001b[1;32melse\u001b[0m\u001b[1;33m:\u001b[0m\u001b[1;33m\u001b[0m\u001b[1;33m\u001b[0m\u001b[0m\n\u001b[0;32m   4137\u001b[0m                 \u001b[0mvalues\u001b[0m \u001b[1;33m=\u001b[0m \u001b[0mself\u001b[0m\u001b[1;33m.\u001b[0m\u001b[0mastype\u001b[0m\u001b[1;33m(\u001b[0m\u001b[0mobject\u001b[0m\u001b[1;33m)\u001b[0m\u001b[1;33m.\u001b[0m\u001b[0m_values\u001b[0m\u001b[1;33m\u001b[0m\u001b[1;33m\u001b[0m\u001b[0m\n\u001b[1;32m-> 4138\u001b[1;33m                 \u001b[0mmapped\u001b[0m \u001b[1;33m=\u001b[0m \u001b[0mlib\u001b[0m\u001b[1;33m.\u001b[0m\u001b[0mmap_infer\u001b[0m\u001b[1;33m(\u001b[0m\u001b[0mvalues\u001b[0m\u001b[1;33m,\u001b[0m \u001b[0mf\u001b[0m\u001b[1;33m,\u001b[0m \u001b[0mconvert\u001b[0m\u001b[1;33m=\u001b[0m\u001b[0mconvert_dtype\u001b[0m\u001b[1;33m)\u001b[0m\u001b[1;33m\u001b[0m\u001b[1;33m\u001b[0m\u001b[0m\n\u001b[0m\u001b[0;32m   4139\u001b[0m \u001b[1;33m\u001b[0m\u001b[0m\n\u001b[0;32m   4140\u001b[0m         \u001b[1;32mif\u001b[0m \u001b[0mlen\u001b[0m\u001b[1;33m(\u001b[0m\u001b[0mmapped\u001b[0m\u001b[1;33m)\u001b[0m \u001b[1;32mand\u001b[0m \u001b[0misinstance\u001b[0m\u001b[1;33m(\u001b[0m\u001b[0mmapped\u001b[0m\u001b[1;33m[\u001b[0m\u001b[1;36m0\u001b[0m\u001b[1;33m]\u001b[0m\u001b[1;33m,\u001b[0m \u001b[0mSeries\u001b[0m\u001b[1;33m)\u001b[0m\u001b[1;33m:\u001b[0m\u001b[1;33m\u001b[0m\u001b[1;33m\u001b[0m\u001b[0m\n",
      "\u001b[1;32mpandas\\_libs\\lib.pyx\u001b[0m in \u001b[0;36mpandas._libs.lib.map_infer\u001b[1;34m()\u001b[0m\n",
      "\u001b[1;32m~\\anaconda3\\lib\\site-packages\\pandas\\core\\series.py\u001b[0m in \u001b[0;36mf\u001b[1;34m(x)\u001b[0m\n\u001b[0;32m   4121\u001b[0m \u001b[1;33m\u001b[0m\u001b[0m\n\u001b[0;32m   4122\u001b[0m             \u001b[1;32mdef\u001b[0m \u001b[0mf\u001b[0m\u001b[1;33m(\u001b[0m\u001b[0mx\u001b[0m\u001b[1;33m)\u001b[0m\u001b[1;33m:\u001b[0m\u001b[1;33m\u001b[0m\u001b[1;33m\u001b[0m\u001b[0m\n\u001b[1;32m-> 4123\u001b[1;33m                 \u001b[1;32mreturn\u001b[0m \u001b[0mfunc\u001b[0m\u001b[1;33m(\u001b[0m\u001b[0mx\u001b[0m\u001b[1;33m,\u001b[0m \u001b[1;33m*\u001b[0m\u001b[0margs\u001b[0m\u001b[1;33m,\u001b[0m \u001b[1;33m**\u001b[0m\u001b[0mkwds\u001b[0m\u001b[1;33m)\u001b[0m\u001b[1;33m\u001b[0m\u001b[1;33m\u001b[0m\u001b[0m\n\u001b[0m\u001b[0;32m   4124\u001b[0m \u001b[1;33m\u001b[0m\u001b[0m\n\u001b[0;32m   4125\u001b[0m         \u001b[1;32melse\u001b[0m\u001b[1;33m:\u001b[0m\u001b[1;33m\u001b[0m\u001b[1;33m\u001b[0m\u001b[0m\n",
      "\u001b[1;32m<ipython-input-48-5cdb2d33cc3a>\u001b[0m in \u001b[0;36mto_float\u001b[1;34m(x, bandlist)\u001b[0m\n\u001b[0;32m      2\u001b[0m     \u001b[1;32mif\u001b[0m \u001b[0mx\u001b[0m \u001b[1;32min\u001b[0m \u001b[0mbandlist\u001b[0m\u001b[1;33m:\u001b[0m\u001b[1;33m\u001b[0m\u001b[1;33m\u001b[0m\u001b[0m\n\u001b[0;32m      3\u001b[0m         \u001b[0mx\u001b[0m \u001b[1;33m=\u001b[0m \u001b[1;36m0\u001b[0m\u001b[1;33m\u001b[0m\u001b[1;33m\u001b[0m\u001b[0m\n\u001b[1;32m----> 4\u001b[1;33m     \u001b[1;32mreturn\u001b[0m \u001b[0mfloat\u001b[0m\u001b[1;33m(\u001b[0m\u001b[0mx\u001b[0m\u001b[1;33m)\u001b[0m\u001b[1;33m\u001b[0m\u001b[1;33m\u001b[0m\u001b[0m\n\u001b[0m",
      "\u001b[1;31mValueError\u001b[0m: could not convert string to float: '%C4%90.+S%E1%BB%91+9'"
     ]
    }
   ],
   "source": [
    "df['lat'].apply(to_float, args = (['None','--'],))"
   ]
  },
  {
   "cell_type": "code",
   "execution_count": 63,
   "id": "a9a9b405",
   "metadata": {},
   "outputs": [
    {
     "data": {
      "text/plain": [
       "76    %C4%90.+S%E1%BB%91+9\n",
       "Name: lat, dtype: object"
      ]
     },
     "execution_count": 63,
     "metadata": {},
     "output_type": "execute_result"
    }
   ],
   "source": [
    "df['lat'][df['lat'] == '%C4%90.+S%E1%BB%91+9']"
   ]
  },
  {
   "cell_type": "code",
   "execution_count": 64,
   "id": "f90f2b5d",
   "metadata": {},
   "outputs": [
    {
     "data": {
      "text/plain": [
       "'+P.Hi%E1%BB%87p+B%C3%ACnh+Ph%C6%B0%E1%BB%9Bc'"
      ]
     },
     "execution_count": 64,
     "metadata": {},
     "output_type": "execute_result"
    }
   ],
   "source": [
    "df['long'][76]"
   ]
  },
  {
   "cell_type": "markdown",
   "id": "5f727327",
   "metadata": {},
   "source": [
    "https://www.geeksforgeeks.org/indexing-and-selecting-data-with-pandas/result"
   ]
  },
  {
   "cell_type": "code",
   "execution_count": 65,
   "id": "cab41286",
   "metadata": {},
   "outputs": [
    {
     "data": {
      "text/plain": [
       "image_link     https://cdn.propzy.vn/listing/thumbnail/map/20...\n",
       "title          Bán dãy nhà trọ thu nhập ổn định hàng tháng, p...\n",
       "address                    Đ. Số 9, P.Hiệp Bình Phước, Q.Thủ Đức\n",
       "orientation                                                Đ.Bắc\n",
       "detail_link    https://propzy.vn/mua/nha/hcm/quan-thu-duc/id3...\n",
       "post_id                                                 id377698\n",
       "bathrooms                                                     35\n",
       "bedrooms                                                      35\n",
       "sqm                                                        601.8\n",
       "Name: 76, dtype: object"
      ]
     },
     "execution_count": 65,
     "metadata": {},
     "output_type": "execute_result"
    }
   ],
   "source": [
    "result.iloc[76]"
   ]
  },
  {
   "cell_type": "code",
   "execution_count": 66,
   "id": "56542ae5",
   "metadata": {},
   "outputs": [],
   "source": [
    "result =result.drop(76)"
   ]
  },
  {
   "cell_type": "code",
   "execution_count": 67,
   "id": "32550ff4",
   "metadata": {},
   "outputs": [
    {
     "data": {
      "text/plain": [
       "image_link     https://cdn.propzy.vn/listing/thumbnail/map/20...\n",
       "title          Chính chủ bán căn Officetel, chung cư The Sun ...\n",
       "address                            Đ. Mai Chí Thọ, P.An Phú, Q.2\n",
       "orientation                                                Đ.Bắc\n",
       "detail_link     https://propzy.vn/mua/can-ho/hcm/quan-2/id259786\n",
       "post_id                                                 id259786\n",
       "bathrooms                                                      1\n",
       "bedrooms                                                       1\n",
       "sqm                                                         51.1\n",
       "Name: 77, dtype: object"
      ]
     },
     "execution_count": 67,
     "metadata": {},
     "output_type": "execute_result"
    }
   ],
   "source": [
    "result.iloc[76]"
   ]
  },
  {
   "cell_type": "code",
   "execution_count": 68,
   "id": "0afdd48d",
   "metadata": {},
   "outputs": [
    {
     "data": {
      "text/plain": [
       "(119, 9)"
      ]
     },
     "execution_count": 68,
     "metadata": {},
     "output_type": "execute_result"
    }
   ],
   "source": [
    "result.shape"
   ]
  },
  {
   "cell_type": "code",
   "execution_count": 69,
   "id": "93ffd7e9",
   "metadata": {},
   "outputs": [],
   "source": [
    "df = df.drop(76)"
   ]
  },
  {
   "cell_type": "code",
   "execution_count": 70,
   "id": "d18b1bff",
   "metadata": {},
   "outputs": [
    {
     "data": {
      "text/plain": [
       "(119, 4)"
      ]
     },
     "execution_count": 70,
     "metadata": {},
     "output_type": "execute_result"
    }
   ],
   "source": [
    "df.shape"
   ]
  },
  {
   "cell_type": "code",
   "execution_count": 71,
   "id": "588a8526",
   "metadata": {},
   "outputs": [],
   "source": [
    "df['lat'] = df['lat'].apply(to_float, args = (['None','--'],))"
   ]
  },
  {
   "cell_type": "code",
   "execution_count": 72,
   "id": "eb3d22b6",
   "metadata": {},
   "outputs": [],
   "source": [
    "df['long'] = df['long'].apply(to_float, args = (['None','--'],))"
   ]
  },
  {
   "cell_type": "code",
   "execution_count": 73,
   "id": "f5c18db1",
   "metadata": {},
   "outputs": [],
   "source": [
    "convert_list = {'lat':float,\n",
    "            'long':float}\n",
    "df = df.astype(convert_list)"
   ]
  },
  {
   "cell_type": "code",
   "execution_count": 74,
   "id": "62e3461f",
   "metadata": {},
   "outputs": [
    {
     "data": {
      "text/plain": [
       "price         object\n",
       "sqm_price     object\n",
       "lat          float64\n",
       "long         float64\n",
       "dtype: object"
      ]
     },
     "execution_count": 74,
     "metadata": {},
     "output_type": "execute_result"
    }
   ],
   "source": [
    "df.dtypes"
   ]
  },
  {
   "cell_type": "code",
   "execution_count": 75,
   "id": "d5a1ef24",
   "metadata": {},
   "outputs": [],
   "source": [
    "result = pd.concat([result,df[['lat','long']]],axis = 1)"
   ]
  },
  {
   "cell_type": "code",
   "execution_count": 76,
   "id": "0d4c3e6a",
   "metadata": {},
   "outputs": [
    {
     "data": {
      "text/html": [
       "<div>\n",
       "<style scoped>\n",
       "    .dataframe tbody tr th:only-of-type {\n",
       "        vertical-align: middle;\n",
       "    }\n",
       "\n",
       "    .dataframe tbody tr th {\n",
       "        vertical-align: top;\n",
       "    }\n",
       "\n",
       "    .dataframe thead th {\n",
       "        text-align: right;\n",
       "    }\n",
       "</style>\n",
       "<table border=\"1\" class=\"dataframe\">\n",
       "  <thead>\n",
       "    <tr style=\"text-align: right;\">\n",
       "      <th></th>\n",
       "      <th>image_link</th>\n",
       "      <th>title</th>\n",
       "      <th>address</th>\n",
       "      <th>orientation</th>\n",
       "      <th>detail_link</th>\n",
       "      <th>post_id</th>\n",
       "      <th>bathrooms</th>\n",
       "      <th>bedrooms</th>\n",
       "      <th>sqm</th>\n",
       "      <th>lat</th>\n",
       "      <th>long</th>\n",
       "    </tr>\n",
       "  </thead>\n",
       "  <tbody>\n",
       "    <tr>\n",
       "      <th>0</th>\n",
       "      <td>https://cdn.propzy.vn/listing/thumbnail/map/20...</td>\n",
       "      <td>Nhà mặt tiền quận 5 gần Đại Học Y Dược</td>\n",
       "      <td>Đ. Ký Hòa, P.11, Q.5</td>\n",
       "      <td>Nam</td>\n",
       "      <td>https://propzy.vn/mua/nha/hcm/quan-5/id34612</td>\n",
       "      <td>id34612</td>\n",
       "      <td>1</td>\n",
       "      <td>4</td>\n",
       "      <td>178.0</td>\n",
       "      <td>10.766519</td>\n",
       "      <td>106.676967</td>\n",
       "    </tr>\n",
       "    <tr>\n",
       "      <th>1</th>\n",
       "      <td>https://cdn.propzy.vn/listing/thumbnail/map/20...</td>\n",
       "      <td>Bán căn hộ cao cấp 2PN tại chung cư SaiGon Mia...</td>\n",
       "      <td>Đ. Số 9A, X.Bình Hưng, H.Bình Chánh</td>\n",
       "      <td>Đông</td>\n",
       "      <td>https://propzy.vn/mua/can-ho/hcm/huyen-binh-ch...</td>\n",
       "      <td>id380194</td>\n",
       "      <td>2</td>\n",
       "      <td>2</td>\n",
       "      <td>66.0</td>\n",
       "      <td>10.716886</td>\n",
       "      <td>106.670638</td>\n",
       "    </tr>\n",
       "    <tr>\n",
       "      <th>2</th>\n",
       "      <td>https://cdn.propzy.vn/listing/thumbnail/map/20...</td>\n",
       "      <td>CC La Casa Bán căn hộ 2 phòng ngủ - đầy đủ tiệ...</td>\n",
       "      <td>Đ. Hoàng Quốc Việt, P.Phú Thuận, Q.7</td>\n",
       "      <td>T.Nam</td>\n",
       "      <td>https://propzy.vn/mua/can-ho/hcm/quan-7/id376244</td>\n",
       "      <td>id376244</td>\n",
       "      <td>2</td>\n",
       "      <td>2</td>\n",
       "      <td>92.0</td>\n",
       "      <td>10.713719</td>\n",
       "      <td>106.736866</td>\n",
       "    </tr>\n",
       "    <tr>\n",
       "      <th>3</th>\n",
       "      <td>https://cdn.propzy.vn/listing/thumbnail/map/20...</td>\n",
       "      <td>River Panorama Bán Căn Góc Dual- key 3PN 2WC -...</td>\n",
       "      <td>Đ. Hoàng Quốc Việt, P.Phú Thuận, Q.7</td>\n",
       "      <td>Đ.Nam</td>\n",
       "      <td>https://propzy.vn/mua/can-ho/hcm/quan-7/id331419</td>\n",
       "      <td>id331419</td>\n",
       "      <td>2</td>\n",
       "      <td>3</td>\n",
       "      <td>113.9</td>\n",
       "      <td>10.713719</td>\n",
       "      <td>106.736866</td>\n",
       "    </tr>\n",
       "    <tr>\n",
       "      <th>4</th>\n",
       "      <td>https://cdn.propzy.vn/listing/thumbnail/map/20...</td>\n",
       "      <td>Bán căn Shophouse, có nội thất, chung cư The S...</td>\n",
       "      <td>Đ. Mai Chí Thọ, P.An Phú, Q.2</td>\n",
       "      <td>Đ.Nam</td>\n",
       "      <td>https://propzy.vn/mua/can-ho/hcm/quan-2/id247808</td>\n",
       "      <td>id247808</td>\n",
       "      <td>1</td>\n",
       "      <td>0</td>\n",
       "      <td>65.3</td>\n",
       "      <td>10.796516</td>\n",
       "      <td>106.752308</td>\n",
       "    </tr>\n",
       "  </tbody>\n",
       "</table>\n",
       "</div>"
      ],
      "text/plain": [
       "                                          image_link  \\\n",
       "0  https://cdn.propzy.vn/listing/thumbnail/map/20...   \n",
       "1  https://cdn.propzy.vn/listing/thumbnail/map/20...   \n",
       "2  https://cdn.propzy.vn/listing/thumbnail/map/20...   \n",
       "3  https://cdn.propzy.vn/listing/thumbnail/map/20...   \n",
       "4  https://cdn.propzy.vn/listing/thumbnail/map/20...   \n",
       "\n",
       "                                               title  \\\n",
       "0             Nhà mặt tiền quận 5 gần Đại Học Y Dược   \n",
       "1  Bán căn hộ cao cấp 2PN tại chung cư SaiGon Mia...   \n",
       "2  CC La Casa Bán căn hộ 2 phòng ngủ - đầy đủ tiệ...   \n",
       "3  River Panorama Bán Căn Góc Dual- key 3PN 2WC -...   \n",
       "4  Bán căn Shophouse, có nội thất, chung cư The S...   \n",
       "\n",
       "                                address orientation  \\\n",
       "0                  Đ. Ký Hòa, P.11, Q.5         Nam   \n",
       "1   Đ. Số 9A, X.Bình Hưng, H.Bình Chánh        Đông   \n",
       "2  Đ. Hoàng Quốc Việt, P.Phú Thuận, Q.7       T.Nam   \n",
       "3  Đ. Hoàng Quốc Việt, P.Phú Thuận, Q.7       Đ.Nam   \n",
       "4         Đ. Mai Chí Thọ, P.An Phú, Q.2       Đ.Nam   \n",
       "\n",
       "                                         detail_link   post_id  bathrooms  \\\n",
       "0       https://propzy.vn/mua/nha/hcm/quan-5/id34612   id34612          1   \n",
       "1  https://propzy.vn/mua/can-ho/hcm/huyen-binh-ch...  id380194          2   \n",
       "2   https://propzy.vn/mua/can-ho/hcm/quan-7/id376244  id376244          2   \n",
       "3   https://propzy.vn/mua/can-ho/hcm/quan-7/id331419  id331419          2   \n",
       "4   https://propzy.vn/mua/can-ho/hcm/quan-2/id247808  id247808          1   \n",
       "\n",
       "   bedrooms    sqm        lat        long  \n",
       "0         4  178.0  10.766519  106.676967  \n",
       "1         2   66.0  10.716886  106.670638  \n",
       "2         2   92.0  10.713719  106.736866  \n",
       "3         3  113.9  10.713719  106.736866  \n",
       "4         0   65.3  10.796516  106.752308  "
      ]
     },
     "execution_count": 76,
     "metadata": {},
     "output_type": "execute_result"
    }
   ],
   "source": [
    "result.head()"
   ]
  },
  {
   "cell_type": "code",
   "execution_count": 77,
   "id": "bbed120d",
   "metadata": {},
   "outputs": [],
   "source": [
    "df = df.drop(['lat','long'],axis= 1)"
   ]
  },
  {
   "cell_type": "code",
   "execution_count": 78,
   "id": "3a772edd",
   "metadata": {},
   "outputs": [
    {
     "data": {
      "text/html": [
       "<div>\n",
       "<style scoped>\n",
       "    .dataframe tbody tr th:only-of-type {\n",
       "        vertical-align: middle;\n",
       "    }\n",
       "\n",
       "    .dataframe tbody tr th {\n",
       "        vertical-align: top;\n",
       "    }\n",
       "\n",
       "    .dataframe thead th {\n",
       "        text-align: right;\n",
       "    }\n",
       "</style>\n",
       "<table border=\"1\" class=\"dataframe\">\n",
       "  <thead>\n",
       "    <tr style=\"text-align: right;\">\n",
       "      <th></th>\n",
       "      <th>price</th>\n",
       "      <th>sqm_price</th>\n",
       "    </tr>\n",
       "  </thead>\n",
       "  <tbody>\n",
       "    <tr>\n",
       "      <th>0</th>\n",
       "      <td>38 tỷ</td>\n",
       "      <td>213,5 triệu/m²</td>\n",
       "    </tr>\n",
       "    <tr>\n",
       "      <th>1</th>\n",
       "      <td>3,9 tỷ</td>\n",
       "      <td>59,1 triệu/m²</td>\n",
       "    </tr>\n",
       "    <tr>\n",
       "      <th>2</th>\n",
       "      <td>2,85 tỷ</td>\n",
       "      <td>31 triệu/m²</td>\n",
       "    </tr>\n",
       "    <tr>\n",
       "      <th>3</th>\n",
       "      <td>4,18 tỷ</td>\n",
       "      <td>36,7 triệu/m²</td>\n",
       "    </tr>\n",
       "    <tr>\n",
       "      <th>4</th>\n",
       "      <td>12 tỷ</td>\n",
       "      <td>183,8 triệu/m²</td>\n",
       "    </tr>\n",
       "    <tr>\n",
       "      <th>...</th>\n",
       "      <td>...</td>\n",
       "      <td>...</td>\n",
       "    </tr>\n",
       "    <tr>\n",
       "      <th>115</th>\n",
       "      <td>6,25 tỷ</td>\n",
       "      <td>55,8 triệu/m²</td>\n",
       "    </tr>\n",
       "    <tr>\n",
       "      <th>116</th>\n",
       "      <td>4,1 tỷ</td>\n",
       "      <td>154,7 triệu/m²</td>\n",
       "    </tr>\n",
       "    <tr>\n",
       "      <th>117</th>\n",
       "      <td>2,25 tỷ</td>\n",
       "      <td>109,8 triệu/m²</td>\n",
       "    </tr>\n",
       "    <tr>\n",
       "      <th>118</th>\n",
       "      <td>4,55 tỷ</td>\n",
       "      <td>94,8 triệu/m²</td>\n",
       "    </tr>\n",
       "    <tr>\n",
       "      <th>119</th>\n",
       "      <td>10 tỷ</td>\n",
       "      <td>134,3 triệu/m²</td>\n",
       "    </tr>\n",
       "  </tbody>\n",
       "</table>\n",
       "<p>119 rows × 2 columns</p>\n",
       "</div>"
      ],
      "text/plain": [
       "       price       sqm_price\n",
       "0      38 tỷ  213,5 triệu/m²\n",
       "1     3,9 tỷ   59,1 triệu/m²\n",
       "2    2,85 tỷ     31 triệu/m²\n",
       "3    4,18 tỷ   36,7 triệu/m²\n",
       "4      12 tỷ  183,8 triệu/m²\n",
       "..       ...             ...\n",
       "115  6,25 tỷ   55,8 triệu/m²\n",
       "116   4,1 tỷ  154,7 triệu/m²\n",
       "117  2,25 tỷ  109,8 triệu/m²\n",
       "118  4,55 tỷ   94,8 triệu/m²\n",
       "119    10 tỷ  134,3 triệu/m²\n",
       "\n",
       "[119 rows x 2 columns]"
      ]
     },
     "execution_count": 78,
     "metadata": {},
     "output_type": "execute_result"
    }
   ],
   "source": [
    "df"
   ]
  },
  {
   "cell_type": "code",
   "execution_count": 79,
   "id": "45ec1118",
   "metadata": {},
   "outputs": [
    {
     "data": {
      "text/plain": [
       "4,1 tỷ     4\n",
       "2,8 tỷ     4\n",
       "4,7 tỷ     4\n",
       "3,8 tỷ     4\n",
       "14 tỷ      3\n",
       "          ..\n",
       "7,2 tỷ     1\n",
       "3,95 tỷ    1\n",
       "7,9 tỷ     1\n",
       "38 tỷ      1\n",
       "4,5 tỷ     1\n",
       "Name: price, Length: 77, dtype: int64"
      ]
     },
     "execution_count": 79,
     "metadata": {},
     "output_type": "execute_result"
    }
   ],
   "source": [
    "df['price'].value_counts()"
   ]
  },
  {
   "cell_type": "code",
   "execution_count": 80,
   "id": "94c76bf6",
   "metadata": {},
   "outputs": [],
   "source": [
    "s = df['price'].apply(lambda x: x.replace(\"tỷ\",\"\"))"
   ]
  },
  {
   "cell_type": "code",
   "execution_count": 81,
   "id": "7aa390a4",
   "metadata": {},
   "outputs": [
    {
     "data": {
      "text/plain": [
       "0        38 \n",
       "1       3,9 \n",
       "2      2,85 \n",
       "3      4,18 \n",
       "4        12 \n",
       "       ...  \n",
       "115    6,25 \n",
       "116     4,1 \n",
       "117    2,25 \n",
       "118    4,55 \n",
       "119      10 \n",
       "Name: price, Length: 119, dtype: object"
      ]
     },
     "execution_count": 81,
     "metadata": {},
     "output_type": "execute_result"
    }
   ],
   "source": [
    "s"
   ]
  },
  {
   "cell_type": "code",
   "execution_count": 82,
   "id": "9f321b8a",
   "metadata": {},
   "outputs": [
    {
     "ename": "ValueError",
     "evalue": "could not convert string to float: '3,9 '",
     "output_type": "error",
     "traceback": [
      "\u001b[1;31m---------------------------------------------------------------------------\u001b[0m",
      "\u001b[1;31mValueError\u001b[0m                                Traceback (most recent call last)",
      "\u001b[1;32m<ipython-input-82-e3b1260a6aa4>\u001b[0m in \u001b[0;36m<module>\u001b[1;34m\u001b[0m\n\u001b[1;32m----> 1\u001b[1;33m \u001b[0ms\u001b[0m \u001b[1;33m=\u001b[0m \u001b[0ms\u001b[0m\u001b[1;33m.\u001b[0m\u001b[0mapply\u001b[0m\u001b[1;33m(\u001b[0m\u001b[0mto_float\u001b[0m\u001b[1;33m,\u001b[0m \u001b[0margs\u001b[0m \u001b[1;33m=\u001b[0m \u001b[1;33m(\u001b[0m\u001b[1;33m[\u001b[0m\u001b[1;34m'None'\u001b[0m\u001b[1;33m,\u001b[0m\u001b[1;33m]\u001b[0m\u001b[1;33m,\u001b[0m\u001b[1;33m)\u001b[0m\u001b[1;33m)\u001b[0m\u001b[1;33m\u001b[0m\u001b[1;33m\u001b[0m\u001b[0m\n\u001b[0m",
      "\u001b[1;32m~\\anaconda3\\lib\\site-packages\\pandas\\core\\series.py\u001b[0m in \u001b[0;36mapply\u001b[1;34m(self, func, convert_dtype, args, **kwds)\u001b[0m\n\u001b[0;32m   4136\u001b[0m             \u001b[1;32melse\u001b[0m\u001b[1;33m:\u001b[0m\u001b[1;33m\u001b[0m\u001b[1;33m\u001b[0m\u001b[0m\n\u001b[0;32m   4137\u001b[0m                 \u001b[0mvalues\u001b[0m \u001b[1;33m=\u001b[0m \u001b[0mself\u001b[0m\u001b[1;33m.\u001b[0m\u001b[0mastype\u001b[0m\u001b[1;33m(\u001b[0m\u001b[0mobject\u001b[0m\u001b[1;33m)\u001b[0m\u001b[1;33m.\u001b[0m\u001b[0m_values\u001b[0m\u001b[1;33m\u001b[0m\u001b[1;33m\u001b[0m\u001b[0m\n\u001b[1;32m-> 4138\u001b[1;33m                 \u001b[0mmapped\u001b[0m \u001b[1;33m=\u001b[0m \u001b[0mlib\u001b[0m\u001b[1;33m.\u001b[0m\u001b[0mmap_infer\u001b[0m\u001b[1;33m(\u001b[0m\u001b[0mvalues\u001b[0m\u001b[1;33m,\u001b[0m \u001b[0mf\u001b[0m\u001b[1;33m,\u001b[0m \u001b[0mconvert\u001b[0m\u001b[1;33m=\u001b[0m\u001b[0mconvert_dtype\u001b[0m\u001b[1;33m)\u001b[0m\u001b[1;33m\u001b[0m\u001b[1;33m\u001b[0m\u001b[0m\n\u001b[0m\u001b[0;32m   4139\u001b[0m \u001b[1;33m\u001b[0m\u001b[0m\n\u001b[0;32m   4140\u001b[0m         \u001b[1;32mif\u001b[0m \u001b[0mlen\u001b[0m\u001b[1;33m(\u001b[0m\u001b[0mmapped\u001b[0m\u001b[1;33m)\u001b[0m \u001b[1;32mand\u001b[0m \u001b[0misinstance\u001b[0m\u001b[1;33m(\u001b[0m\u001b[0mmapped\u001b[0m\u001b[1;33m[\u001b[0m\u001b[1;36m0\u001b[0m\u001b[1;33m]\u001b[0m\u001b[1;33m,\u001b[0m \u001b[0mSeries\u001b[0m\u001b[1;33m)\u001b[0m\u001b[1;33m:\u001b[0m\u001b[1;33m\u001b[0m\u001b[1;33m\u001b[0m\u001b[0m\n",
      "\u001b[1;32mpandas\\_libs\\lib.pyx\u001b[0m in \u001b[0;36mpandas._libs.lib.map_infer\u001b[1;34m()\u001b[0m\n",
      "\u001b[1;32m~\\anaconda3\\lib\\site-packages\\pandas\\core\\series.py\u001b[0m in \u001b[0;36mf\u001b[1;34m(x)\u001b[0m\n\u001b[0;32m   4121\u001b[0m \u001b[1;33m\u001b[0m\u001b[0m\n\u001b[0;32m   4122\u001b[0m             \u001b[1;32mdef\u001b[0m \u001b[0mf\u001b[0m\u001b[1;33m(\u001b[0m\u001b[0mx\u001b[0m\u001b[1;33m)\u001b[0m\u001b[1;33m:\u001b[0m\u001b[1;33m\u001b[0m\u001b[1;33m\u001b[0m\u001b[0m\n\u001b[1;32m-> 4123\u001b[1;33m                 \u001b[1;32mreturn\u001b[0m \u001b[0mfunc\u001b[0m\u001b[1;33m(\u001b[0m\u001b[0mx\u001b[0m\u001b[1;33m,\u001b[0m \u001b[1;33m*\u001b[0m\u001b[0margs\u001b[0m\u001b[1;33m,\u001b[0m \u001b[1;33m**\u001b[0m\u001b[0mkwds\u001b[0m\u001b[1;33m)\u001b[0m\u001b[1;33m\u001b[0m\u001b[1;33m\u001b[0m\u001b[0m\n\u001b[0m\u001b[0;32m   4124\u001b[0m \u001b[1;33m\u001b[0m\u001b[0m\n\u001b[0;32m   4125\u001b[0m         \u001b[1;32melse\u001b[0m\u001b[1;33m:\u001b[0m\u001b[1;33m\u001b[0m\u001b[1;33m\u001b[0m\u001b[0m\n",
      "\u001b[1;32m<ipython-input-48-5cdb2d33cc3a>\u001b[0m in \u001b[0;36mto_float\u001b[1;34m(x, bandlist)\u001b[0m\n\u001b[0;32m      2\u001b[0m     \u001b[1;32mif\u001b[0m \u001b[0mx\u001b[0m \u001b[1;32min\u001b[0m \u001b[0mbandlist\u001b[0m\u001b[1;33m:\u001b[0m\u001b[1;33m\u001b[0m\u001b[1;33m\u001b[0m\u001b[0m\n\u001b[0;32m      3\u001b[0m         \u001b[0mx\u001b[0m \u001b[1;33m=\u001b[0m \u001b[1;36m0\u001b[0m\u001b[1;33m\u001b[0m\u001b[1;33m\u001b[0m\u001b[0m\n\u001b[1;32m----> 4\u001b[1;33m     \u001b[1;32mreturn\u001b[0m \u001b[0mfloat\u001b[0m\u001b[1;33m(\u001b[0m\u001b[0mx\u001b[0m\u001b[1;33m)\u001b[0m\u001b[1;33m\u001b[0m\u001b[1;33m\u001b[0m\u001b[0m\n\u001b[0m",
      "\u001b[1;31mValueError\u001b[0m: could not convert string to float: '3,9 '"
     ]
    }
   ],
   "source": [
    "s = s.apply(to_float, args = (['None',],))"
   ]
  },
  {
   "cell_type": "code",
   "execution_count": 83,
   "id": "521cd55c",
   "metadata": {},
   "outputs": [],
   "source": [
    "s = s.apply(lambda x: x.replace(\",\",\".\"))"
   ]
  },
  {
   "cell_type": "code",
   "execution_count": 84,
   "id": "91a321c0",
   "metadata": {},
   "outputs": [
    {
     "ename": "ValueError",
     "evalue": "could not convert string to float: '900 triệu'",
     "output_type": "error",
     "traceback": [
      "\u001b[1;31m---------------------------------------------------------------------------\u001b[0m",
      "\u001b[1;31mValueError\u001b[0m                                Traceback (most recent call last)",
      "\u001b[1;32m<ipython-input-84-fa2ae374628d>\u001b[0m in \u001b[0;36m<module>\u001b[1;34m\u001b[0m\n\u001b[1;32m----> 1\u001b[1;33m \u001b[0ms\u001b[0m \u001b[1;33m=\u001b[0m\u001b[0ms\u001b[0m\u001b[1;33m.\u001b[0m\u001b[0mapply\u001b[0m\u001b[1;33m(\u001b[0m\u001b[0mto_float\u001b[0m\u001b[1;33m,\u001b[0m\u001b[0margs\u001b[0m \u001b[1;33m=\u001b[0m \u001b[1;33m(\u001b[0m\u001b[1;33m[\u001b[0m\u001b[1;34m'None'\u001b[0m\u001b[1;33m]\u001b[0m\u001b[1;33m)\u001b[0m\u001b[1;33m,\u001b[0m\u001b[1;33m)\u001b[0m\u001b[1;33m\u001b[0m\u001b[1;33m\u001b[0m\u001b[0m\n\u001b[0m",
      "\u001b[1;32m~\\anaconda3\\lib\\site-packages\\pandas\\core\\series.py\u001b[0m in \u001b[0;36mapply\u001b[1;34m(self, func, convert_dtype, args, **kwds)\u001b[0m\n\u001b[0;32m   4136\u001b[0m             \u001b[1;32melse\u001b[0m\u001b[1;33m:\u001b[0m\u001b[1;33m\u001b[0m\u001b[1;33m\u001b[0m\u001b[0m\n\u001b[0;32m   4137\u001b[0m                 \u001b[0mvalues\u001b[0m \u001b[1;33m=\u001b[0m \u001b[0mself\u001b[0m\u001b[1;33m.\u001b[0m\u001b[0mastype\u001b[0m\u001b[1;33m(\u001b[0m\u001b[0mobject\u001b[0m\u001b[1;33m)\u001b[0m\u001b[1;33m.\u001b[0m\u001b[0m_values\u001b[0m\u001b[1;33m\u001b[0m\u001b[1;33m\u001b[0m\u001b[0m\n\u001b[1;32m-> 4138\u001b[1;33m                 \u001b[0mmapped\u001b[0m \u001b[1;33m=\u001b[0m \u001b[0mlib\u001b[0m\u001b[1;33m.\u001b[0m\u001b[0mmap_infer\u001b[0m\u001b[1;33m(\u001b[0m\u001b[0mvalues\u001b[0m\u001b[1;33m,\u001b[0m \u001b[0mf\u001b[0m\u001b[1;33m,\u001b[0m \u001b[0mconvert\u001b[0m\u001b[1;33m=\u001b[0m\u001b[0mconvert_dtype\u001b[0m\u001b[1;33m)\u001b[0m\u001b[1;33m\u001b[0m\u001b[1;33m\u001b[0m\u001b[0m\n\u001b[0m\u001b[0;32m   4139\u001b[0m \u001b[1;33m\u001b[0m\u001b[0m\n\u001b[0;32m   4140\u001b[0m         \u001b[1;32mif\u001b[0m \u001b[0mlen\u001b[0m\u001b[1;33m(\u001b[0m\u001b[0mmapped\u001b[0m\u001b[1;33m)\u001b[0m \u001b[1;32mand\u001b[0m \u001b[0misinstance\u001b[0m\u001b[1;33m(\u001b[0m\u001b[0mmapped\u001b[0m\u001b[1;33m[\u001b[0m\u001b[1;36m0\u001b[0m\u001b[1;33m]\u001b[0m\u001b[1;33m,\u001b[0m \u001b[0mSeries\u001b[0m\u001b[1;33m)\u001b[0m\u001b[1;33m:\u001b[0m\u001b[1;33m\u001b[0m\u001b[1;33m\u001b[0m\u001b[0m\n",
      "\u001b[1;32mpandas\\_libs\\lib.pyx\u001b[0m in \u001b[0;36mpandas._libs.lib.map_infer\u001b[1;34m()\u001b[0m\n",
      "\u001b[1;32m~\\anaconda3\\lib\\site-packages\\pandas\\core\\series.py\u001b[0m in \u001b[0;36mf\u001b[1;34m(x)\u001b[0m\n\u001b[0;32m   4121\u001b[0m \u001b[1;33m\u001b[0m\u001b[0m\n\u001b[0;32m   4122\u001b[0m             \u001b[1;32mdef\u001b[0m \u001b[0mf\u001b[0m\u001b[1;33m(\u001b[0m\u001b[0mx\u001b[0m\u001b[1;33m)\u001b[0m\u001b[1;33m:\u001b[0m\u001b[1;33m\u001b[0m\u001b[1;33m\u001b[0m\u001b[0m\n\u001b[1;32m-> 4123\u001b[1;33m                 \u001b[1;32mreturn\u001b[0m \u001b[0mfunc\u001b[0m\u001b[1;33m(\u001b[0m\u001b[0mx\u001b[0m\u001b[1;33m,\u001b[0m \u001b[1;33m*\u001b[0m\u001b[0margs\u001b[0m\u001b[1;33m,\u001b[0m \u001b[1;33m**\u001b[0m\u001b[0mkwds\u001b[0m\u001b[1;33m)\u001b[0m\u001b[1;33m\u001b[0m\u001b[1;33m\u001b[0m\u001b[0m\n\u001b[0m\u001b[0;32m   4124\u001b[0m \u001b[1;33m\u001b[0m\u001b[0m\n\u001b[0;32m   4125\u001b[0m         \u001b[1;32melse\u001b[0m\u001b[1;33m:\u001b[0m\u001b[1;33m\u001b[0m\u001b[1;33m\u001b[0m\u001b[0m\n",
      "\u001b[1;32m<ipython-input-48-5cdb2d33cc3a>\u001b[0m in \u001b[0;36mto_float\u001b[1;34m(x, bandlist)\u001b[0m\n\u001b[0;32m      2\u001b[0m     \u001b[1;32mif\u001b[0m \u001b[0mx\u001b[0m \u001b[1;32min\u001b[0m \u001b[0mbandlist\u001b[0m\u001b[1;33m:\u001b[0m\u001b[1;33m\u001b[0m\u001b[1;33m\u001b[0m\u001b[0m\n\u001b[0;32m      3\u001b[0m         \u001b[0mx\u001b[0m \u001b[1;33m=\u001b[0m \u001b[1;36m0\u001b[0m\u001b[1;33m\u001b[0m\u001b[1;33m\u001b[0m\u001b[0m\n\u001b[1;32m----> 4\u001b[1;33m     \u001b[1;32mreturn\u001b[0m \u001b[0mfloat\u001b[0m\u001b[1;33m(\u001b[0m\u001b[0mx\u001b[0m\u001b[1;33m)\u001b[0m\u001b[1;33m\u001b[0m\u001b[1;33m\u001b[0m\u001b[0m\n\u001b[0m",
      "\u001b[1;31mValueError\u001b[0m: could not convert string to float: '900 triệu'"
     ]
    }
   ],
   "source": [
    "s =s.apply(to_float,args = (['None']),)"
   ]
  },
  {
   "cell_type": "code",
   "execution_count": 85,
   "id": "b63211ec",
   "metadata": {},
   "outputs": [],
   "source": [
    "s = s.apply(lambda x: x.replace(\"900 triệu\",\"0.9\"))"
   ]
  },
  {
   "cell_type": "code",
   "execution_count": 86,
   "id": "88a29daf",
   "metadata": {},
   "outputs": [],
   "source": [
    "s =s.apply(to_float,args = (['None']),)"
   ]
  },
  {
   "cell_type": "code",
   "execution_count": 87,
   "id": "e5daeb1b",
   "metadata": {},
   "outputs": [],
   "source": [
    "df['price'] = s"
   ]
  },
  {
   "cell_type": "code",
   "execution_count": 88,
   "id": "d69a30e3",
   "metadata": {},
   "outputs": [],
   "source": [
    "result = pd.concat([result,df[['price']]],axis = 1)"
   ]
  },
  {
   "cell_type": "code",
   "execution_count": 89,
   "id": "132437d6",
   "metadata": {},
   "outputs": [],
   "source": [
    "result['price'] = result['price'] * 1000000000"
   ]
  },
  {
   "cell_type": "code",
   "execution_count": 90,
   "id": "b0a967da",
   "metadata": {},
   "outputs": [
    {
     "data": {
      "text/plain": [
       "image_link      object\n",
       "title           object\n",
       "address         object\n",
       "orientation     object\n",
       "detail_link     object\n",
       "post_id         object\n",
       "bathrooms        int32\n",
       "bedrooms         int32\n",
       "sqm            float64\n",
       "lat            float64\n",
       "long           float64\n",
       "price          float64\n",
       "dtype: object"
      ]
     },
     "execution_count": 90,
     "metadata": {},
     "output_type": "execute_result"
    }
   ],
   "source": [
    "result.dtypes"
   ]
  },
  {
   "cell_type": "code",
   "execution_count": 91,
   "id": "886825ed",
   "metadata": {},
   "outputs": [
    {
     "data": {
      "text/html": [
       "<div>\n",
       "<style scoped>\n",
       "    .dataframe tbody tr th:only-of-type {\n",
       "        vertical-align: middle;\n",
       "    }\n",
       "\n",
       "    .dataframe tbody tr th {\n",
       "        vertical-align: top;\n",
       "    }\n",
       "\n",
       "    .dataframe thead th {\n",
       "        text-align: right;\n",
       "    }\n",
       "</style>\n",
       "<table border=\"1\" class=\"dataframe\">\n",
       "  <thead>\n",
       "    <tr style=\"text-align: right;\">\n",
       "      <th></th>\n",
       "      <th>image_link</th>\n",
       "      <th>title</th>\n",
       "      <th>address</th>\n",
       "      <th>orientation</th>\n",
       "      <th>detail_link</th>\n",
       "      <th>post_id</th>\n",
       "      <th>bathrooms</th>\n",
       "      <th>bedrooms</th>\n",
       "      <th>sqm</th>\n",
       "      <th>lat</th>\n",
       "      <th>long</th>\n",
       "      <th>price</th>\n",
       "    </tr>\n",
       "  </thead>\n",
       "  <tbody>\n",
       "    <tr>\n",
       "      <th>0</th>\n",
       "      <td>https://cdn.propzy.vn/listing/thumbnail/map/20...</td>\n",
       "      <td>Nhà mặt tiền quận 5 gần Đại Học Y Dược</td>\n",
       "      <td>Đ. Ký Hòa, P.11, Q.5</td>\n",
       "      <td>Nam</td>\n",
       "      <td>https://propzy.vn/mua/nha/hcm/quan-5/id34612</td>\n",
       "      <td>id34612</td>\n",
       "      <td>1</td>\n",
       "      <td>4</td>\n",
       "      <td>178.0</td>\n",
       "      <td>10.766519</td>\n",
       "      <td>106.676967</td>\n",
       "      <td>3.800000e+10</td>\n",
       "    </tr>\n",
       "    <tr>\n",
       "      <th>1</th>\n",
       "      <td>https://cdn.propzy.vn/listing/thumbnail/map/20...</td>\n",
       "      <td>Bán căn hộ cao cấp 2PN tại chung cư SaiGon Mia...</td>\n",
       "      <td>Đ. Số 9A, X.Bình Hưng, H.Bình Chánh</td>\n",
       "      <td>Đông</td>\n",
       "      <td>https://propzy.vn/mua/can-ho/hcm/huyen-binh-ch...</td>\n",
       "      <td>id380194</td>\n",
       "      <td>2</td>\n",
       "      <td>2</td>\n",
       "      <td>66.0</td>\n",
       "      <td>10.716886</td>\n",
       "      <td>106.670638</td>\n",
       "      <td>3.900000e+09</td>\n",
       "    </tr>\n",
       "    <tr>\n",
       "      <th>2</th>\n",
       "      <td>https://cdn.propzy.vn/listing/thumbnail/map/20...</td>\n",
       "      <td>CC La Casa Bán căn hộ 2 phòng ngủ - đầy đủ tiệ...</td>\n",
       "      <td>Đ. Hoàng Quốc Việt, P.Phú Thuận, Q.7</td>\n",
       "      <td>T.Nam</td>\n",
       "      <td>https://propzy.vn/mua/can-ho/hcm/quan-7/id376244</td>\n",
       "      <td>id376244</td>\n",
       "      <td>2</td>\n",
       "      <td>2</td>\n",
       "      <td>92.0</td>\n",
       "      <td>10.713719</td>\n",
       "      <td>106.736866</td>\n",
       "      <td>2.850000e+09</td>\n",
       "    </tr>\n",
       "    <tr>\n",
       "      <th>3</th>\n",
       "      <td>https://cdn.propzy.vn/listing/thumbnail/map/20...</td>\n",
       "      <td>River Panorama Bán Căn Góc Dual- key 3PN 2WC -...</td>\n",
       "      <td>Đ. Hoàng Quốc Việt, P.Phú Thuận, Q.7</td>\n",
       "      <td>Đ.Nam</td>\n",
       "      <td>https://propzy.vn/mua/can-ho/hcm/quan-7/id331419</td>\n",
       "      <td>id331419</td>\n",
       "      <td>2</td>\n",
       "      <td>3</td>\n",
       "      <td>113.9</td>\n",
       "      <td>10.713719</td>\n",
       "      <td>106.736866</td>\n",
       "      <td>4.180000e+09</td>\n",
       "    </tr>\n",
       "    <tr>\n",
       "      <th>4</th>\n",
       "      <td>https://cdn.propzy.vn/listing/thumbnail/map/20...</td>\n",
       "      <td>Bán căn Shophouse, có nội thất, chung cư The S...</td>\n",
       "      <td>Đ. Mai Chí Thọ, P.An Phú, Q.2</td>\n",
       "      <td>Đ.Nam</td>\n",
       "      <td>https://propzy.vn/mua/can-ho/hcm/quan-2/id247808</td>\n",
       "      <td>id247808</td>\n",
       "      <td>1</td>\n",
       "      <td>0</td>\n",
       "      <td>65.3</td>\n",
       "      <td>10.796516</td>\n",
       "      <td>106.752308</td>\n",
       "      <td>1.200000e+10</td>\n",
       "    </tr>\n",
       "  </tbody>\n",
       "</table>\n",
       "</div>"
      ],
      "text/plain": [
       "                                          image_link  \\\n",
       "0  https://cdn.propzy.vn/listing/thumbnail/map/20...   \n",
       "1  https://cdn.propzy.vn/listing/thumbnail/map/20...   \n",
       "2  https://cdn.propzy.vn/listing/thumbnail/map/20...   \n",
       "3  https://cdn.propzy.vn/listing/thumbnail/map/20...   \n",
       "4  https://cdn.propzy.vn/listing/thumbnail/map/20...   \n",
       "\n",
       "                                               title  \\\n",
       "0             Nhà mặt tiền quận 5 gần Đại Học Y Dược   \n",
       "1  Bán căn hộ cao cấp 2PN tại chung cư SaiGon Mia...   \n",
       "2  CC La Casa Bán căn hộ 2 phòng ngủ - đầy đủ tiệ...   \n",
       "3  River Panorama Bán Căn Góc Dual- key 3PN 2WC -...   \n",
       "4  Bán căn Shophouse, có nội thất, chung cư The S...   \n",
       "\n",
       "                                address orientation  \\\n",
       "0                  Đ. Ký Hòa, P.11, Q.5         Nam   \n",
       "1   Đ. Số 9A, X.Bình Hưng, H.Bình Chánh        Đông   \n",
       "2  Đ. Hoàng Quốc Việt, P.Phú Thuận, Q.7       T.Nam   \n",
       "3  Đ. Hoàng Quốc Việt, P.Phú Thuận, Q.7       Đ.Nam   \n",
       "4         Đ. Mai Chí Thọ, P.An Phú, Q.2       Đ.Nam   \n",
       "\n",
       "                                         detail_link   post_id  bathrooms  \\\n",
       "0       https://propzy.vn/mua/nha/hcm/quan-5/id34612   id34612          1   \n",
       "1  https://propzy.vn/mua/can-ho/hcm/huyen-binh-ch...  id380194          2   \n",
       "2   https://propzy.vn/mua/can-ho/hcm/quan-7/id376244  id376244          2   \n",
       "3   https://propzy.vn/mua/can-ho/hcm/quan-7/id331419  id331419          2   \n",
       "4   https://propzy.vn/mua/can-ho/hcm/quan-2/id247808  id247808          1   \n",
       "\n",
       "   bedrooms    sqm        lat        long         price  \n",
       "0         4  178.0  10.766519  106.676967  3.800000e+10  \n",
       "1         2   66.0  10.716886  106.670638  3.900000e+09  \n",
       "2         2   92.0  10.713719  106.736866  2.850000e+09  \n",
       "3         3  113.9  10.713719  106.736866  4.180000e+09  \n",
       "4         0   65.3  10.796516  106.752308  1.200000e+10  "
      ]
     },
     "execution_count": 91,
     "metadata": {},
     "output_type": "execute_result"
    }
   ],
   "source": [
    "result.head()"
   ]
  },
  {
   "cell_type": "code",
   "execution_count": 92,
   "id": "13016037",
   "metadata": {},
   "outputs": [],
   "source": [
    "s = df['sqm_price']"
   ]
  },
  {
   "cell_type": "code",
   "execution_count": 93,
   "id": "a89f41f7",
   "metadata": {},
   "outputs": [
    {
     "ename": "ValueError",
     "evalue": "could not convert string to float: '213,5 triệu/m²'",
     "output_type": "error",
     "traceback": [
      "\u001b[1;31m---------------------------------------------------------------------------\u001b[0m",
      "\u001b[1;31mValueError\u001b[0m                                Traceback (most recent call last)",
      "\u001b[1;32m<ipython-input-93-fa2ae374628d>\u001b[0m in \u001b[0;36m<module>\u001b[1;34m\u001b[0m\n\u001b[1;32m----> 1\u001b[1;33m \u001b[0ms\u001b[0m \u001b[1;33m=\u001b[0m\u001b[0ms\u001b[0m\u001b[1;33m.\u001b[0m\u001b[0mapply\u001b[0m\u001b[1;33m(\u001b[0m\u001b[0mto_float\u001b[0m\u001b[1;33m,\u001b[0m\u001b[0margs\u001b[0m \u001b[1;33m=\u001b[0m \u001b[1;33m(\u001b[0m\u001b[1;33m[\u001b[0m\u001b[1;34m'None'\u001b[0m\u001b[1;33m]\u001b[0m\u001b[1;33m)\u001b[0m\u001b[1;33m,\u001b[0m\u001b[1;33m)\u001b[0m\u001b[1;33m\u001b[0m\u001b[1;33m\u001b[0m\u001b[0m\n\u001b[0m",
      "\u001b[1;32m~\\anaconda3\\lib\\site-packages\\pandas\\core\\series.py\u001b[0m in \u001b[0;36mapply\u001b[1;34m(self, func, convert_dtype, args, **kwds)\u001b[0m\n\u001b[0;32m   4136\u001b[0m             \u001b[1;32melse\u001b[0m\u001b[1;33m:\u001b[0m\u001b[1;33m\u001b[0m\u001b[1;33m\u001b[0m\u001b[0m\n\u001b[0;32m   4137\u001b[0m                 \u001b[0mvalues\u001b[0m \u001b[1;33m=\u001b[0m \u001b[0mself\u001b[0m\u001b[1;33m.\u001b[0m\u001b[0mastype\u001b[0m\u001b[1;33m(\u001b[0m\u001b[0mobject\u001b[0m\u001b[1;33m)\u001b[0m\u001b[1;33m.\u001b[0m\u001b[0m_values\u001b[0m\u001b[1;33m\u001b[0m\u001b[1;33m\u001b[0m\u001b[0m\n\u001b[1;32m-> 4138\u001b[1;33m                 \u001b[0mmapped\u001b[0m \u001b[1;33m=\u001b[0m \u001b[0mlib\u001b[0m\u001b[1;33m.\u001b[0m\u001b[0mmap_infer\u001b[0m\u001b[1;33m(\u001b[0m\u001b[0mvalues\u001b[0m\u001b[1;33m,\u001b[0m \u001b[0mf\u001b[0m\u001b[1;33m,\u001b[0m \u001b[0mconvert\u001b[0m\u001b[1;33m=\u001b[0m\u001b[0mconvert_dtype\u001b[0m\u001b[1;33m)\u001b[0m\u001b[1;33m\u001b[0m\u001b[1;33m\u001b[0m\u001b[0m\n\u001b[0m\u001b[0;32m   4139\u001b[0m \u001b[1;33m\u001b[0m\u001b[0m\n\u001b[0;32m   4140\u001b[0m         \u001b[1;32mif\u001b[0m \u001b[0mlen\u001b[0m\u001b[1;33m(\u001b[0m\u001b[0mmapped\u001b[0m\u001b[1;33m)\u001b[0m \u001b[1;32mand\u001b[0m \u001b[0misinstance\u001b[0m\u001b[1;33m(\u001b[0m\u001b[0mmapped\u001b[0m\u001b[1;33m[\u001b[0m\u001b[1;36m0\u001b[0m\u001b[1;33m]\u001b[0m\u001b[1;33m,\u001b[0m \u001b[0mSeries\u001b[0m\u001b[1;33m)\u001b[0m\u001b[1;33m:\u001b[0m\u001b[1;33m\u001b[0m\u001b[1;33m\u001b[0m\u001b[0m\n",
      "\u001b[1;32mpandas\\_libs\\lib.pyx\u001b[0m in \u001b[0;36mpandas._libs.lib.map_infer\u001b[1;34m()\u001b[0m\n",
      "\u001b[1;32m~\\anaconda3\\lib\\site-packages\\pandas\\core\\series.py\u001b[0m in \u001b[0;36mf\u001b[1;34m(x)\u001b[0m\n\u001b[0;32m   4121\u001b[0m \u001b[1;33m\u001b[0m\u001b[0m\n\u001b[0;32m   4122\u001b[0m             \u001b[1;32mdef\u001b[0m \u001b[0mf\u001b[0m\u001b[1;33m(\u001b[0m\u001b[0mx\u001b[0m\u001b[1;33m)\u001b[0m\u001b[1;33m:\u001b[0m\u001b[1;33m\u001b[0m\u001b[1;33m\u001b[0m\u001b[0m\n\u001b[1;32m-> 4123\u001b[1;33m                 \u001b[1;32mreturn\u001b[0m \u001b[0mfunc\u001b[0m\u001b[1;33m(\u001b[0m\u001b[0mx\u001b[0m\u001b[1;33m,\u001b[0m \u001b[1;33m*\u001b[0m\u001b[0margs\u001b[0m\u001b[1;33m,\u001b[0m \u001b[1;33m**\u001b[0m\u001b[0mkwds\u001b[0m\u001b[1;33m)\u001b[0m\u001b[1;33m\u001b[0m\u001b[1;33m\u001b[0m\u001b[0m\n\u001b[0m\u001b[0;32m   4124\u001b[0m \u001b[1;33m\u001b[0m\u001b[0m\n\u001b[0;32m   4125\u001b[0m         \u001b[1;32melse\u001b[0m\u001b[1;33m:\u001b[0m\u001b[1;33m\u001b[0m\u001b[1;33m\u001b[0m\u001b[0m\n",
      "\u001b[1;32m<ipython-input-48-5cdb2d33cc3a>\u001b[0m in \u001b[0;36mto_float\u001b[1;34m(x, bandlist)\u001b[0m\n\u001b[0;32m      2\u001b[0m     \u001b[1;32mif\u001b[0m \u001b[0mx\u001b[0m \u001b[1;32min\u001b[0m \u001b[0mbandlist\u001b[0m\u001b[1;33m:\u001b[0m\u001b[1;33m\u001b[0m\u001b[1;33m\u001b[0m\u001b[0m\n\u001b[0;32m      3\u001b[0m         \u001b[0mx\u001b[0m \u001b[1;33m=\u001b[0m \u001b[1;36m0\u001b[0m\u001b[1;33m\u001b[0m\u001b[1;33m\u001b[0m\u001b[0m\n\u001b[1;32m----> 4\u001b[1;33m     \u001b[1;32mreturn\u001b[0m \u001b[0mfloat\u001b[0m\u001b[1;33m(\u001b[0m\u001b[0mx\u001b[0m\u001b[1;33m)\u001b[0m\u001b[1;33m\u001b[0m\u001b[1;33m\u001b[0m\u001b[0m\n\u001b[0m",
      "\u001b[1;31mValueError\u001b[0m: could not convert string to float: '213,5 triệu/m²'"
     ]
    }
   ],
   "source": [
    "s =s.apply(to_float,args = (['None']),)"
   ]
  },
  {
   "cell_type": "code",
   "execution_count": 94,
   "id": "c2949791",
   "metadata": {},
   "outputs": [],
   "source": [
    "s = s.apply(lambda x: x.replace('triệu/m²',''))"
   ]
  },
  {
   "cell_type": "code",
   "execution_count": 95,
   "id": "533d8b8e",
   "metadata": {},
   "outputs": [],
   "source": [
    "s = s.apply(lambda x: x.replace(',','.'))"
   ]
  },
  {
   "cell_type": "code",
   "execution_count": 96,
   "id": "623ba451",
   "metadata": {},
   "outputs": [
    {
     "data": {
      "text/plain": [
       "0      213.5 \n",
       "1       59.1 \n",
       "2         31 \n",
       "3       36.7 \n",
       "4      183.8 \n",
       "        ...  \n",
       "115     55.8 \n",
       "116    154.7 \n",
       "117    109.8 \n",
       "118     94.8 \n",
       "119    134.3 \n",
       "Name: sqm_price, Length: 119, dtype: object"
      ]
     },
     "execution_count": 96,
     "metadata": {},
     "output_type": "execute_result"
    }
   ],
   "source": [
    "s"
   ]
  },
  {
   "cell_type": "code",
   "execution_count": 97,
   "id": "8d1131da",
   "metadata": {},
   "outputs": [],
   "source": [
    "s =s.apply(to_float,args = (['None']),)"
   ]
  },
  {
   "cell_type": "code",
   "execution_count": 98,
   "id": "28cc6b51",
   "metadata": {},
   "outputs": [],
   "source": [
    "s = s * 1000000"
   ]
  },
  {
   "cell_type": "code",
   "execution_count": 99,
   "id": "2a6fda0f",
   "metadata": {},
   "outputs": [],
   "source": [
    "result = pd.concat([result,s],axis =1)"
   ]
  },
  {
   "cell_type": "code",
   "execution_count": 100,
   "id": "6918f970",
   "metadata": {},
   "outputs": [
    {
     "data": {
      "text/html": [
       "<div>\n",
       "<style scoped>\n",
       "    .dataframe tbody tr th:only-of-type {\n",
       "        vertical-align: middle;\n",
       "    }\n",
       "\n",
       "    .dataframe tbody tr th {\n",
       "        vertical-align: top;\n",
       "    }\n",
       "\n",
       "    .dataframe thead th {\n",
       "        text-align: right;\n",
       "    }\n",
       "</style>\n",
       "<table border=\"1\" class=\"dataframe\">\n",
       "  <thead>\n",
       "    <tr style=\"text-align: right;\">\n",
       "      <th></th>\n",
       "      <th>image_link</th>\n",
       "      <th>title</th>\n",
       "      <th>address</th>\n",
       "      <th>orientation</th>\n",
       "      <th>detail_link</th>\n",
       "      <th>post_id</th>\n",
       "      <th>bathrooms</th>\n",
       "      <th>bedrooms</th>\n",
       "      <th>sqm</th>\n",
       "      <th>lat</th>\n",
       "      <th>long</th>\n",
       "      <th>price</th>\n",
       "      <th>sqm_price</th>\n",
       "    </tr>\n",
       "  </thead>\n",
       "  <tbody>\n",
       "    <tr>\n",
       "      <th>0</th>\n",
       "      <td>https://cdn.propzy.vn/listing/thumbnail/map/20...</td>\n",
       "      <td>Nhà mặt tiền quận 5 gần Đại Học Y Dược</td>\n",
       "      <td>Đ. Ký Hòa, P.11, Q.5</td>\n",
       "      <td>Nam</td>\n",
       "      <td>https://propzy.vn/mua/nha/hcm/quan-5/id34612</td>\n",
       "      <td>id34612</td>\n",
       "      <td>1</td>\n",
       "      <td>4</td>\n",
       "      <td>178.0</td>\n",
       "      <td>10.766519</td>\n",
       "      <td>106.676967</td>\n",
       "      <td>3.800000e+10</td>\n",
       "      <td>213500000.0</td>\n",
       "    </tr>\n",
       "    <tr>\n",
       "      <th>1</th>\n",
       "      <td>https://cdn.propzy.vn/listing/thumbnail/map/20...</td>\n",
       "      <td>Bán căn hộ cao cấp 2PN tại chung cư SaiGon Mia...</td>\n",
       "      <td>Đ. Số 9A, X.Bình Hưng, H.Bình Chánh</td>\n",
       "      <td>Đông</td>\n",
       "      <td>https://propzy.vn/mua/can-ho/hcm/huyen-binh-ch...</td>\n",
       "      <td>id380194</td>\n",
       "      <td>2</td>\n",
       "      <td>2</td>\n",
       "      <td>66.0</td>\n",
       "      <td>10.716886</td>\n",
       "      <td>106.670638</td>\n",
       "      <td>3.900000e+09</td>\n",
       "      <td>59100000.0</td>\n",
       "    </tr>\n",
       "    <tr>\n",
       "      <th>2</th>\n",
       "      <td>https://cdn.propzy.vn/listing/thumbnail/map/20...</td>\n",
       "      <td>CC La Casa Bán căn hộ 2 phòng ngủ - đầy đủ tiệ...</td>\n",
       "      <td>Đ. Hoàng Quốc Việt, P.Phú Thuận, Q.7</td>\n",
       "      <td>T.Nam</td>\n",
       "      <td>https://propzy.vn/mua/can-ho/hcm/quan-7/id376244</td>\n",
       "      <td>id376244</td>\n",
       "      <td>2</td>\n",
       "      <td>2</td>\n",
       "      <td>92.0</td>\n",
       "      <td>10.713719</td>\n",
       "      <td>106.736866</td>\n",
       "      <td>2.850000e+09</td>\n",
       "      <td>31000000.0</td>\n",
       "    </tr>\n",
       "    <tr>\n",
       "      <th>3</th>\n",
       "      <td>https://cdn.propzy.vn/listing/thumbnail/map/20...</td>\n",
       "      <td>River Panorama Bán Căn Góc Dual- key 3PN 2WC -...</td>\n",
       "      <td>Đ. Hoàng Quốc Việt, P.Phú Thuận, Q.7</td>\n",
       "      <td>Đ.Nam</td>\n",
       "      <td>https://propzy.vn/mua/can-ho/hcm/quan-7/id331419</td>\n",
       "      <td>id331419</td>\n",
       "      <td>2</td>\n",
       "      <td>3</td>\n",
       "      <td>113.9</td>\n",
       "      <td>10.713719</td>\n",
       "      <td>106.736866</td>\n",
       "      <td>4.180000e+09</td>\n",
       "      <td>36700000.0</td>\n",
       "    </tr>\n",
       "    <tr>\n",
       "      <th>4</th>\n",
       "      <td>https://cdn.propzy.vn/listing/thumbnail/map/20...</td>\n",
       "      <td>Bán căn Shophouse, có nội thất, chung cư The S...</td>\n",
       "      <td>Đ. Mai Chí Thọ, P.An Phú, Q.2</td>\n",
       "      <td>Đ.Nam</td>\n",
       "      <td>https://propzy.vn/mua/can-ho/hcm/quan-2/id247808</td>\n",
       "      <td>id247808</td>\n",
       "      <td>1</td>\n",
       "      <td>0</td>\n",
       "      <td>65.3</td>\n",
       "      <td>10.796516</td>\n",
       "      <td>106.752308</td>\n",
       "      <td>1.200000e+10</td>\n",
       "      <td>183800000.0</td>\n",
       "    </tr>\n",
       "  </tbody>\n",
       "</table>\n",
       "</div>"
      ],
      "text/plain": [
       "                                          image_link  \\\n",
       "0  https://cdn.propzy.vn/listing/thumbnail/map/20...   \n",
       "1  https://cdn.propzy.vn/listing/thumbnail/map/20...   \n",
       "2  https://cdn.propzy.vn/listing/thumbnail/map/20...   \n",
       "3  https://cdn.propzy.vn/listing/thumbnail/map/20...   \n",
       "4  https://cdn.propzy.vn/listing/thumbnail/map/20...   \n",
       "\n",
       "                                               title  \\\n",
       "0             Nhà mặt tiền quận 5 gần Đại Học Y Dược   \n",
       "1  Bán căn hộ cao cấp 2PN tại chung cư SaiGon Mia...   \n",
       "2  CC La Casa Bán căn hộ 2 phòng ngủ - đầy đủ tiệ...   \n",
       "3  River Panorama Bán Căn Góc Dual- key 3PN 2WC -...   \n",
       "4  Bán căn Shophouse, có nội thất, chung cư The S...   \n",
       "\n",
       "                                address orientation  \\\n",
       "0                  Đ. Ký Hòa, P.11, Q.5         Nam   \n",
       "1   Đ. Số 9A, X.Bình Hưng, H.Bình Chánh        Đông   \n",
       "2  Đ. Hoàng Quốc Việt, P.Phú Thuận, Q.7       T.Nam   \n",
       "3  Đ. Hoàng Quốc Việt, P.Phú Thuận, Q.7       Đ.Nam   \n",
       "4         Đ. Mai Chí Thọ, P.An Phú, Q.2       Đ.Nam   \n",
       "\n",
       "                                         detail_link   post_id  bathrooms  \\\n",
       "0       https://propzy.vn/mua/nha/hcm/quan-5/id34612   id34612          1   \n",
       "1  https://propzy.vn/mua/can-ho/hcm/huyen-binh-ch...  id380194          2   \n",
       "2   https://propzy.vn/mua/can-ho/hcm/quan-7/id376244  id376244          2   \n",
       "3   https://propzy.vn/mua/can-ho/hcm/quan-7/id331419  id331419          2   \n",
       "4   https://propzy.vn/mua/can-ho/hcm/quan-2/id247808  id247808          1   \n",
       "\n",
       "   bedrooms    sqm        lat        long         price    sqm_price  \n",
       "0         4  178.0  10.766519  106.676967  3.800000e+10  213500000.0  \n",
       "1         2   66.0  10.716886  106.670638  3.900000e+09   59100000.0  \n",
       "2         2   92.0  10.713719  106.736866  2.850000e+09   31000000.0  \n",
       "3         3  113.9  10.713719  106.736866  4.180000e+09   36700000.0  \n",
       "4         0   65.3  10.796516  106.752308  1.200000e+10  183800000.0  "
      ]
     },
     "execution_count": 100,
     "metadata": {},
     "output_type": "execute_result"
    }
   ],
   "source": [
    "result.head()"
   ]
  },
  {
   "cell_type": "code",
   "execution_count": 101,
   "id": "ee5c042d",
   "metadata": {},
   "outputs": [
    {
     "data": {
      "text/plain": [
       "image_link      object\n",
       "title           object\n",
       "address         object\n",
       "orientation     object\n",
       "detail_link     object\n",
       "post_id         object\n",
       "bathrooms        int32\n",
       "bedrooms         int32\n",
       "sqm            float64\n",
       "lat            float64\n",
       "long           float64\n",
       "price          float64\n",
       "sqm_price      float64\n",
       "dtype: object"
      ]
     },
     "execution_count": 101,
     "metadata": {},
     "output_type": "execute_result"
    }
   ],
   "source": [
    "result.dtypes"
   ]
  },
  {
   "cell_type": "markdown",
   "id": "7a1910d5",
   "metadata": {},
   "source": [
    "### Save result"
   ]
  },
  {
   "cell_type": "code",
   "execution_count": 102,
   "id": "25206461",
   "metadata": {},
   "outputs": [],
   "source": [
    "result.to_excel('result.xlsx')"
   ]
  },
  {
   "cell_type": "code",
   "execution_count": 103,
   "id": "8f045069",
   "metadata": {},
   "outputs": [],
   "source": [
    "df = result"
   ]
  },
  {
   "cell_type": "code",
   "execution_count": 104,
   "id": "fb26202a",
   "metadata": {},
   "outputs": [],
   "source": [
    "df['status'] = 'for sale'"
   ]
  },
  {
   "cell_type": "code",
   "execution_count": 105,
   "id": "49bc2caa",
   "metadata": {},
   "outputs": [
    {
     "data": {
      "text/html": [
       "<div>\n",
       "<style scoped>\n",
       "    .dataframe tbody tr th:only-of-type {\n",
       "        vertical-align: middle;\n",
       "    }\n",
       "\n",
       "    .dataframe tbody tr th {\n",
       "        vertical-align: top;\n",
       "    }\n",
       "\n",
       "    .dataframe thead th {\n",
       "        text-align: right;\n",
       "    }\n",
       "</style>\n",
       "<table border=\"1\" class=\"dataframe\">\n",
       "  <thead>\n",
       "    <tr style=\"text-align: right;\">\n",
       "      <th></th>\n",
       "      <th>image_link</th>\n",
       "      <th>title</th>\n",
       "      <th>address</th>\n",
       "      <th>orientation</th>\n",
       "      <th>detail_link</th>\n",
       "      <th>post_id</th>\n",
       "      <th>bathrooms</th>\n",
       "      <th>bedrooms</th>\n",
       "      <th>sqm</th>\n",
       "      <th>lat</th>\n",
       "      <th>long</th>\n",
       "      <th>price</th>\n",
       "      <th>sqm_price</th>\n",
       "      <th>status</th>\n",
       "    </tr>\n",
       "  </thead>\n",
       "  <tbody>\n",
       "    <tr>\n",
       "      <th>0</th>\n",
       "      <td>https://cdn.propzy.vn/listing/thumbnail/map/20...</td>\n",
       "      <td>Nhà mặt tiền quận 5 gần Đại Học Y Dược</td>\n",
       "      <td>Đ. Ký Hòa, P.11, Q.5</td>\n",
       "      <td>Nam</td>\n",
       "      <td>https://propzy.vn/mua/nha/hcm/quan-5/id34612</td>\n",
       "      <td>id34612</td>\n",
       "      <td>1</td>\n",
       "      <td>4</td>\n",
       "      <td>178.0</td>\n",
       "      <td>10.766519</td>\n",
       "      <td>106.676967</td>\n",
       "      <td>3.800000e+10</td>\n",
       "      <td>213500000.0</td>\n",
       "      <td>for sale</td>\n",
       "    </tr>\n",
       "    <tr>\n",
       "      <th>1</th>\n",
       "      <td>https://cdn.propzy.vn/listing/thumbnail/map/20...</td>\n",
       "      <td>Bán căn hộ cao cấp 2PN tại chung cư SaiGon Mia...</td>\n",
       "      <td>Đ. Số 9A, X.Bình Hưng, H.Bình Chánh</td>\n",
       "      <td>Đông</td>\n",
       "      <td>https://propzy.vn/mua/can-ho/hcm/huyen-binh-ch...</td>\n",
       "      <td>id380194</td>\n",
       "      <td>2</td>\n",
       "      <td>2</td>\n",
       "      <td>66.0</td>\n",
       "      <td>10.716886</td>\n",
       "      <td>106.670638</td>\n",
       "      <td>3.900000e+09</td>\n",
       "      <td>59100000.0</td>\n",
       "      <td>for sale</td>\n",
       "    </tr>\n",
       "    <tr>\n",
       "      <th>2</th>\n",
       "      <td>https://cdn.propzy.vn/listing/thumbnail/map/20...</td>\n",
       "      <td>CC La Casa Bán căn hộ 2 phòng ngủ - đầy đủ tiệ...</td>\n",
       "      <td>Đ. Hoàng Quốc Việt, P.Phú Thuận, Q.7</td>\n",
       "      <td>T.Nam</td>\n",
       "      <td>https://propzy.vn/mua/can-ho/hcm/quan-7/id376244</td>\n",
       "      <td>id376244</td>\n",
       "      <td>2</td>\n",
       "      <td>2</td>\n",
       "      <td>92.0</td>\n",
       "      <td>10.713719</td>\n",
       "      <td>106.736866</td>\n",
       "      <td>2.850000e+09</td>\n",
       "      <td>31000000.0</td>\n",
       "      <td>for sale</td>\n",
       "    </tr>\n",
       "    <tr>\n",
       "      <th>3</th>\n",
       "      <td>https://cdn.propzy.vn/listing/thumbnail/map/20...</td>\n",
       "      <td>River Panorama Bán Căn Góc Dual- key 3PN 2WC -...</td>\n",
       "      <td>Đ. Hoàng Quốc Việt, P.Phú Thuận, Q.7</td>\n",
       "      <td>Đ.Nam</td>\n",
       "      <td>https://propzy.vn/mua/can-ho/hcm/quan-7/id331419</td>\n",
       "      <td>id331419</td>\n",
       "      <td>2</td>\n",
       "      <td>3</td>\n",
       "      <td>113.9</td>\n",
       "      <td>10.713719</td>\n",
       "      <td>106.736866</td>\n",
       "      <td>4.180000e+09</td>\n",
       "      <td>36700000.0</td>\n",
       "      <td>for sale</td>\n",
       "    </tr>\n",
       "    <tr>\n",
       "      <th>4</th>\n",
       "      <td>https://cdn.propzy.vn/listing/thumbnail/map/20...</td>\n",
       "      <td>Bán căn Shophouse, có nội thất, chung cư The S...</td>\n",
       "      <td>Đ. Mai Chí Thọ, P.An Phú, Q.2</td>\n",
       "      <td>Đ.Nam</td>\n",
       "      <td>https://propzy.vn/mua/can-ho/hcm/quan-2/id247808</td>\n",
       "      <td>id247808</td>\n",
       "      <td>1</td>\n",
       "      <td>0</td>\n",
       "      <td>65.3</td>\n",
       "      <td>10.796516</td>\n",
       "      <td>106.752308</td>\n",
       "      <td>1.200000e+10</td>\n",
       "      <td>183800000.0</td>\n",
       "      <td>for sale</td>\n",
       "    </tr>\n",
       "  </tbody>\n",
       "</table>\n",
       "</div>"
      ],
      "text/plain": [
       "                                          image_link  \\\n",
       "0  https://cdn.propzy.vn/listing/thumbnail/map/20...   \n",
       "1  https://cdn.propzy.vn/listing/thumbnail/map/20...   \n",
       "2  https://cdn.propzy.vn/listing/thumbnail/map/20...   \n",
       "3  https://cdn.propzy.vn/listing/thumbnail/map/20...   \n",
       "4  https://cdn.propzy.vn/listing/thumbnail/map/20...   \n",
       "\n",
       "                                               title  \\\n",
       "0             Nhà mặt tiền quận 5 gần Đại Học Y Dược   \n",
       "1  Bán căn hộ cao cấp 2PN tại chung cư SaiGon Mia...   \n",
       "2  CC La Casa Bán căn hộ 2 phòng ngủ - đầy đủ tiệ...   \n",
       "3  River Panorama Bán Căn Góc Dual- key 3PN 2WC -...   \n",
       "4  Bán căn Shophouse, có nội thất, chung cư The S...   \n",
       "\n",
       "                                address orientation  \\\n",
       "0                  Đ. Ký Hòa, P.11, Q.5         Nam   \n",
       "1   Đ. Số 9A, X.Bình Hưng, H.Bình Chánh        Đông   \n",
       "2  Đ. Hoàng Quốc Việt, P.Phú Thuận, Q.7       T.Nam   \n",
       "3  Đ. Hoàng Quốc Việt, P.Phú Thuận, Q.7       Đ.Nam   \n",
       "4         Đ. Mai Chí Thọ, P.An Phú, Q.2       Đ.Nam   \n",
       "\n",
       "                                         detail_link   post_id  bathrooms  \\\n",
       "0       https://propzy.vn/mua/nha/hcm/quan-5/id34612   id34612          1   \n",
       "1  https://propzy.vn/mua/can-ho/hcm/huyen-binh-ch...  id380194          2   \n",
       "2   https://propzy.vn/mua/can-ho/hcm/quan-7/id376244  id376244          2   \n",
       "3   https://propzy.vn/mua/can-ho/hcm/quan-7/id331419  id331419          2   \n",
       "4   https://propzy.vn/mua/can-ho/hcm/quan-2/id247808  id247808          1   \n",
       "\n",
       "   bedrooms    sqm        lat        long         price    sqm_price    status  \n",
       "0         4  178.0  10.766519  106.676967  3.800000e+10  213500000.0  for sale  \n",
       "1         2   66.0  10.716886  106.670638  3.900000e+09   59100000.0  for sale  \n",
       "2         2   92.0  10.713719  106.736866  2.850000e+09   31000000.0  for sale  \n",
       "3         3  113.9  10.713719  106.736866  4.180000e+09   36700000.0  for sale  \n",
       "4         0   65.3  10.796516  106.752308  1.200000e+10  183800000.0  for sale  "
      ]
     },
     "execution_count": 105,
     "metadata": {},
     "output_type": "execute_result"
    }
   ],
   "source": [
    "df.head()"
   ]
  },
  {
   "cell_type": "code",
   "execution_count": 106,
   "id": "0be4bb41",
   "metadata": {},
   "outputs": [],
   "source": [
    "df.to_excel('data.xlsx')"
   ]
  },
  {
   "cell_type": "code",
   "execution_count": 107,
   "id": "9332eec4",
   "metadata": {},
   "outputs": [],
   "source": [
    "df = pd.read_excel('data.xlsx')"
   ]
  },
  {
   "cell_type": "code",
   "execution_count": 108,
   "id": "e0f29786",
   "metadata": {},
   "outputs": [
    {
     "data": {
      "text/plain": [
       "Unnamed: 0       int64\n",
       "image_link      object\n",
       "title           object\n",
       "address         object\n",
       "orientation     object\n",
       "detail_link     object\n",
       "post_id         object\n",
       "bathrooms        int64\n",
       "bedrooms         int64\n",
       "sqm            float64\n",
       "lat            float64\n",
       "long           float64\n",
       "price          float64\n",
       "sqm_price        int64\n",
       "status          object\n",
       "dtype: object"
      ]
     },
     "execution_count": 108,
     "metadata": {},
     "output_type": "execute_result"
    }
   ],
   "source": [
    "df.dtypes"
   ]
  },
  {
   "cell_type": "markdown",
   "id": "f707997a",
   "metadata": {},
   "source": [
    "https://www.fullstackpython.com/blog/export-pandas-dataframes-sqlite-sqlalchemy.html"
   ]
  },
  {
   "cell_type": "markdown",
   "id": "4e5a39e3",
   "metadata": {},
   "source": [
    "### export data into database"
   ]
  },
  {
   "cell_type": "code",
   "execution_count": 10,
   "id": "24442391",
   "metadata": {},
   "outputs": [],
   "source": [
    "from sqlalchemy import create_engine"
   ]
  },
  {
   "cell_type": "code",
   "execution_count": 11,
   "id": "260ecd1d",
   "metadata": {},
   "outputs": [],
   "source": [
    "#create a data and the connection\n",
    "# set echo = True to see all output that comes from our database\n",
    "# engine  = create_engine('sqlite:///data.db?charset=utf8',echo = True)\n",
    "engine  = create_engine('sqlite:///data.db?charset=utf8&use_unicode=0',echo = True)\n",
    "sqlite_connection = engine.connect()"
   ]
  },
  {
   "cell_type": "code",
   "execution_count": 12,
   "id": "35d6d673",
   "metadata": {},
   "outputs": [
    {
     "name": "stdout",
     "output_type": "stream",
     "text": [
      "2021-07-20 16:47:58,453 INFO sqlalchemy.engine.Engine PRAGMA main.table_info(\"Realestate\")\n",
      "2021-07-20 16:47:58,455 INFO sqlalchemy.engine.Engine [raw sql] ()\n",
      "2021-07-20 16:47:58,458 INFO sqlalchemy.engine.Engine PRAGMA temp.table_info(\"Realestate\")\n",
      "2021-07-20 16:47:58,460 INFO sqlalchemy.engine.Engine [raw sql] ()\n",
      "2021-07-20 16:47:58,465 INFO sqlalchemy.engine.Engine \n",
      "CREATE TABLE \"Realestate\" (\n",
      "\t\"index\" BIGINT, \n",
      "\timage_link TEXT, \n",
      "\ttitle TEXT, \n",
      "\taddress TEXT, \n",
      "\torientation TEXT, \n",
      "\tdetail_link TEXT, \n",
      "\tpost_id TEXT, \n",
      "\tbathrooms BIGINT, \n",
      "\tbedrooms BIGINT, \n",
      "\tsqm FLOAT, \n",
      "\tlat FLOAT, \n",
      "\tlong FLOAT, \n",
      "\tprice FLOAT, \n",
      "\tsqm_price BIGINT, \n",
      "\tstatus TEXT\n",
      ")\n",
      "\n",
      "\n",
      "2021-07-20 16:47:58,467 INFO sqlalchemy.engine.Engine [no key 0.00167s] ()\n",
      "2021-07-20 16:47:58,777 INFO sqlalchemy.engine.Engine COMMIT\n",
      "2021-07-20 16:47:58,780 INFO sqlalchemy.engine.Engine CREATE INDEX \"ix_Realestate_index\" ON \"Realestate\" (\"index\")\n",
      "2021-07-20 16:47:58,783 INFO sqlalchemy.engine.Engine [no key 0.00296s] ()\n",
      "2021-07-20 16:47:58,791 INFO sqlalchemy.engine.Engine COMMIT\n",
      "2021-07-20 16:47:58,795 INFO sqlalchemy.engine.Engine BEGIN (implicit)\n",
      "2021-07-20 16:47:58,799 INFO sqlalchemy.engine.Engine INSERT INTO \"Realestate\" (\"index\", image_link, title, address, orientation, detail_link, post_id, bathrooms, bedrooms, sqm, lat, long, price, sqm_price, status) VALUES (?, ?, ?, ?, ?, ?, ?, ?, ?, ?, ?, ?, ?, ?, ?)\n",
      "2021-07-20 16:47:58,801 INFO sqlalchemy.engine.Engine [generated in 0.00332s] ((0, 'https://cdn.propzy.vn/listing/thumbnail/map/2018/10/19/listing_4f8e77bfb9860caf580e554f2998870669fcf109125e538a07cf647a555b2e93.jpg', 'Nhà mặt tiền quận 5 gần Đại Học Y Dược', 'Đ. Ký Hòa, P.11, Q.5', 'Nam', 'https://propzy.vn/mua/nha/hcm/quan-5/id34612', 'id34612', 1, 4, 178.0, 10.7665188, 106.6769666, 38000000000.0, 213500000, 'for sale'), (1, 'https://cdn.propzy.vn/listing/thumbnail/map/2021/06/28/listing_5bbcc4d6e7de14fef5994c141ed005395921df1c10f82d2a4ae82207f1ac057e.jpg', 'Bán\\xa0căn hộ cao cấp 2PN tại chung cư\\xa0SaiGon Mia - Bình Chánh', 'Đ. Số 9A, X.Bình Hưng, H.Bình Chánh', 'Đông', 'https://propzy.vn/mua/can-ho/hcm/huyen-binh-chanh/id380194', 'id380194', 2, 2, 66.0, 10.7168856, 106.6706381, 3900000000.0, 59100000, 'for sale'), (2, 'https://cdn.propzy.vn/listing/thumbnail/map/2021/06/04/listing_48617cdb6d95efffa3b1223899daba94f802448afd5e3da0c2426190ea327101.jpg', 'CC\\xa0La Casa Bán\\xa0căn hộ 2 phòng ngủ -\\xa0đầy đủ tiện ích, full nội thất\\xa0- Quận 7', 'Đ. Hoàng Quốc Việt, P.Phú Thuận, Q.7', 'T.Nam', 'https://propzy.vn/mua/can-ho/hcm/quan-7/id376244', 'id376244', 2, 2, 92.0, 10.7137186, 106.736866, 2850000000.0, 31000000, 'for sale'), (3, 'https://cdn.propzy.vn/listing/thumbnail/map/2021/06/04/listing_dc71e9e2eda94eeed253835b22a1f7cf269e13f559733147088777c9146a97d2.jpg', 'River Panorama Bán Căn Góc Dual- key 3PN 2WC - View Công Viên Nội Khu Tầng Cao - Phường Phú Thuận Quận 7', 'Đ. Hoàng Quốc Việt, P.Phú Thuận, Q.7', 'Đ.Nam', 'https://propzy.vn/mua/can-ho/hcm/quan-7/id331419', 'id331419', 2, 3, 113.9, 10.7137186, 106.736866, 4180000000.0, 36700000, 'for sale'), (4, 'https://cdn.propzy.vn/listing/thumbnail/map/2021/05/18/listing_3b562fa0d91c324fa58391c132c93831a7999996ed31754cda5c7e1f9fe1f11d.jpg', 'Bán căn Shophouse, có nội thất,\\xa0chung cư The Sun Avenue, phường An Phú, Quận 2.', 'Đ. Mai Chí Thọ, P.An Phú, Q.2', 'Đ.Nam', 'https://propzy.vn/mua/can-ho/hcm/quan-2/id247808', 'id247808', 1, 0, 65.3, 10.7965159, 106.7523077, 12000000000.0, 183800000, 'for sale'), (5, 'https://cdn.propzy.vn/listing/thumbnail/map/2021/05/18/listing_8aad605ca082733502367893a602219b5d96dac5ea2603179f4e51eeb41d8bee.jpg', 'Bán căn góc, 3 phòng ngủ, nội thất đẹp,\\xa0chung cư The Sun Avenue, phường An Phú, Quận 2.', 'Đ. Mai Chí Thọ, P.An Phú, Q.2', 'T.Bắc', 'https://propzy.vn/mua/can-ho/hcm/quan-2/id247713', 'id247713', 2, 3, 89.9, 10.7965159, 106.7523077, 5300000000.0, 58900000, 'for sale'), (6, 'https://cdn.propzy.vn/listing/thumbnail/map/2021/05/18/listing_0be5fd5bd2ca0d413da2f22e982672b472b7a87b86e7b4dd8531ad0b0ba664c5.jpg', 'Căn góc 3 phòng ngủ Central 1 Vinhomes Central Park quận Bình Thạnh', 'Đ. Nguyễn Hữu Cảnh, P.22, Q.Bình Thạnh', 'định', 'https://propzy.vn/mua/can-ho/hcm/quan-binh-thanh/id352429', 'id352429', 3, 4, 153.6, 10.792841, 106.719789, 14000000000.0, 91100000, 'for sale'), (7, 'https://cdn.propzy.vn/listing/thumbnail/map/2021/07/03/listing_e51b6d24822abc06c4897bce811e645997e82ffb0bc75487746f32751380a212.jpg', 'Bán\\xa0căn hộ cao cấp 2PN sang trọng tại chung cư\\xa0Cityland Park Hills - Quận Gò Vấp', 'Đ. Phan Văn Trị, P.10, Q.Gò Vấp', 'định', 'https://propzy.vn/mua/can-ho/hcm/quan-go-vap/id358561', 'id358561', 2, 2, 65.0, 10.831258, 106.6773161, 3700000000.0, 56900000, 'for sale')  ... displaying 10 of 119 total bound parameter sets ...  (117, 'https://cdn.propzy.vn/listing/thumbnail/map/2021/07/05/listing_1198073a5c85f315213429bc152bce569dca282723a3a4c327da579a80febe97.jpg', 'Bán nhà hẻm xa ba gác gần chợ Rạch Ông, Phường 2, Quận 8', 'Đ. Nguyễn Thị Tần, P.2, Q.8', 'T.Bắc', 'https://propzy.vn/mua/nha/hcm/quan-8/id388725', 'id388725', 1, 1, 48.0, 10.7462673, 106.6861301, 4550000000.0, 94800000, 'for sale'), (118, 'https://cdn.propzy.vn/listing/thumbnail/map/2021/07/05/listing_52f6bc3935c0d6e3507a4f34699339092ac1179e8204de972340be9a51c85602.jpg', 'Bán Nhà 1 Trệt 1 Lầu Mặt Tiền Đường Số\\xa0Phường Phú Mỹ\\xa0Quận 7\\xa0', 'Đ. Số 1, P.Phú Mỹ, Q.7', 'T.Nam', 'https://propzy.vn/mua/nha/hcm/quan-7/id388786', 'id388786', 2, 1, 74.4, 10.7200412, 106.7207571, 10000000000.0, 134300000, 'for sale'))\n",
      "2021-07-20 16:47:58,804 INFO sqlalchemy.engine.Engine COMMIT\n",
      "2021-07-20 16:47:58,816 INFO sqlalchemy.engine.Engine SELECT name FROM sqlite_master WHERE type='table' ORDER BY name\n",
      "2021-07-20 16:47:58,820 INFO sqlalchemy.engine.Engine [raw sql] ()\n"
     ]
    }
   ],
   "source": [
    "# save data table name, if_exists 'fail','replace','append'\n",
    "df.to_sql(\"Realestate\",sqlite_connection,if_exists =  'fail')"
   ]
  },
  {
   "cell_type": "code",
   "execution_count": 6,
   "id": "181eebed",
   "metadata": {},
   "outputs": [],
   "source": [
    "sqlite_connection.close()"
   ]
  },
  {
   "cell_type": "markdown",
   "id": "62e7547f",
   "metadata": {},
   "source": [
    "### inspect for create model in backend"
   ]
  },
  {
   "cell_type": "code",
   "execution_count": 1,
   "id": "2f489d2f",
   "metadata": {},
   "outputs": [],
   "source": [
    "import pandas as pd \n",
    "import numpy as np "
   ]
  },
  {
   "cell_type": "code",
   "execution_count": 2,
   "id": "3d348dbc",
   "metadata": {},
   "outputs": [
    {
     "data": {
      "text/html": [
       "<div>\n",
       "<style scoped>\n",
       "    .dataframe tbody tr th:only-of-type {\n",
       "        vertical-align: middle;\n",
       "    }\n",
       "\n",
       "    .dataframe tbody tr th {\n",
       "        vertical-align: top;\n",
       "    }\n",
       "\n",
       "    .dataframe thead th {\n",
       "        text-align: right;\n",
       "    }\n",
       "</style>\n",
       "<table border=\"1\" class=\"dataframe\">\n",
       "  <thead>\n",
       "    <tr style=\"text-align: right;\">\n",
       "      <th></th>\n",
       "      <th>image_link</th>\n",
       "      <th>title</th>\n",
       "      <th>address</th>\n",
       "      <th>orientation</th>\n",
       "      <th>detail_link</th>\n",
       "      <th>post_id</th>\n",
       "      <th>bathrooms</th>\n",
       "      <th>bedrooms</th>\n",
       "      <th>sqm</th>\n",
       "      <th>lat</th>\n",
       "      <th>long</th>\n",
       "      <th>price</th>\n",
       "      <th>sqm_price</th>\n",
       "    </tr>\n",
       "  </thead>\n",
       "  <tbody>\n",
       "    <tr>\n",
       "      <th>0</th>\n",
       "      <td>https://cdn.propzy.vn/listing/thumbnail/map/20...</td>\n",
       "      <td>Nhà mặt tiền quận 5 gần Đại Học Y Dược</td>\n",
       "      <td>Đ. Ký Hòa, P.11, Q.5</td>\n",
       "      <td>Nam</td>\n",
       "      <td>https://propzy.vn/mua/nha/hcm/quan-5/id34612</td>\n",
       "      <td>id34612</td>\n",
       "      <td>1</td>\n",
       "      <td>4</td>\n",
       "      <td>178.0</td>\n",
       "      <td>10.766519</td>\n",
       "      <td>106.676967</td>\n",
       "      <td>3.800000e+10</td>\n",
       "      <td>213500000</td>\n",
       "    </tr>\n",
       "    <tr>\n",
       "      <th>1</th>\n",
       "      <td>https://cdn.propzy.vn/listing/thumbnail/map/20...</td>\n",
       "      <td>Bán căn hộ cao cấp 2PN tại chung cư SaiGon Mia...</td>\n",
       "      <td>Đ. Số 9A, X.Bình Hưng, H.Bình Chánh</td>\n",
       "      <td>Đông</td>\n",
       "      <td>https://propzy.vn/mua/can-ho/hcm/huyen-binh-ch...</td>\n",
       "      <td>id380194</td>\n",
       "      <td>2</td>\n",
       "      <td>2</td>\n",
       "      <td>66.0</td>\n",
       "      <td>10.716886</td>\n",
       "      <td>106.670638</td>\n",
       "      <td>3.900000e+09</td>\n",
       "      <td>59100000</td>\n",
       "    </tr>\n",
       "    <tr>\n",
       "      <th>2</th>\n",
       "      <td>https://cdn.propzy.vn/listing/thumbnail/map/20...</td>\n",
       "      <td>CC La Casa Bán căn hộ 2 phòng ngủ - đầy đủ tiệ...</td>\n",
       "      <td>Đ. Hoàng Quốc Việt, P.Phú Thuận, Q.7</td>\n",
       "      <td>T.Nam</td>\n",
       "      <td>https://propzy.vn/mua/can-ho/hcm/quan-7/id376244</td>\n",
       "      <td>id376244</td>\n",
       "      <td>2</td>\n",
       "      <td>2</td>\n",
       "      <td>92.0</td>\n",
       "      <td>10.713719</td>\n",
       "      <td>106.736866</td>\n",
       "      <td>2.850000e+09</td>\n",
       "      <td>31000000</td>\n",
       "    </tr>\n",
       "    <tr>\n",
       "      <th>3</th>\n",
       "      <td>https://cdn.propzy.vn/listing/thumbnail/map/20...</td>\n",
       "      <td>River Panorama Bán Căn Góc Dual- key 3PN 2WC -...</td>\n",
       "      <td>Đ. Hoàng Quốc Việt, P.Phú Thuận, Q.7</td>\n",
       "      <td>Đ.Nam</td>\n",
       "      <td>https://propzy.vn/mua/can-ho/hcm/quan-7/id331419</td>\n",
       "      <td>id331419</td>\n",
       "      <td>2</td>\n",
       "      <td>3</td>\n",
       "      <td>113.9</td>\n",
       "      <td>10.713719</td>\n",
       "      <td>106.736866</td>\n",
       "      <td>4.180000e+09</td>\n",
       "      <td>36700000</td>\n",
       "    </tr>\n",
       "    <tr>\n",
       "      <th>4</th>\n",
       "      <td>https://cdn.propzy.vn/listing/thumbnail/map/20...</td>\n",
       "      <td>Bán căn Shophouse, có nội thất, chung cư The S...</td>\n",
       "      <td>Đ. Mai Chí Thọ, P.An Phú, Q.2</td>\n",
       "      <td>Đ.Nam</td>\n",
       "      <td>https://propzy.vn/mua/can-ho/hcm/quan-2/id247808</td>\n",
       "      <td>id247808</td>\n",
       "      <td>1</td>\n",
       "      <td>0</td>\n",
       "      <td>65.3</td>\n",
       "      <td>10.796516</td>\n",
       "      <td>106.752308</td>\n",
       "      <td>1.200000e+10</td>\n",
       "      <td>183800000</td>\n",
       "    </tr>\n",
       "  </tbody>\n",
       "</table>\n",
       "</div>"
      ],
      "text/plain": [
       "                                          image_link  \\\n",
       "0  https://cdn.propzy.vn/listing/thumbnail/map/20...   \n",
       "1  https://cdn.propzy.vn/listing/thumbnail/map/20...   \n",
       "2  https://cdn.propzy.vn/listing/thumbnail/map/20...   \n",
       "3  https://cdn.propzy.vn/listing/thumbnail/map/20...   \n",
       "4  https://cdn.propzy.vn/listing/thumbnail/map/20...   \n",
       "\n",
       "                                               title  \\\n",
       "0             Nhà mặt tiền quận 5 gần Đại Học Y Dược   \n",
       "1  Bán căn hộ cao cấp 2PN tại chung cư SaiGon Mia...   \n",
       "2  CC La Casa Bán căn hộ 2 phòng ngủ - đầy đủ tiệ...   \n",
       "3  River Panorama Bán Căn Góc Dual- key 3PN 2WC -...   \n",
       "4  Bán căn Shophouse, có nội thất, chung cư The S...   \n",
       "\n",
       "                                address orientation  \\\n",
       "0                  Đ. Ký Hòa, P.11, Q.5         Nam   \n",
       "1   Đ. Số 9A, X.Bình Hưng, H.Bình Chánh        Đông   \n",
       "2  Đ. Hoàng Quốc Việt, P.Phú Thuận, Q.7       T.Nam   \n",
       "3  Đ. Hoàng Quốc Việt, P.Phú Thuận, Q.7       Đ.Nam   \n",
       "4         Đ. Mai Chí Thọ, P.An Phú, Q.2       Đ.Nam   \n",
       "\n",
       "                                         detail_link   post_id  bathrooms  \\\n",
       "0       https://propzy.vn/mua/nha/hcm/quan-5/id34612   id34612          1   \n",
       "1  https://propzy.vn/mua/can-ho/hcm/huyen-binh-ch...  id380194          2   \n",
       "2   https://propzy.vn/mua/can-ho/hcm/quan-7/id376244  id376244          2   \n",
       "3   https://propzy.vn/mua/can-ho/hcm/quan-7/id331419  id331419          2   \n",
       "4   https://propzy.vn/mua/can-ho/hcm/quan-2/id247808  id247808          1   \n",
       "\n",
       "   bedrooms    sqm        lat        long         price  sqm_price  \n",
       "0         4  178.0  10.766519  106.676967  3.800000e+10  213500000  \n",
       "1         2   66.0  10.716886  106.670638  3.900000e+09   59100000  \n",
       "2         2   92.0  10.713719  106.736866  2.850000e+09   31000000  \n",
       "3         3  113.9  10.713719  106.736866  4.180000e+09   36700000  \n",
       "4         0   65.3  10.796516  106.752308  1.200000e+10  183800000  "
      ]
     },
     "execution_count": 2,
     "metadata": {},
     "output_type": "execute_result"
    }
   ],
   "source": [
    "df = pd.read_excel('result.xlsx')\n",
    "df = df.drop(['Unnamed: 0'],axis =1)\n",
    "df.head()"
   ]
  },
  {
   "cell_type": "code",
   "execution_count": 3,
   "id": "d226c141",
   "metadata": {},
   "outputs": [],
   "source": [
    "df['status'] = 'for sale'"
   ]
  },
  {
   "cell_type": "code",
   "execution_count": 4,
   "id": "e2a87e51",
   "metadata": {},
   "outputs": [],
   "source": [
    "df.to_excel('result.xlsx')"
   ]
  },
  {
   "cell_type": "code",
   "execution_count": 6,
   "id": "cc680b20",
   "metadata": {},
   "outputs": [
    {
     "data": {
      "text/plain": [
       "0      7\n",
       "1      8\n",
       "2      8\n",
       "3      8\n",
       "4      8\n",
       "      ..\n",
       "114    8\n",
       "115    8\n",
       "116    8\n",
       "117    8\n",
       "118    8\n",
       "Name: post_id, Length: 119, dtype: int64"
      ]
     },
     "execution_count": 6,
     "metadata": {},
     "output_type": "execute_result"
    }
   ],
   "source": [
    " s = df['post_id']\n",
    "s.apply(lambda x: len(x))"
   ]
  },
  {
   "cell_type": "code",
   "execution_count": null,
   "id": "d08abffe",
   "metadata": {},
   "outputs": [],
   "source": []
  }
 ],
 "metadata": {
  "kernelspec": {
   "display_name": "Python 3",
   "language": "python",
   "name": "python3"
  },
  "language_info": {
   "codemirror_mode": {
    "name": "ipython",
    "version": 3
   },
   "file_extension": ".py",
   "mimetype": "text/x-python",
   "name": "python",
   "nbconvert_exporter": "python",
   "pygments_lexer": "ipython3",
   "version": "3.8.8"
  }
 },
 "nbformat": 4,
 "nbformat_minor": 5
}
