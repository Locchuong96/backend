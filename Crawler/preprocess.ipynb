{
 "cells": [
  {
   "cell_type": "code",
   "execution_count": 1,
   "id": "08a778eb",
   "metadata": {},
   "outputs": [],
   "source": [
    "# import library\n",
    "import pandas as pd\n",
    "import numpy as np "
   ]
  },
  {
   "cell_type": "code",
   "execution_count": 2,
   "id": "99995876",
   "metadata": {},
   "outputs": [],
   "source": [
    "# read dataframe\n",
    "df = pd.read_excel('propzy_1000_1.xlsx')"
   ]
  },
  {
   "cell_type": "code",
   "execution_count": 3,
   "id": "9ac3e51f",
   "metadata": {},
   "outputs": [
    {
     "data": {
      "text/html": [
       "<div>\n",
       "<style scoped>\n",
       "    .dataframe tbody tr th:only-of-type {\n",
       "        vertical-align: middle;\n",
       "    }\n",
       "\n",
       "    .dataframe tbody tr th {\n",
       "        vertical-align: top;\n",
       "    }\n",
       "\n",
       "    .dataframe thead th {\n",
       "        text-align: right;\n",
       "    }\n",
       "</style>\n",
       "<table border=\"1\" class=\"dataframe\">\n",
       "  <thead>\n",
       "    <tr style=\"text-align: right;\">\n",
       "      <th></th>\n",
       "      <th>Unnamed: 0</th>\n",
       "      <th>Unnamed: 0.1</th>\n",
       "      <th>imageLink</th>\n",
       "      <th>totalPrice</th>\n",
       "      <th>squarePrice</th>\n",
       "      <th>mainTitle</th>\n",
       "      <th>mainAddress</th>\n",
       "      <th>bathNumber</th>\n",
       "      <th>bedNumber</th>\n",
       "      <th>mainSquare</th>\n",
       "      <th>mainOrientation</th>\n",
       "      <th>detailPage</th>\n",
       "      <th>mainID</th>\n",
       "      <th>page</th>\n",
       "      <th>lat</th>\n",
       "      <th>long</th>\n",
       "    </tr>\n",
       "  </thead>\n",
       "  <tbody>\n",
       "    <tr>\n",
       "      <th>0</th>\n",
       "      <td>0</td>\n",
       "      <td>0</td>\n",
       "      <td>https://cdn.propzy.vn/listing/thumbnail/map/20...</td>\n",
       "      <td>38 tỷ</td>\n",
       "      <td>213,5 triệu/m²</td>\n",
       "      <td>Nhà mặt tiền quận 5 gần Đại Học Y Dược</td>\n",
       "      <td>Đ. Ký Hòa, P.11, Q.5</td>\n",
       "      <td>1</td>\n",
       "      <td>4</td>\n",
       "      <td>178.0</td>\n",
       "      <td>Nam</td>\n",
       "      <td>https://propzy.vn/mua/nha/hcm/quan-5/id34612</td>\n",
       "      <td>id34612</td>\n",
       "      <td>0</td>\n",
       "      <td>10.840366</td>\n",
       "      <td>106.758850</td>\n",
       "    </tr>\n",
       "    <tr>\n",
       "      <th>1</th>\n",
       "      <td>1</td>\n",
       "      <td>1</td>\n",
       "      <td>https://cdn.propzy.vn/listing/thumbnail/map/20...</td>\n",
       "      <td>3,9 tỷ</td>\n",
       "      <td>59,1 triệu/m²</td>\n",
       "      <td>Bán căn hộ cao cấp 2PN tại chung cư SaiGon Mia...</td>\n",
       "      <td>Đ. Số 9A, X.Bình Hưng, H.Bình Chánh</td>\n",
       "      <td>2</td>\n",
       "      <td>2</td>\n",
       "      <td>66.0</td>\n",
       "      <td>Đông</td>\n",
       "      <td>https://propzy.vn/mua/can-ho/hcm/huyen-binh-ch...</td>\n",
       "      <td>id380194</td>\n",
       "      <td>0</td>\n",
       "      <td>10.728720</td>\n",
       "      <td>106.671446</td>\n",
       "    </tr>\n",
       "    <tr>\n",
       "      <th>2</th>\n",
       "      <td>2</td>\n",
       "      <td>2</td>\n",
       "      <td>https://cdn.propzy.vn/listing/thumbnail/map/20...</td>\n",
       "      <td>2,85 tỷ</td>\n",
       "      <td>31 triệu/m²</td>\n",
       "      <td>CC La Casa Bán căn hộ 2 phòng ngủ - đầy đủ tiệ...</td>\n",
       "      <td>Đ. Hoàng Quốc Việt, P.Phú Thuận, Q.7</td>\n",
       "      <td>2</td>\n",
       "      <td>2</td>\n",
       "      <td>92.0</td>\n",
       "      <td>T.Nam</td>\n",
       "      <td>https://propzy.vn/mua/can-ho/hcm/quan-7/id376244</td>\n",
       "      <td>id376244</td>\n",
       "      <td>0</td>\n",
       "      <td>10.725911</td>\n",
       "      <td>106.736590</td>\n",
       "    </tr>\n",
       "    <tr>\n",
       "      <th>3</th>\n",
       "      <td>3</td>\n",
       "      <td>3</td>\n",
       "      <td>https://cdn.propzy.vn/listing/thumbnail/map/20...</td>\n",
       "      <td>4,2 tỷ</td>\n",
       "      <td>36,9 triệu/m²</td>\n",
       "      <td>River Panorama Bán Căn Góc Dual- key 3PN 2WC -...</td>\n",
       "      <td>Đ. Hoàng Quốc Việt, P.Phú Thuận, Q.7</td>\n",
       "      <td>2</td>\n",
       "      <td>3</td>\n",
       "      <td>113.9</td>\n",
       "      <td>Đ.Nam</td>\n",
       "      <td>https://propzy.vn/mua/can-ho/hcm/quan-7/id331419</td>\n",
       "      <td>id331419</td>\n",
       "      <td>0</td>\n",
       "      <td>10.725911</td>\n",
       "      <td>106.736590</td>\n",
       "    </tr>\n",
       "    <tr>\n",
       "      <th>4</th>\n",
       "      <td>4</td>\n",
       "      <td>4</td>\n",
       "      <td>https://cdn.propzy.vn/listing/thumbnail/map/20...</td>\n",
       "      <td>3,88 tỷ</td>\n",
       "      <td>43,6 triệu/m²</td>\n",
       "      <td>Bán Chung Cư Căn Góc Viva Riverside P3 Q6 - Tầ...</td>\n",
       "      <td>Đ. Võ Văn Kiệt, P.3, Q.6</td>\n",
       "      <td>2</td>\n",
       "      <td>3</td>\n",
       "      <td>89.0</td>\n",
       "      <td>T.Nam</td>\n",
       "      <td>https://propzy.vn/mua/can-ho/hcm/quan-6/id60811</td>\n",
       "      <td>id60811</td>\n",
       "      <td>0</td>\n",
       "      <td>10.742259</td>\n",
       "      <td>106.647729</td>\n",
       "    </tr>\n",
       "  </tbody>\n",
       "</table>\n",
       "</div>"
      ],
      "text/plain": [
       "   Unnamed: 0  Unnamed: 0.1  \\\n",
       "0           0             0   \n",
       "1           1             1   \n",
       "2           2             2   \n",
       "3           3             3   \n",
       "4           4             4   \n",
       "\n",
       "                                           imageLink totalPrice  \\\n",
       "0  https://cdn.propzy.vn/listing/thumbnail/map/20...      38 tỷ   \n",
       "1  https://cdn.propzy.vn/listing/thumbnail/map/20...     3,9 tỷ   \n",
       "2  https://cdn.propzy.vn/listing/thumbnail/map/20...    2,85 tỷ   \n",
       "3  https://cdn.propzy.vn/listing/thumbnail/map/20...     4,2 tỷ   \n",
       "4  https://cdn.propzy.vn/listing/thumbnail/map/20...    3,88 tỷ   \n",
       "\n",
       "      squarePrice                                          mainTitle  \\\n",
       "0  213,5 triệu/m²             Nhà mặt tiền quận 5 gần Đại Học Y Dược   \n",
       "1   59,1 triệu/m²  Bán căn hộ cao cấp 2PN tại chung cư SaiGon Mia...   \n",
       "2     31 triệu/m²  CC La Casa Bán căn hộ 2 phòng ngủ - đầy đủ tiệ...   \n",
       "3   36,9 triệu/m²  River Panorama Bán Căn Góc Dual- key 3PN 2WC -...   \n",
       "4   43,6 triệu/m²  Bán Chung Cư Căn Góc Viva Riverside P3 Q6 - Tầ...   \n",
       "\n",
       "                            mainAddress bathNumber bedNumber mainSquare  \\\n",
       "0                  Đ. Ký Hòa, P.11, Q.5          1         4      178.0   \n",
       "1   Đ. Số 9A, X.Bình Hưng, H.Bình Chánh          2         2       66.0   \n",
       "2  Đ. Hoàng Quốc Việt, P.Phú Thuận, Q.7          2         2       92.0   \n",
       "3  Đ. Hoàng Quốc Việt, P.Phú Thuận, Q.7          2         3      113.9   \n",
       "4              Đ. Võ Văn Kiệt, P.3, Q.6          2         3       89.0   \n",
       "\n",
       "  mainOrientation                                         detailPage  \\\n",
       "0             Nam       https://propzy.vn/mua/nha/hcm/quan-5/id34612   \n",
       "1            Đông  https://propzy.vn/mua/can-ho/hcm/huyen-binh-ch...   \n",
       "2           T.Nam   https://propzy.vn/mua/can-ho/hcm/quan-7/id376244   \n",
       "3           Đ.Nam   https://propzy.vn/mua/can-ho/hcm/quan-7/id331419   \n",
       "4           T.Nam    https://propzy.vn/mua/can-ho/hcm/quan-6/id60811   \n",
       "\n",
       "     mainID  page        lat        long  \n",
       "0   id34612     0  10.840366  106.758850  \n",
       "1  id380194     0  10.728720  106.671446  \n",
       "2  id376244     0  10.725911  106.736590  \n",
       "3  id331419     0  10.725911  106.736590  \n",
       "4   id60811     0  10.742259  106.647729  "
      ]
     },
     "execution_count": 3,
     "metadata": {},
     "output_type": "execute_result"
    }
   ],
   "source": [
    "#view dataframe\n",
    "df.head()"
   ]
  },
  {
   "cell_type": "code",
   "execution_count": 6,
   "id": "5ad42b87",
   "metadata": {},
   "outputs": [],
   "source": [
    "# drop the column Unnamed: 0\n",
    "df = df.drop(['Unnamed: 0.1'],axis = 1)"
   ]
  },
  {
   "cell_type": "code",
   "execution_count": 8,
   "id": "a64ad43e",
   "metadata": {},
   "outputs": [],
   "source": [
    "# drop page column\n",
    "df = df.drop(['page'],axis = 1)"
   ]
  },
  {
   "cell_type": "code",
   "execution_count": 9,
   "id": "3292f79f",
   "metadata": {},
   "outputs": [
    {
     "data": {
      "text/plain": [
       "imageLink           object\n",
       "totalPrice          object\n",
       "squarePrice         object\n",
       "mainTitle           object\n",
       "mainAddress         object\n",
       "bathNumber          object\n",
       "bedNumber           object\n",
       "mainSquare          object\n",
       "mainOrientation     object\n",
       "detailPage          object\n",
       "mainID              object\n",
       "lat                float64\n",
       "long               float64\n",
       "dtype: object"
      ]
     },
     "execution_count": 9,
     "metadata": {},
     "output_type": "execute_result"
    }
   ],
   "source": [
    "# inspect column type\n",
    "df.dtypes"
   ]
  },
  {
   "cell_type": "code",
   "execution_count": 10,
   "id": "be62f417",
   "metadata": {},
   "outputs": [
    {
     "data": {
      "text/plain": [
       "(1000, 13)"
      ]
     },
     "execution_count": 10,
     "metadata": {},
     "output_type": "execute_result"
    }
   ],
   "source": [
    "# inspect shame\n",
    "df.shape"
   ]
  },
  {
   "cell_type": "code",
   "execution_count": 11,
   "id": "0c29d2c1",
   "metadata": {},
   "outputs": [],
   "source": [
    "# rename columns\n",
    "df.rename(columns = {'imageLink':'image_link',\n",
    "                    'detailPage':'detail_link',\n",
    "                     'mainID':'post_id',\n",
    "                     'mainAddress': 'address',\n",
    "                     'mainTitle':'title',\n",
    "                     'mainOrientation':'orientation',\n",
    "                     'totalPrice':'price',\n",
    "                     'squarePrice':'sqm_price',\n",
    "                     'mainSquare':'sqm',\n",
    "                     'bathNumber':'bathrooms',\n",
    "                     'bedNumber':'bedrooms'\n",
    "                    },inplace = True)"
   ]
  },
  {
   "cell_type": "code",
   "execution_count": 13,
   "id": "d7905e6a",
   "metadata": {},
   "outputs": [
    {
     "data": {
      "text/plain": [
       "Index(['image_link', 'price', 'sqm_price', 'title', 'address', 'bathrooms',\n",
       "       'bedrooms', 'sqm', 'orientation', 'detail_link', 'post_id', 'lat',\n",
       "       'long'],\n",
       "      dtype='object')"
      ]
     },
     "execution_count": 13,
     "metadata": {},
     "output_type": "execute_result"
    }
   ],
   "source": [
    "df.columns"
   ]
  },
  {
   "cell_type": "code",
   "execution_count": 18,
   "id": "233c45e7",
   "metadata": {},
   "outputs": [
    {
     "name": "stdout",
     "output_type": "stream",
     "text": [
      "image_link is any Null: False\n",
      "price is any Null: False\n",
      "sqm_price is any Null: False\n",
      "title is any Null: False\n",
      "address is any Null: False\n",
      "bathrooms is any Null: False\n",
      "bedrooms is any Null: False\n",
      "sqm is any Null: False\n",
      "orientation is any Null: False\n",
      "detail_link is any Null: False\n",
      "post_id is any Null: False\n",
      "lat is any Null: False\n",
      "long is any Null: False\n"
     ]
    }
   ],
   "source": [
    "#check null value\n",
    "for col in df.columns:\n",
    "    print(str(col) + \" is any Null: {}\".format(pd.isna(df[col]).values.any()) )"
   ]
  },
  {
   "cell_type": "code",
   "execution_count": 19,
   "id": "d6291666",
   "metadata": {},
   "outputs": [],
   "source": [
    "# create a result of dataframe\n",
    "result = pd.DataFrame([])"
   ]
  },
  {
   "cell_type": "code",
   "execution_count": 20,
   "id": "1b93e8a7",
   "metadata": {},
   "outputs": [],
   "source": [
    "# add all object columns\n",
    "result = pd.concat( [result,df[['image_link','title','address','orientation','detail_link','post_id']]], axis = 1)"
   ]
  },
  {
   "cell_type": "code",
   "execution_count": 27,
   "id": "7d01509e",
   "metadata": {},
   "outputs": [
    {
     "name": "stdout",
     "output_type": "stream",
     "text": [
      "result: \n",
      "image_link     object\n",
      "title          object\n",
      "address        object\n",
      "orientation    object\n",
      "detail_link    object\n",
      "post_id        object\n",
      "dtype: object\n",
      "dataframe: \n",
      "price         object\n",
      "sqm_price     object\n",
      "bathrooms     object\n",
      "bedrooms      object\n",
      "sqm           object\n",
      "lat          float64\n",
      "long         float64\n",
      "dtype: object\n"
     ]
    }
   ],
   "source": [
    "# check columns of result\n",
    "print(\"result: \")\n",
    "print(result.dtypes)\n",
    "print(\"dataframe: \")\n",
    "print(df.dtypes)"
   ]
  },
  {
   "cell_type": "code",
   "execution_count": 22,
   "id": "c029cc9b",
   "metadata": {},
   "outputs": [],
   "source": [
    "# drop all done columns\n",
    "for col in result.columns:\n",
    "    if col in df.columns:\n",
    "        df = df.drop([col],axis = 1)"
   ]
  },
  {
   "cell_type": "code",
   "execution_count": 23,
   "id": "1b1a09ee",
   "metadata": {},
   "outputs": [
    {
     "data": {
      "text/html": [
       "<div>\n",
       "<style scoped>\n",
       "    .dataframe tbody tr th:only-of-type {\n",
       "        vertical-align: middle;\n",
       "    }\n",
       "\n",
       "    .dataframe tbody tr th {\n",
       "        vertical-align: top;\n",
       "    }\n",
       "\n",
       "    .dataframe thead th {\n",
       "        text-align: right;\n",
       "    }\n",
       "</style>\n",
       "<table border=\"1\" class=\"dataframe\">\n",
       "  <thead>\n",
       "    <tr style=\"text-align: right;\">\n",
       "      <th></th>\n",
       "      <th>price</th>\n",
       "      <th>sqm_price</th>\n",
       "      <th>bathrooms</th>\n",
       "      <th>bedrooms</th>\n",
       "      <th>sqm</th>\n",
       "      <th>lat</th>\n",
       "      <th>long</th>\n",
       "    </tr>\n",
       "  </thead>\n",
       "  <tbody>\n",
       "    <tr>\n",
       "      <th>0</th>\n",
       "      <td>38 tỷ</td>\n",
       "      <td>213,5 triệu/m²</td>\n",
       "      <td>1</td>\n",
       "      <td>4</td>\n",
       "      <td>178.0</td>\n",
       "      <td>10.840366</td>\n",
       "      <td>106.758850</td>\n",
       "    </tr>\n",
       "    <tr>\n",
       "      <th>1</th>\n",
       "      <td>3,9 tỷ</td>\n",
       "      <td>59,1 triệu/m²</td>\n",
       "      <td>2</td>\n",
       "      <td>2</td>\n",
       "      <td>66.0</td>\n",
       "      <td>10.728720</td>\n",
       "      <td>106.671446</td>\n",
       "    </tr>\n",
       "    <tr>\n",
       "      <th>2</th>\n",
       "      <td>2,85 tỷ</td>\n",
       "      <td>31 triệu/m²</td>\n",
       "      <td>2</td>\n",
       "      <td>2</td>\n",
       "      <td>92.0</td>\n",
       "      <td>10.725911</td>\n",
       "      <td>106.736590</td>\n",
       "    </tr>\n",
       "    <tr>\n",
       "      <th>3</th>\n",
       "      <td>4,2 tỷ</td>\n",
       "      <td>36,9 triệu/m²</td>\n",
       "      <td>2</td>\n",
       "      <td>3</td>\n",
       "      <td>113.9</td>\n",
       "      <td>10.725911</td>\n",
       "      <td>106.736590</td>\n",
       "    </tr>\n",
       "    <tr>\n",
       "      <th>4</th>\n",
       "      <td>3,88 tỷ</td>\n",
       "      <td>43,6 triệu/m²</td>\n",
       "      <td>2</td>\n",
       "      <td>3</td>\n",
       "      <td>89.0</td>\n",
       "      <td>10.742259</td>\n",
       "      <td>106.647729</td>\n",
       "    </tr>\n",
       "  </tbody>\n",
       "</table>\n",
       "</div>"
      ],
      "text/plain": [
       "     price       sqm_price bathrooms bedrooms    sqm        lat        long\n",
       "0    38 tỷ  213,5 triệu/m²         1        4  178.0  10.840366  106.758850\n",
       "1   3,9 tỷ   59,1 triệu/m²         2        2   66.0  10.728720  106.671446\n",
       "2  2,85 tỷ     31 triệu/m²         2        2   92.0  10.725911  106.736590\n",
       "3   4,2 tỷ   36,9 triệu/m²         2        3  113.9  10.725911  106.736590\n",
       "4  3,88 tỷ   43,6 triệu/m²         2        3   89.0  10.742259  106.647729"
      ]
     },
     "execution_count": 23,
     "metadata": {},
     "output_type": "execute_result"
    }
   ],
   "source": [
    "df.head()"
   ]
  },
  {
   "cell_type": "code",
   "execution_count": 62,
   "id": "f8fafebd",
   "metadata": {},
   "outputs": [],
   "source": [
    "#write function cell\n",
    "def to_integer(val,banlist):\n",
    "    if val not in banlist:\n",
    "        val = int(val)\n",
    "    else:\n",
    "        val = 0\n",
    "    return val\n",
    "\n",
    "def to_float(val,banlist):\n",
    "    if val not in banlist:\n",
    "        val = float(val)\n",
    "    else:\n",
    "        val = 0\n",
    "    return val"
   ]
  },
  {
   "cell_type": "code",
   "execution_count": 34,
   "id": "0a8907be",
   "metadata": {},
   "outputs": [
    {
     "data": {
      "text/plain": [
       "array(['1', '2', '3', '--', '8', '6', '4', '17', '5', '10', '9', '14',\n",
       "       '7', '13', '26', '12', '16', '85', '35', '28', '11', '49', '58',\n",
       "       '30', '18'], dtype=object)"
      ]
     },
     "execution_count": 34,
     "metadata": {},
     "output_type": "execute_result"
    }
   ],
   "source": [
    "# inspect bathrooms and bedrooms \n",
    "df['bathrooms'].unique()"
   ]
  },
  {
   "cell_type": "code",
   "execution_count": 35,
   "id": "91cb2bff",
   "metadata": {},
   "outputs": [
    {
     "data": {
      "text/plain": [
       "array(['4', '2', '3', '--', '1', '5', '7', '8', '6', '17', '9', '10',\n",
       "       '14', '13', '24', '11', '16', '84', '35', '12', '34', '28', '49',\n",
       "       '15', '58', '30', '18'], dtype=object)"
      ]
     },
     "execution_count": 35,
     "metadata": {},
     "output_type": "execute_result"
    }
   ],
   "source": [
    "df['bedrooms'].unique()"
   ]
  },
  {
   "cell_type": "code",
   "execution_count": 36,
   "id": "e352848f",
   "metadata": {},
   "outputs": [],
   "source": [
    "# turn bedrooms and bathrooms into into integer\n",
    "df['bathrooms'] = df['bathrooms'].apply(to_integer,args = (['--'],))\n",
    "df['bedrooms'] = df['bedrooms'].apply(to_integer,args = (['--'],))"
   ]
  },
  {
   "cell_type": "code",
   "execution_count": 37,
   "id": "204d4c5d",
   "metadata": {},
   "outputs": [
    {
     "data": {
      "text/plain": [
       "price         object\n",
       "sqm_price     object\n",
       "bathrooms      int64\n",
       "bedrooms       int64\n",
       "sqm           object\n",
       "lat          float64\n",
       "long         float64\n",
       "dtype: object"
      ]
     },
     "execution_count": 37,
     "metadata": {},
     "output_type": "execute_result"
    }
   ],
   "source": [
    "# check again\n",
    "df.dtypes"
   ]
  },
  {
   "cell_type": "code",
   "execution_count": 45,
   "id": "64eb9c80",
   "metadata": {},
   "outputs": [],
   "source": [
    "# take bathrooms and bedrooms \n",
    "result = pd.concat([result,df[['bathrooms','bedrooms']] ],axis = 1)"
   ]
  },
  {
   "cell_type": "code",
   "execution_count": 46,
   "id": "7a8f7b8c",
   "metadata": {},
   "outputs": [
    {
     "data": {
      "text/plain": [
       "Index(['image_link', 'title', 'address', 'orientation', 'detail_link',\n",
       "       'post_id', 'bathrooms', 'bedrooms'],\n",
       "      dtype='object')"
      ]
     },
     "execution_count": 46,
     "metadata": {},
     "output_type": "execute_result"
    }
   ],
   "source": [
    "result.columns"
   ]
  },
  {
   "cell_type": "code",
   "execution_count": 47,
   "id": "0ad39ba5",
   "metadata": {},
   "outputs": [],
   "source": [
    "# drop bathrooms and bedrooms \n",
    "for col in result.columns:\n",
    "    if col in df.columns:\n",
    "        df = df.drop([col],axis = 1)"
   ]
  },
  {
   "cell_type": "code",
   "execution_count": 48,
   "id": "161af5d2",
   "metadata": {},
   "outputs": [
    {
     "data": {
      "text/html": [
       "<div>\n",
       "<style scoped>\n",
       "    .dataframe tbody tr th:only-of-type {\n",
       "        vertical-align: middle;\n",
       "    }\n",
       "\n",
       "    .dataframe tbody tr th {\n",
       "        vertical-align: top;\n",
       "    }\n",
       "\n",
       "    .dataframe thead th {\n",
       "        text-align: right;\n",
       "    }\n",
       "</style>\n",
       "<table border=\"1\" class=\"dataframe\">\n",
       "  <thead>\n",
       "    <tr style=\"text-align: right;\">\n",
       "      <th></th>\n",
       "      <th>price</th>\n",
       "      <th>sqm_price</th>\n",
       "      <th>sqm</th>\n",
       "      <th>lat</th>\n",
       "      <th>long</th>\n",
       "    </tr>\n",
       "  </thead>\n",
       "  <tbody>\n",
       "    <tr>\n",
       "      <th>0</th>\n",
       "      <td>38 tỷ</td>\n",
       "      <td>213,5 triệu/m²</td>\n",
       "      <td>178.0</td>\n",
       "      <td>10.840366</td>\n",
       "      <td>106.758850</td>\n",
       "    </tr>\n",
       "    <tr>\n",
       "      <th>1</th>\n",
       "      <td>3,9 tỷ</td>\n",
       "      <td>59,1 triệu/m²</td>\n",
       "      <td>66.0</td>\n",
       "      <td>10.728720</td>\n",
       "      <td>106.671446</td>\n",
       "    </tr>\n",
       "    <tr>\n",
       "      <th>2</th>\n",
       "      <td>2,85 tỷ</td>\n",
       "      <td>31 triệu/m²</td>\n",
       "      <td>92.0</td>\n",
       "      <td>10.725911</td>\n",
       "      <td>106.736590</td>\n",
       "    </tr>\n",
       "    <tr>\n",
       "      <th>3</th>\n",
       "      <td>4,2 tỷ</td>\n",
       "      <td>36,9 triệu/m²</td>\n",
       "      <td>113.9</td>\n",
       "      <td>10.725911</td>\n",
       "      <td>106.736590</td>\n",
       "    </tr>\n",
       "    <tr>\n",
       "      <th>4</th>\n",
       "      <td>3,88 tỷ</td>\n",
       "      <td>43,6 triệu/m²</td>\n",
       "      <td>89.0</td>\n",
       "      <td>10.742259</td>\n",
       "      <td>106.647729</td>\n",
       "    </tr>\n",
       "  </tbody>\n",
       "</table>\n",
       "</div>"
      ],
      "text/plain": [
       "     price       sqm_price    sqm        lat        long\n",
       "0    38 tỷ  213,5 triệu/m²  178.0  10.840366  106.758850\n",
       "1   3,9 tỷ   59,1 triệu/m²   66.0  10.728720  106.671446\n",
       "2  2,85 tỷ     31 triệu/m²   92.0  10.725911  106.736590\n",
       "3   4,2 tỷ   36,9 triệu/m²  113.9  10.725911  106.736590\n",
       "4  3,88 tỷ   43,6 triệu/m²   89.0  10.742259  106.647729"
      ]
     },
     "execution_count": 48,
     "metadata": {},
     "output_type": "execute_result"
    }
   ],
   "source": [
    "df.head()"
   ]
  },
  {
   "cell_type": "code",
   "execution_count": 50,
   "id": "fc6fe1c4",
   "metadata": {},
   "outputs": [],
   "source": [
    "# take long and lat\n",
    "result = pd.concat( [result,df[['lat','long']] ],axis = 1)"
   ]
  },
  {
   "cell_type": "code",
   "execution_count": 51,
   "id": "fafc1799",
   "metadata": {},
   "outputs": [],
   "source": [
    "# drop lat and long out of the dataframe\n",
    "for col in result.columns:\n",
    "    if col in df.columns:\n",
    "        df = df.drop([col],axis = 1)"
   ]
  },
  {
   "cell_type": "code",
   "execution_count": 52,
   "id": "5b93765f",
   "metadata": {},
   "outputs": [
    {
     "data": {
      "text/html": [
       "<div>\n",
       "<style scoped>\n",
       "    .dataframe tbody tr th:only-of-type {\n",
       "        vertical-align: middle;\n",
       "    }\n",
       "\n",
       "    .dataframe tbody tr th {\n",
       "        vertical-align: top;\n",
       "    }\n",
       "\n",
       "    .dataframe thead th {\n",
       "        text-align: right;\n",
       "    }\n",
       "</style>\n",
       "<table border=\"1\" class=\"dataframe\">\n",
       "  <thead>\n",
       "    <tr style=\"text-align: right;\">\n",
       "      <th></th>\n",
       "      <th>price</th>\n",
       "      <th>sqm_price</th>\n",
       "      <th>sqm</th>\n",
       "    </tr>\n",
       "  </thead>\n",
       "  <tbody>\n",
       "    <tr>\n",
       "      <th>0</th>\n",
       "      <td>38 tỷ</td>\n",
       "      <td>213,5 triệu/m²</td>\n",
       "      <td>178.0</td>\n",
       "    </tr>\n",
       "    <tr>\n",
       "      <th>1</th>\n",
       "      <td>3,9 tỷ</td>\n",
       "      <td>59,1 triệu/m²</td>\n",
       "      <td>66.0</td>\n",
       "    </tr>\n",
       "    <tr>\n",
       "      <th>2</th>\n",
       "      <td>2,85 tỷ</td>\n",
       "      <td>31 triệu/m²</td>\n",
       "      <td>92.0</td>\n",
       "    </tr>\n",
       "    <tr>\n",
       "      <th>3</th>\n",
       "      <td>4,2 tỷ</td>\n",
       "      <td>36,9 triệu/m²</td>\n",
       "      <td>113.9</td>\n",
       "    </tr>\n",
       "    <tr>\n",
       "      <th>4</th>\n",
       "      <td>3,88 tỷ</td>\n",
       "      <td>43,6 triệu/m²</td>\n",
       "      <td>89.0</td>\n",
       "    </tr>\n",
       "  </tbody>\n",
       "</table>\n",
       "</div>"
      ],
      "text/plain": [
       "     price       sqm_price    sqm\n",
       "0    38 tỷ  213,5 triệu/m²  178.0\n",
       "1   3,9 tỷ   59,1 triệu/m²   66.0\n",
       "2  2,85 tỷ     31 triệu/m²   92.0\n",
       "3   4,2 tỷ   36,9 triệu/m²  113.9\n",
       "4  3,88 tỷ   43,6 triệu/m²   89.0"
      ]
     },
     "execution_count": 52,
     "metadata": {},
     "output_type": "execute_result"
    }
   ],
   "source": [
    "df.head()"
   ]
  },
  {
   "cell_type": "code",
   "execution_count": 60,
   "id": "2ac6427f",
   "metadata": {},
   "outputs": [
    {
     "data": {
      "text/plain": [
       "array(['178.0', '66.0', '92.0', '113.9', '89.0', '65.3', '89.9', '153.6',\n",
       "       '65.0', '33.6', '51.0', '85.7', '109.0', '90.7', '69.0', '105.0',\n",
       "       '78.6', '277.0', '83.6', '90.6', '96.5', '67.0', '70.0', '79.0',\n",
       "       '52.1', '97.2', '71.6', '60.0', '83.0', '73.0', '75.0', '31.9',\n",
       "       '114.2', '57.3', '35.4', '11.7', '111.7', '60.3', '61.0', '73.1',\n",
       "       '96.1', '34.9', '80.6', '38.8', '37.1', '29.3', '45.7', '90.0',\n",
       "       '50.0', '53.7', '40.9', '84.0', '82.8', '59.4', '64.1', '31.0',\n",
       "       '55.0', '76.0', '56.5', '38.3', '27.0', '102.0', '90.5', '100.2',\n",
       "       '51.7', '51.3', '49.1', '80.0', '57.9', '41.3', '146.5', '59.2',\n",
       "       '105.2', '2,757.7', '147.5', '31.5', '278.2', '44.1', '159.0',\n",
       "       '23.0', '67.7', '24.9', '55.6', '59.9', '33.4', '46.4', '119.1',\n",
       "       '97.0', '160.0', '75.8', '21.5', '73.2', '69.6', '130.0', '129.7',\n",
       "       '48.7', '32.2', '46.5', '64.2', '19.8', '143.0', '30.0', '32.0',\n",
       "       '29.4', '96.2', '81.5', '64.8', '40.5', '56.7', '72.0', '75.4',\n",
       "       '59.7', '276.5', '73.3', '69.5', '63.5', '38.5', '70.5', '94.3',\n",
       "       '58.9', '82.5', '42.0', '49.7', '29.6', '53.6', '187.7', '87.4',\n",
       "       '83.7', '14.4', '63.0', '52.0', '82.0', '39.1', '73.5', '44.3',\n",
       "       '69.8', '46.7', '35.9', '49.4', '53.2', '51.6', '30.7', '29.8',\n",
       "       '24.3', '62.7', '44.9', '121.9', '51.2', '37.3', '95.0', '106.0',\n",
       "       '31.4', '191.0', '122.0', '70.6', '61.3', '45.1', '29.7', '46.8',\n",
       "       '84.1', '96.0', '81.9', '83.2', '286.4', '21.8', '45.5', '39.0',\n",
       "       '267.4', '120.5', '54.3', '29.1', '300.4', '82.6', '126.0', '93.5',\n",
       "       '49.3', '135.0', '200.0', '92.4', '86.9', '71.8', '101.8', '40.8',\n",
       "       '96.3', '66.2', '60.5', '4,371.0', '68.0', '37.4', '43.4', '76.5',\n",
       "       '36.0', '76.2', '49.0', '28.8', '43.9', '91.2', '115.3', '77.6',\n",
       "       '648.4', '51.5', '72.6', '81.0', '130.9', '66.8', '104.0', '20.3',\n",
       "       '81.7', '94.0', '58.6', '36.7', '22.7', '22.0', '56.1', '61.2',\n",
       "       '54.8', '61.9', '162.0', '128.4', '48.6', '36.1', '32.7', '45.9',\n",
       "       '16.5', '101.9', '664.4', '65.2', '136.0', '33.5', '25.0', '69.3',\n",
       "       '136.2', '23.9', '63.2', '100.0', '70.2', '96.7', '34.7', '53.4',\n",
       "       '38.0', '97.3', '479.1', '67.4', '38.7', '46.9', '69.7', '141.3',\n",
       "       '115.0', '143.8', '93.8', '40.3', '119.2', '133.6', '76.3',\n",
       "       '215.1', '64.0', '89.6', '99.8', '113.0', '226.8', '113.8', '26.5',\n",
       "       '93.7', '165.7', '127.0', '57.1', '30.6', '31.6', '60.8', '249.3',\n",
       "       '26.4', '76.8', '23.4', '65.8', '86.7', '172.6', '128.9', '241.1',\n",
       "       '50.1', '106.1', '32.4', '60.9', '77.8', '52.7', '44.6', '104.6',\n",
       "       '35.0', '36.5', '85.5', '33.0', '51.1', '213.5', '79.6', '20.8',\n",
       "       '28.0', '77.4', '13.7', '36.6', '284.0', '83.9', '93.0', '14.8',\n",
       "       '46.0', '64.4', '88.0', '130.5', '43.1', '63.4', '184.0', '58.0',\n",
       "       '1,500.0', '53.1', '54.5', '37.6', '72.2', '56.4', '89.4', '52.3',\n",
       "       '85.2', '52.8', '66.9', '87.6', '65.6', '112.0', '41.0', '301.9',\n",
       "       '22.8', '91.1', '250.0', '64.9', '47.6', '79.3', '55.4', '55.5',\n",
       "       '60.4', '99.9', '22.5', '36.3', '25.9', '43.2', '50.4', '20.7',\n",
       "       '107.0', '80.9', '601.8', '56.0', '69.4', '51.4', '34.5',\n",
       "       '1,083.9', '37.2', '76.1', '54.6', '84.3', '57.0', '400.0', '45.3',\n",
       "       '80.4', '87.0', '62.6', '80.8', '86.0', '35.6', '92.7', '107.5',\n",
       "       '20.5', '48.0', '74.4', '12.6', '52.4', '103.5', '71.2', '118.4',\n",
       "       '94.7', '189.7', '74.2', '115.5', '61.1', '67.9', '19.3', '15.2',\n",
       "       '19.0', '39.5', '167.9', '65.4', '93.6', '285.2', '45.2', '114.4',\n",
       "       '48.8', '72.4', '41.6', '63.1', '4,494.0', '179.9', '52.6', '35.2',\n",
       "       '80.2', '61.4', '114.5', '59.1', '359.2', '42.5', '16.8', '80.1',\n",
       "       '96.6', '79.5', '77.2', '10.8', '70.9', '59.8', '53.0', '43.3',\n",
       "       '81.3', '142.3', '118.5', '81.4', '67.2', '71.4', '254.5', '77.0',\n",
       "       '30.2', '66.4', '76.7', '71.9', '20.0', '34.0', '142.2', '64.6',\n",
       "       '28.4', '35.3', '77.1', '112.5', '104.1', '99.4', '166.5', '79.2',\n",
       "       '50.9', '940.0', '26.2', '64.3', '101.7', '433.6', '93.4', '44.4',\n",
       "       '40.0', '279.8', '95.5', '96.9', '31.7', '46.1', '68.9', '31.3',\n",
       "       '55.1', '44.0', '119.0', '49.5', '81.6', '47.0', '73.6', '48.3',\n",
       "       '42.9', '36.8', '40.2', '82.4', '53.5', '55.8', '132.5', '73.9',\n",
       "       '823.0', '69.2', '65.7', '38.6', '79.8', '98.1', '76.4', '71.7',\n",
       "       '59.5', '109.9', '66.5', '106.6', '12.4', '33.8', '92.6', '99.0',\n",
       "       '39.7', '25.1', '54.4', '75.1', '32.5', '148.2', '59.0', '225.6',\n",
       "       '97.4', '128.7', '39.6', '75.6', '54.0', '68.2', '114.7', '74.0',\n",
       "       '84.6', '61.6', '84.7', '81.1', '26.7', '15.5', '318.9', '37.0',\n",
       "       '50.3', '28.1', '49.9', '56.2', '93.9', '603.1', '63.9', '145.1',\n",
       "       '36.4', '25.8', '24.6', '67.1', '43.8', '30.4', '87.9', '311.8',\n",
       "       '105.8', '136.8', '84.4', '24.0', '333.0', '43.5', '132.8', '25.5',\n",
       "       '278.0', '166.0', '381.4', '67.5', '27.4', '48.5', '99.6', '132.9',\n",
       "       '54.1', '150.0', '124.0', '45.8', '32.8', '52.5', '27.3', '45.6',\n",
       "       '55.3', '62.1', '143.4', '11.2', '38.2', '93.2', '57.7', '79.1',\n",
       "       '65.9', '83.4', '120.1', '42.3', '279.9', '70.3', '191.9', '190.0',\n",
       "       '148.7', '1,212.5', '19.2', '49.8', '66.6', '14.0', '98.8', '61.8',\n",
       "       '47.3', '75.3', '105.7', '57.5', '56.6', '17.3', '62.8', '78.5',\n",
       "       '193.1', '15.9', '68.5', '62.3', '22.9', '27.1', '41.5', '88.4',\n",
       "       '30.1', '24.1', '116.4', '27.9', '62.9', '75.7', '118.7', '167.0',\n",
       "       '111.4', '104.5', '78.3', '102.8', '21.7', '28.6', '54.7', '129.9',\n",
       "       '45.0', '76.9', '33.3', '43.0', '101.0', '43.6', '60.1', '86.6',\n",
       "       '10.1', '89.5', '91.5', '55.7', '50.2', '34.6', '195.9', '47.4',\n",
       "       '90.8', '18.9', '8.3', '96.4', '494.7', '72.3', '182.6', '101.2',\n",
       "       '38.1', '13.0', '274.0', '55.2', '20.9', '139.1'], dtype=object)"
      ]
     },
     "execution_count": 60,
     "metadata": {},
     "output_type": "execute_result"
    }
   ],
   "source": [
    "# inspect sqm\n",
    "df['sqm'].unique()"
   ]
  },
  {
   "cell_type": "code",
   "execution_count": 65,
   "id": "88cc1394",
   "metadata": {},
   "outputs": [],
   "source": [
    "# replace \",\",\"\" in sqm\n",
    "df['sqm'] = df['sqm'].apply(lambda x:x.replace(\",\",\"\"))"
   ]
  },
  {
   "cell_type": "code",
   "execution_count": 67,
   "id": "0d697b48",
   "metadata": {},
   "outputs": [],
   "source": [
    "# turn sqm into float\n",
    "df['sqm'] = df['sqm'].apply(to_float,args = (['None','--'],))"
   ]
  },
  {
   "cell_type": "code",
   "execution_count": 70,
   "id": "43ff8e81",
   "metadata": {},
   "outputs": [
    {
     "data": {
      "text/plain": [
       "price         object\n",
       "sqm_price     object\n",
       "sqm          float64\n",
       "dtype: object"
      ]
     },
     "execution_count": 70,
     "metadata": {},
     "output_type": "execute_result"
    }
   ],
   "source": [
    "# check column type\n",
    "df.dtypes"
   ]
  },
  {
   "cell_type": "code",
   "execution_count": 71,
   "id": "a44f14d6",
   "metadata": {},
   "outputs": [],
   "source": [
    "# add sqm into result\n",
    "result = pd.concat([result,df['sqm']],axis = 1)"
   ]
  },
  {
   "cell_type": "code",
   "execution_count": 73,
   "id": "43f48532",
   "metadata": {},
   "outputs": [],
   "source": [
    "for col in result.columns:\n",
    "    if col in df.columns:\n",
    "        df = df.drop([col],axis = 1)"
   ]
  },
  {
   "cell_type": "code",
   "execution_count": 74,
   "id": "7d3c540e",
   "metadata": {},
   "outputs": [
    {
     "data": {
      "text/html": [
       "<div>\n",
       "<style scoped>\n",
       "    .dataframe tbody tr th:only-of-type {\n",
       "        vertical-align: middle;\n",
       "    }\n",
       "\n",
       "    .dataframe tbody tr th {\n",
       "        vertical-align: top;\n",
       "    }\n",
       "\n",
       "    .dataframe thead th {\n",
       "        text-align: right;\n",
       "    }\n",
       "</style>\n",
       "<table border=\"1\" class=\"dataframe\">\n",
       "  <thead>\n",
       "    <tr style=\"text-align: right;\">\n",
       "      <th></th>\n",
       "      <th>price</th>\n",
       "      <th>sqm_price</th>\n",
       "    </tr>\n",
       "  </thead>\n",
       "  <tbody>\n",
       "    <tr>\n",
       "      <th>0</th>\n",
       "      <td>38 tỷ</td>\n",
       "      <td>213,5 triệu/m²</td>\n",
       "    </tr>\n",
       "    <tr>\n",
       "      <th>1</th>\n",
       "      <td>3,9 tỷ</td>\n",
       "      <td>59,1 triệu/m²</td>\n",
       "    </tr>\n",
       "    <tr>\n",
       "      <th>2</th>\n",
       "      <td>2,85 tỷ</td>\n",
       "      <td>31 triệu/m²</td>\n",
       "    </tr>\n",
       "    <tr>\n",
       "      <th>3</th>\n",
       "      <td>4,2 tỷ</td>\n",
       "      <td>36,9 triệu/m²</td>\n",
       "    </tr>\n",
       "    <tr>\n",
       "      <th>4</th>\n",
       "      <td>3,88 tỷ</td>\n",
       "      <td>43,6 triệu/m²</td>\n",
       "    </tr>\n",
       "  </tbody>\n",
       "</table>\n",
       "</div>"
      ],
      "text/plain": [
       "     price       sqm_price\n",
       "0    38 tỷ  213,5 triệu/m²\n",
       "1   3,9 tỷ   59,1 triệu/m²\n",
       "2  2,85 tỷ     31 triệu/m²\n",
       "3   4,2 tỷ   36,9 triệu/m²\n",
       "4  3,88 tỷ   43,6 triệu/m²"
      ]
     },
     "execution_count": 74,
     "metadata": {},
     "output_type": "execute_result"
    }
   ],
   "source": [
    "df.head()"
   ]
  },
  {
   "cell_type": "code",
   "execution_count": 77,
   "id": "118a5177",
   "metadata": {},
   "outputs": [
    {
     "data": {
      "text/plain": [
       "<bound method Series.unique of 0        38 tỷ\n",
       "1       3,9 tỷ\n",
       "2      2,85 tỷ\n",
       "3       4,2 tỷ\n",
       "4      3,88 tỷ\n",
       "        ...   \n",
       "995     2,4 tỷ\n",
       "996     3,3 tỷ\n",
       "997       4 tỷ\n",
       "998     5,8 tỷ\n",
       "999    10,5 tỷ\n",
       "Name: price, Length: 1000, dtype: object>"
      ]
     },
     "execution_count": 77,
     "metadata": {},
     "output_type": "execute_result"
    }
   ],
   "source": [
    "# take care price\n",
    "df['price'].unique"
   ]
  },
  {
   "cell_type": "code",
   "execution_count": 79,
   "id": "07a325f5",
   "metadata": {},
   "outputs": [],
   "source": [
    "# replace space and ty\n",
    "df['price'] = df['price'].apply(lambda x : x.replace('tỷ',\"\"))"
   ]
  },
  {
   "cell_type": "code",
   "execution_count": 81,
   "id": "3ed49a76",
   "metadata": {},
   "outputs": [],
   "source": [
    "# replace ,\n",
    "df['price'] = df['price'].apply(lambda x: x.replace(\",\",\".\")) "
   ]
  },
  {
   "cell_type": "code",
   "execution_count": 83,
   "id": "e8507745",
   "metadata": {},
   "outputs": [
    {
     "ename": "ValueError",
     "evalue": "could not convert string to float: '900 triệu'",
     "output_type": "error",
     "traceback": [
      "\u001b[1;31m---------------------------------------------------------------------------\u001b[0m",
      "\u001b[1;31mValueError\u001b[0m                                Traceback (most recent call last)",
      "\u001b[1;32m<ipython-input-83-0aac2b1f9498>\u001b[0m in \u001b[0;36m<module>\u001b[1;34m\u001b[0m\n\u001b[0;32m      1\u001b[0m \u001b[1;31m# turn price into float\u001b[0m\u001b[1;33m\u001b[0m\u001b[1;33m\u001b[0m\u001b[1;33m\u001b[0m\u001b[0m\n\u001b[1;32m----> 2\u001b[1;33m \u001b[0mdf\u001b[0m\u001b[1;33m[\u001b[0m\u001b[1;34m'price'\u001b[0m\u001b[1;33m]\u001b[0m \u001b[1;33m=\u001b[0m \u001b[0mdf\u001b[0m\u001b[1;33m[\u001b[0m\u001b[1;34m'price'\u001b[0m\u001b[1;33m]\u001b[0m\u001b[1;33m.\u001b[0m\u001b[0mapply\u001b[0m\u001b[1;33m(\u001b[0m\u001b[0mto_float\u001b[0m\u001b[1;33m,\u001b[0m\u001b[0margs\u001b[0m \u001b[1;33m=\u001b[0m \u001b[1;33m(\u001b[0m\u001b[1;33m[\u001b[0m\u001b[1;34m'--'\u001b[0m\u001b[1;33m]\u001b[0m\u001b[1;33m,\u001b[0m\u001b[1;33m)\u001b[0m\u001b[1;33m)\u001b[0m\u001b[1;33m\u001b[0m\u001b[1;33m\u001b[0m\u001b[0m\n\u001b[0m",
      "\u001b[1;32m~\\anaconda3\\lib\\site-packages\\pandas\\core\\series.py\u001b[0m in \u001b[0;36mapply\u001b[1;34m(self, func, convert_dtype, args, **kwds)\u001b[0m\n\u001b[0;32m   4136\u001b[0m             \u001b[1;32melse\u001b[0m\u001b[1;33m:\u001b[0m\u001b[1;33m\u001b[0m\u001b[1;33m\u001b[0m\u001b[0m\n\u001b[0;32m   4137\u001b[0m                 \u001b[0mvalues\u001b[0m \u001b[1;33m=\u001b[0m \u001b[0mself\u001b[0m\u001b[1;33m.\u001b[0m\u001b[0mastype\u001b[0m\u001b[1;33m(\u001b[0m\u001b[0mobject\u001b[0m\u001b[1;33m)\u001b[0m\u001b[1;33m.\u001b[0m\u001b[0m_values\u001b[0m\u001b[1;33m\u001b[0m\u001b[1;33m\u001b[0m\u001b[0m\n\u001b[1;32m-> 4138\u001b[1;33m                 \u001b[0mmapped\u001b[0m \u001b[1;33m=\u001b[0m \u001b[0mlib\u001b[0m\u001b[1;33m.\u001b[0m\u001b[0mmap_infer\u001b[0m\u001b[1;33m(\u001b[0m\u001b[0mvalues\u001b[0m\u001b[1;33m,\u001b[0m \u001b[0mf\u001b[0m\u001b[1;33m,\u001b[0m \u001b[0mconvert\u001b[0m\u001b[1;33m=\u001b[0m\u001b[0mconvert_dtype\u001b[0m\u001b[1;33m)\u001b[0m\u001b[1;33m\u001b[0m\u001b[1;33m\u001b[0m\u001b[0m\n\u001b[0m\u001b[0;32m   4139\u001b[0m \u001b[1;33m\u001b[0m\u001b[0m\n\u001b[0;32m   4140\u001b[0m         \u001b[1;32mif\u001b[0m \u001b[0mlen\u001b[0m\u001b[1;33m(\u001b[0m\u001b[0mmapped\u001b[0m\u001b[1;33m)\u001b[0m \u001b[1;32mand\u001b[0m \u001b[0misinstance\u001b[0m\u001b[1;33m(\u001b[0m\u001b[0mmapped\u001b[0m\u001b[1;33m[\u001b[0m\u001b[1;36m0\u001b[0m\u001b[1;33m]\u001b[0m\u001b[1;33m,\u001b[0m \u001b[0mSeries\u001b[0m\u001b[1;33m)\u001b[0m\u001b[1;33m:\u001b[0m\u001b[1;33m\u001b[0m\u001b[1;33m\u001b[0m\u001b[0m\n",
      "\u001b[1;32mpandas\\_libs\\lib.pyx\u001b[0m in \u001b[0;36mpandas._libs.lib.map_infer\u001b[1;34m()\u001b[0m\n",
      "\u001b[1;32m~\\anaconda3\\lib\\site-packages\\pandas\\core\\series.py\u001b[0m in \u001b[0;36mf\u001b[1;34m(x)\u001b[0m\n\u001b[0;32m   4121\u001b[0m \u001b[1;33m\u001b[0m\u001b[0m\n\u001b[0;32m   4122\u001b[0m             \u001b[1;32mdef\u001b[0m \u001b[0mf\u001b[0m\u001b[1;33m(\u001b[0m\u001b[0mx\u001b[0m\u001b[1;33m)\u001b[0m\u001b[1;33m:\u001b[0m\u001b[1;33m\u001b[0m\u001b[1;33m\u001b[0m\u001b[0m\n\u001b[1;32m-> 4123\u001b[1;33m                 \u001b[1;32mreturn\u001b[0m \u001b[0mfunc\u001b[0m\u001b[1;33m(\u001b[0m\u001b[0mx\u001b[0m\u001b[1;33m,\u001b[0m \u001b[1;33m*\u001b[0m\u001b[0margs\u001b[0m\u001b[1;33m,\u001b[0m \u001b[1;33m**\u001b[0m\u001b[0mkwds\u001b[0m\u001b[1;33m)\u001b[0m\u001b[1;33m\u001b[0m\u001b[1;33m\u001b[0m\u001b[0m\n\u001b[0m\u001b[0;32m   4124\u001b[0m \u001b[1;33m\u001b[0m\u001b[0m\n\u001b[0;32m   4125\u001b[0m         \u001b[1;32melse\u001b[0m\u001b[1;33m:\u001b[0m\u001b[1;33m\u001b[0m\u001b[1;33m\u001b[0m\u001b[0m\n",
      "\u001b[1;32m<ipython-input-62-782ca108534c>\u001b[0m in \u001b[0;36mto_float\u001b[1;34m(val, banlist)\u001b[0m\n\u001b[0;32m      9\u001b[0m \u001b[1;32mdef\u001b[0m \u001b[0mto_float\u001b[0m\u001b[1;33m(\u001b[0m\u001b[0mval\u001b[0m\u001b[1;33m,\u001b[0m\u001b[0mbanlist\u001b[0m\u001b[1;33m)\u001b[0m\u001b[1;33m:\u001b[0m\u001b[1;33m\u001b[0m\u001b[1;33m\u001b[0m\u001b[0m\n\u001b[0;32m     10\u001b[0m     \u001b[1;32mif\u001b[0m \u001b[0mval\u001b[0m \u001b[1;32mnot\u001b[0m \u001b[1;32min\u001b[0m \u001b[0mbanlist\u001b[0m\u001b[1;33m:\u001b[0m\u001b[1;33m\u001b[0m\u001b[1;33m\u001b[0m\u001b[0m\n\u001b[1;32m---> 11\u001b[1;33m         \u001b[0mval\u001b[0m \u001b[1;33m=\u001b[0m \u001b[0mfloat\u001b[0m\u001b[1;33m(\u001b[0m\u001b[0mval\u001b[0m\u001b[1;33m)\u001b[0m\u001b[1;33m\u001b[0m\u001b[1;33m\u001b[0m\u001b[0m\n\u001b[0m\u001b[0;32m     12\u001b[0m     \u001b[1;32melse\u001b[0m\u001b[1;33m:\u001b[0m\u001b[1;33m\u001b[0m\u001b[1;33m\u001b[0m\u001b[0m\n\u001b[0;32m     13\u001b[0m         \u001b[0mval\u001b[0m \u001b[1;33m=\u001b[0m \u001b[1;36m0\u001b[0m\u001b[1;33m\u001b[0m\u001b[1;33m\u001b[0m\u001b[0m\n",
      "\u001b[1;31mValueError\u001b[0m: could not convert string to float: '900 triệu'"
     ]
    }
   ],
   "source": [
    "# turn price into float\n",
    "df['price'] = df['price'].apply(to_float,args = (['--'],))"
   ]
  },
  {
   "cell_type": "code",
   "execution_count": 84,
   "id": "ec1b231f",
   "metadata": {},
   "outputs": [],
   "source": [
    "# handle with special case\n",
    "df['price'] =df['price'].apply(lambda x: x.replace('900 triệu','0.9'))"
   ]
  },
  {
   "cell_type": "code",
   "execution_count": 85,
   "id": "d22f2c86",
   "metadata": {},
   "outputs": [],
   "source": [
    "df['price'] = df['price'].apply(to_float,args = (['--'],))"
   ]
  },
  {
   "cell_type": "code",
   "execution_count": 87,
   "id": "f1595ad8",
   "metadata": {},
   "outputs": [],
   "source": [
    "result = pd.concat([result,df['price']],axis = 1)"
   ]
  },
  {
   "cell_type": "code",
   "execution_count": 89,
   "id": "2003d892",
   "metadata": {},
   "outputs": [],
   "source": [
    "for col in result.columns:\n",
    "    if col in df.columns:\n",
    "        df =df.drop([col],axis = 1)"
   ]
  },
  {
   "cell_type": "code",
   "execution_count": 95,
   "id": "cbd6d7d1",
   "metadata": {},
   "outputs": [],
   "source": [
    "result['price'] = result['price'] * 1000000000"
   ]
  },
  {
   "cell_type": "code",
   "execution_count": 91,
   "id": "a6a8021a",
   "metadata": {},
   "outputs": [],
   "source": [
    "# handle the sqm_price\n",
    "df['sqm_price'] = df['sqm_price'].apply(lambda x: x.replace('triệu/m²',''))"
   ]
  },
  {
   "cell_type": "code",
   "execution_count": 93,
   "id": "6be89734",
   "metadata": {},
   "outputs": [],
   "source": [
    "df['sqm_price'] = df['sqm_price'].apply(lambda x: x.replace(',','.'))"
   ]
  },
  {
   "cell_type": "code",
   "execution_count": 96,
   "id": "86acfc5e",
   "metadata": {},
   "outputs": [],
   "source": [
    "df['sqm_price'] = df['sqm_price'].apply(to_float,args = (['--'],))"
   ]
  },
  {
   "cell_type": "code",
   "execution_count": 98,
   "id": "e4fb282b",
   "metadata": {},
   "outputs": [],
   "source": [
    "result = pd.concat([result,df['sqm_price']],axis =1)"
   ]
  },
  {
   "cell_type": "code",
   "execution_count": 99,
   "id": "2ba30545",
   "metadata": {},
   "outputs": [],
   "source": [
    "for col in result.columns:\n",
    "    if col in df.columns:\n",
    "        df =df.drop([col],axis = 1)"
   ]
  },
  {
   "cell_type": "code",
   "execution_count": 103,
   "id": "fede3e13",
   "metadata": {},
   "outputs": [],
   "source": [
    "result['sqm_price'] = result['sqm_price']*1000000"
   ]
  },
  {
   "cell_type": "code",
   "execution_count": 106,
   "id": "1d86c737",
   "metadata": {},
   "outputs": [],
   "source": [
    "#add status columns\n",
    "result['status'] = 'for sale'"
   ]
  },
  {
   "cell_type": "code",
   "execution_count": 107,
   "id": "a1f3e70e",
   "metadata": {},
   "outputs": [],
   "source": [
    "result.to_excel('propzy_1000_2.xlsx')"
   ]
  },
  {
   "cell_type": "code",
   "execution_count": null,
   "id": "138d0ec5",
   "metadata": {},
   "outputs": [],
   "source": []
  }
 ],
 "metadata": {
  "kernelspec": {
   "display_name": "Python 3",
   "language": "python",
   "name": "python3"
  },
  "language_info": {
   "codemirror_mode": {
    "name": "ipython",
    "version": 3
   },
   "file_extension": ".py",
   "mimetype": "text/x-python",
   "name": "python",
   "nbconvert_exporter": "python",
   "pygments_lexer": "ipython3",
   "version": "3.8.8"
  }
 },
 "nbformat": 4,
 "nbformat_minor": 5
}
