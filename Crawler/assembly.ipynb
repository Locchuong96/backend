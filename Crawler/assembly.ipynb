{
 "cells": [
  {
   "cell_type": "code",
   "execution_count": 77,
   "id": "c496828e",
   "metadata": {},
   "outputs": [
    {
     "data": {
      "text/plain": [
       "['.ipynb_checkpoints',\n",
       " 'chromedriver.exe',\n",
       " 'chromedriver.exe\\xa0',\n",
       " 'notebook1.ipynb',\n",
       " 'notebook2.ipynb',\n",
       " 'propzy.ipynb',\n",
       " 'propzy_0.xlsx',\n",
       " 'propzy_1.xlsx',\n",
       " 'propzy_2.xlsx',\n",
       " 'propzy_3.xlsx',\n",
       " 'propzy_4.xlsx',\n",
       " 'propzy_5.xlsx',\n",
       " 'propzy_6.xlsx',\n",
       " 'propzy_7.xlsx',\n",
       " 'propzy_8.xlsx',\n",
       " 'propzy_data',\n",
       " 'propzy_preprocess.ipynb',\n",
       " 'Ryan Mitchell - Web Scraping with Python_ Collecting More Data from the Modern Web (2018, O’Reilly Media) - libgen.lc.pdf',\n",
       " 'server.py']"
      ]
     },
     "execution_count": 77,
     "metadata": {},
     "output_type": "execute_result"
    }
   ],
   "source": [
    "import os\n",
    "\n",
    "os.listdir()"
   ]
  },
  {
   "cell_type": "code",
   "execution_count": 79,
   "id": "51e992bd",
   "metadata": {},
   "outputs": [
    {
     "name": "stdout",
     "output_type": "stream",
     "text": [
      "./propzy_data\\Propzy_080721_1.xlsx\n",
      "./propzy_data\\Propzy_080721_2.xlsx\n",
      "./propzy_data\\Propzy_080721_3.xlsx\n",
      "./propzy_data\\Propzy_080721_4.xlsx\n",
      "./propzy_data\\Propzy_090721_1.xlsx\n",
      "./propzy_data\\Propzy_090721_2.xlsx\n",
      "./propzy_data\\Propzy_090721_3.xlsx\n",
      "./propzy_data\\Propzy_090721_4.xlsx\n",
      "./propzy_data\\Propzy_090721_5.xlsx\n"
     ]
    }
   ],
   "source": [
    "import os \n",
    "\n",
    "for file in os.listdir('./propzy_data'):\n",
    "    if file.endswith('.xlsx'):\n",
    "        print(os.path.join('./propzy_data',file))"
   ]
  },
  {
   "cell_type": "code",
   "execution_count": 81,
   "id": "7a4f8e3c",
   "metadata": {},
   "outputs": [],
   "source": [
    "import pandas as pd\n",
    "\n",
    "df = pd.DataFrame([])\n",
    "\n",
    "for file in os.listdir('./propzy_data'):\n",
    "    content = pd.read_excel(os.path.join('./propzy_data',file))\n",
    "    df = pd.concat([df,content],axis = 0)\n",
    "    "
   ]
  },
  {
   "cell_type": "code",
   "execution_count": 82,
   "id": "c8c70186",
   "metadata": {},
   "outputs": [
    {
     "data": {
      "text/plain": [
       "Index(['Unnamed: 0', 'imageLink', 'totalPrice', 'squarePrice', 'mainTitle',\n",
       "       'mainAddress', 'bathNumber', 'bedNumber', 'mainSquare',\n",
       "       'mainOrientation', 'detailPage', 'mainID', 'page'],\n",
       "      dtype='object')"
      ]
     },
     "execution_count": 82,
     "metadata": {},
     "output_type": "execute_result"
    }
   ],
   "source": [
    "df.columns"
   ]
  },
  {
   "cell_type": "code",
   "execution_count": null,
   "id": "5c61e489",
   "metadata": {},
   "outputs": [],
   "source": [
    "df =df.drop(['Unnamed: 0'],axis =1)"
   ]
  },
  {
   "cell_type": "code",
   "execution_count": 95,
   "id": "98d54770",
   "metadata": {},
   "outputs": [],
   "source": [
    "df = df.reset_index(drop = True)"
   ]
  },
  {
   "cell_type": "code",
   "execution_count": 96,
   "id": "ee6708d4",
   "metadata": {},
   "outputs": [
    {
     "data": {
      "text/plain": [
       "Index(['imageLink', 'totalPrice', 'squarePrice', 'mainTitle', 'mainAddress',\n",
       "       'bathNumber', 'bedNumber', 'mainSquare', 'mainOrientation',\n",
       "       'detailPage', 'mainID', 'page'],\n",
       "      dtype='object')"
      ]
     },
     "execution_count": 96,
     "metadata": {},
     "output_type": "execute_result"
    }
   ],
   "source": [
    "df.columns"
   ]
  },
  {
   "cell_type": "code",
   "execution_count": 98,
   "id": "416a1b70",
   "metadata": {},
   "outputs": [
    {
     "data": {
      "text/plain": [
       "(38207, 12)"
      ]
     },
     "execution_count": 98,
     "metadata": {},
     "output_type": "execute_result"
    }
   ],
   "source": [
    "df.shape"
   ]
  },
  {
   "cell_type": "code",
   "execution_count": 99,
   "id": "ea6841e5",
   "metadata": {},
   "outputs": [
    {
     "data": {
      "text/plain": [
       "imageLink          https://cdn.propzy.vn/listing/thumbnail/map/20...\n",
       "totalPrice                                                  2,455 tỷ\n",
       "squarePrice                                            29,2 triệu/m²\n",
       "mainTitle          Bán nhà 84m2 Xuân Thới Thượng Hóc Môn. Nở hậu ...\n",
       "mainAddress                   Đ. Ấp 3, X.Xuân Thới Thượng, H.Hóc Môn\n",
       "bathNumber                                                         1\n",
       "bedNumber                                                          2\n",
       "mainSquare                                                      84.0\n",
       "mainOrientation                                                 Đông\n",
       "detailPage         https://propzy.vn/mua/nha/hcm/huyen-hoc-mon/id...\n",
       "mainID                                                      id168156\n",
       "page                                                            3169\n",
       "Name: 38206, dtype: object"
      ]
     },
     "execution_count": 99,
     "metadata": {},
     "output_type": "execute_result"
    }
   ],
   "source": [
    "df.iloc[38206]"
   ]
  },
  {
   "cell_type": "code",
   "execution_count": 102,
   "id": "922d33ed",
   "metadata": {},
   "outputs": [],
   "source": [
    "row_no = 3820"
   ]
  },
  {
   "cell_type": "code",
   "execution_count": 103,
   "id": "0311ec98",
   "metadata": {},
   "outputs": [
    {
     "name": "stdout",
     "output_type": "stream",
     "text": [
      "(3820, 12)\n",
      "(3820, 12)\n",
      "(3820, 12)\n",
      "(3820, 12)\n",
      "(3820, 12)\n",
      "(3820, 12)\n",
      "(3820, 12)\n",
      "(3820, 12)\n",
      "(3820, 12)\n"
     ]
    }
   ],
   "source": [
    "import winsound\n",
    "\n",
    "for i in range(0,9):\n",
    "    df1 = df.iloc[row_no*i:row_no*(i+1),:]\n",
    "    print(df1.shape)\n",
    "    df1.to_excel(\"propzy_{}.xlsx\".format(i))\n",
    "    \n",
    "winsound.Beep(frequency = 600, duration= 1000)"
   ]
  },
  {
   "cell_type": "code",
   "execution_count": 107,
   "id": "44adb902",
   "metadata": {},
   "outputs": [
    {
     "name": "stdout",
     "output_type": "stream",
     "text": [
      "(3827, 12)\n"
     ]
    }
   ],
   "source": [
    "# the last one \n",
    "df1 = df.iloc[3820*9:,:]\n",
    "\n",
    "print(df1.shape)\n",
    "\n",
    "df1.to_excel(\"propzy_9.xlsx\")"
   ]
  }
 ],
 "metadata": {
  "kernelspec": {
   "display_name": "Python 3",
   "language": "python",
   "name": "python3"
  },
  "language_info": {
   "codemirror_mode": {
    "name": "ipython",
    "version": 3
   },
   "file_extension": ".py",
   "mimetype": "text/x-python",
   "name": "python",
   "nbconvert_exporter": "python",
   "pygments_lexer": "ipython3",
   "version": "3.8.8"
  }
 },
 "nbformat": 4,
 "nbformat_minor": 5
}
