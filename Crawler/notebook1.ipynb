{
 "cells": [
  {
   "cell_type": "markdown",
   "id": "818ea648",
   "metadata": {},
   "source": [
    "### 1/ os library: \n",
    "\n",
    "https://docs.python.org/3/library/os.html\n",
    "\n",
    "This module provides a portable way of using operating system dependent functionality. If you just want to read or write a file see open(), if you want to manipulate paths, see the os.path module, and if you want to read all the lines in all the files on the command line see the fileinput module. For creating temporary files and directories see the tempfile module, and for high-level file and directory handling see the shutil module.\n",
    "\n",
    "\n",
    "### 2/ sys library:\n",
    "\n",
    "https://www.geeksforgeeks.org/python-sys-module/\n",
    "\n",
    "The sys module in Python provides various functions and variables that are used to manipulate different parts of the Python runtime environment. It allows operating on the interpreter as it provides access to the variables and functions that interact strongly with the interpreter. Let’s consider the below example.\n",
    "\n",
    "### 3/ glob library:\n",
    "\n",
    "https://docs.python.org/3/library/glob.html\n",
    "\n",
    "\n",
    "The glob module generates lists of files matching given patterns, just like the Unix shell. File patterns are similar to regular expressions, but simpler. ... glob uses the fnmatch module to do the actual pattern matching. Get Python Standard Library now with O'Reilly online learning.\n",
    "\n",
    "### 4/ urllib library:\n",
    "\n",
    "https://docs.python.org/3/library/urllib.html\n",
    "\n",
    "urllib is a package that collects several modules for working with URLs:\n",
    "\n",
    "    urllib.request for opening and reading URLs\n",
    "\n",
    "    urllib.error containing the exceptions raised by urllib.request\n",
    "\n",
    "    urllib.parse for parsing URLs\n",
    "\n",
    "    urllib.robotparser for parsing robots.txt files\n",
    "    \n",
    "\n",
    "\n"
   ]
  },
  {
   "cell_type": "code",
   "execution_count": 1,
   "id": "9ca735f6",
   "metadata": {},
   "outputs": [
    {
     "name": "stderr",
     "output_type": "stream",
     "text": [
      "Hello world!\n"
     ]
    }
   ],
   "source": [
    "import sys\n",
    "\n",
    "def print_to_stderr(*a):\n",
    "    \"\"\"\n",
    "    Here is the array holding the objects\n",
    "    passed as the argument of the function\n",
    "    \"\"\"\n",
    "    print(*a,file = sys.stderr)\n",
    "    \n",
    "print_to_stderr(\"Hello world!\")"
   ]
  },
  {
   "cell_type": "markdown",
   "id": "9774c9b6",
   "metadata": {},
   "source": [
    "### 5/ winsound\n",
    "\n",
    "https://docs.python.org/3/library/winsound.html\n",
    "\n",
    "The winsound module provides access to the basic sound-playing machinery provided by Windows platforms. It includes functions and several constants."
   ]
  },
  {
   "cell_type": "code",
   "execution_count": 56,
   "id": "1cc8b18d",
   "metadata": {},
   "outputs": [],
   "source": [
    "import winsound\n",
    "\"\"\"\n",
    "frequency from 37 through 32767\n",
    "duration as you know ms\n",
    "\"\"\"\n",
    "winsound.Beep(frequency = 100,duration = 2000)"
   ]
  },
  {
   "cell_type": "code",
   "execution_count": 45,
   "id": "bdb534d4",
   "metadata": {},
   "outputs": [],
   "source": [
    "\"\"\"\n",
    "SystemExclamation\n",
    "SystemAsterisk\n",
    "SystemExit\n",
    "SystemHand\n",
    "SystemQuestion\n",
    "\"\"\"\n",
    "winsound.PlaySound('SystemHand',flags = winsound.SND_LOOP)"
   ]
  },
  {
   "cell_type": "code",
   "execution_count": 46,
   "id": "3a263d37",
   "metadata": {},
   "outputs": [],
   "source": [
    "winsound.MessageBeep(type = winsound.MB_OK)"
   ]
  },
  {
   "cell_type": "markdown",
   "id": "08079978",
   "metadata": {},
   "source": [
    "###### 6/Selenium\n",
    "\n",
    "Selenium Python bindings provides a simple API to write functional/acceptance tests using Selenium WebDriver. Through Selenium Python API you can access all functionalities of Selenium WebDriver in an intuitive way.\n",
    "\n",
    "Selenium Python bindings provide a convenient API to access Selenium WebDrivers like Firefox, Ie, Chrome, Remote etc. The current supported Python versions are 3.5 and above.\n",
    "\n",
    "This documentation explains Selenium 2 WebDriver API. Selenium 1 / Selenium RC API is not covered here."
   ]
  },
  {
   "cell_type": "markdown",
   "id": "ba04858c",
   "metadata": {},
   "source": [
    "### 6/ Getting started Selenium\n",
    "\n",
    "https://selenium-python.readthedocs.io/installation.html"
   ]
  },
  {
   "cell_type": "code",
   "execution_count": 71,
   "id": "90759982",
   "metadata": {},
   "outputs": [],
   "source": [
    "import time\n",
    "from selenium import webdriver\n",
    "from selenium.webdriver.common.keys import Keys\n",
    "\n",
    "driver = webdriver.Chrome()\n",
    "driver.get(\"http://www.python.org\")\n",
    "assert 'Python' in driver.title\n",
    "\n",
    "time.sleep(1)\n",
    "\n",
    "elem =driver.find_element_by_name('q')\n",
    "elem.clear()\n",
    "elem.send_keys('pycon')\n",
    "\n",
    "time.sleep(1)\n",
    "\n",
    "elem.send_keys(Keys.RETURN)\n",
    "assert \"No result found.\" not in driver.page_source\n",
    "\n",
    "driver.close()"
   ]
  },
  {
   "cell_type": "markdown",
   "id": "6f0dd013",
   "metadata": {},
   "source": [
    "### 7/ Using selenium to write test\n",
    "\n",
    "Not able in Jupyter notebook"
   ]
  },
  {
   "cell_type": "markdown",
   "id": "d3053dfc",
   "metadata": {},
   "source": [
    "### 8/ with local backend\n",
    "\n",
    "    \n",
    "    from flask import Flask \n",
    "\n",
    "    app = Flask(__name__)\n",
    "\n",
    "    @app.route(\"/\")\n",
    "    def index():\n",
    "        return {\"msg\":\"Hello World!\"}\n",
    "\n",
    "    if __name__ == \"__main__\":\n",
    "        app.run(debug = True)"
   ]
  },
  {
   "cell_type": "code",
   "execution_count": 80,
   "id": "922a0351",
   "metadata": {},
   "outputs": [],
   "source": [
    "from selenium import webdriver\n",
    "from selenium.webdriver.common.keys import Keys\n",
    "\n",
    "driver = webdriver.Chrome()\n",
    "\n",
    "driver.get(\"http://127.0.0.1:5000\")\n",
    "\n",
    "time.sleep(5)\n",
    "\n",
    "driver.close()"
   ]
  },
  {
   "cell_type": "markdown",
   "id": "0797937c",
   "metadata": {},
   "source": [
    "### 9/ Navigating\n",
    "\n",
    "https://selenium-python.readthedocs.io/navigating.html"
   ]
  },
  {
   "cell_type": "markdown",
   "id": "fbaf88f6",
   "metadata": {},
   "source": [
    "### 10/ Find elements\n",
    "\n",
    "There are various strategies to locate elements in a page. You can use the most appropriate one for your case. Selenium provides the following methods to locate elements in a page:\n",
    "\n",
    "    find_element_by_id\n",
    "    find_element_by_name\n",
    "    find_element_by_xpath\n",
    "    find_element_by_link_text\n",
    "    find_element_by_partial_link_text\n",
    "    find_element_by_tag_name\n",
    "    find_element_by_class_name\n",
    "    find_element_by_css_selector\n",
    "To find multiple elements (these methods will return a list):\n",
    "\n",
    "    find_elements_by_name\n",
    "    find_elements_by_xpath\n",
    "    find_elements_by_link_text\n",
    "    find_elements_by_partial_link_text\n",
    "    find_elements_by_tag_name\n",
    "    find_elements_by_class_name\n",
    "    find_elements_by_css_selector"
   ]
  },
  {
   "cell_type": "markdown",
   "id": "32907c5a",
   "metadata": {},
   "source": [
    "#### Locating by Id\n",
    "\n",
    "<!doctype html>\n",
    "\t\t\t<html>\n",
    "\t\t\t\t<head>\n",
    "\t\t\t\t\t<title> Locating by ID </title>\n",
    "\t\t\t\t</head>\n",
    "\t\t\t\t<body>\n",
    "\t\t\t\t\t<form id = 'loginForm'>\n",
    "\t\t\t\t\t\t<input name = \"username\" type = \"text\" />\n",
    "\t\t\t\t\t\t<input name = \"password\" type = \"password\" />\n",
    "\t\t\t\t\t\t<input name = \"continue\" type = \"submit\" value = \"Login\" />\n",
    "\t\t\t\t\t</form>\n",
    "\t\t\t\t</body>\n",
    "\t\t\t</html>"
   ]
  },
  {
   "cell_type": "code",
   "execution_count": 93,
   "id": "bfa11062",
   "metadata": {
    "scrolled": true
   },
   "outputs": [
    {
     "name": "stdout",
     "output_type": "stream",
     "text": [
      "<selenium.webdriver.remote.webelement.WebElement (session=\"18e756b3e1d66f9dfdab945a99ffe4cd\", element=\"e7a44457-688a-40e8-ab5e-d6e0920bfa35\")>\n",
      "<html><head>\n",
      "\t\t\t\t\t<title> Locating by ID </title>\n",
      "\t\t\t\t</head>\n",
      "\t\t\t\t<body>\n",
      "\t\t\t\t\t<form id=\"loginForm\">\n",
      "\t\t\t\t\t\t<input name=\"username\" type=\"text\" placeholder=\"username\">\n",
      "\t\t\t\t\t\t<input name=\"password\" type=\"password\" placeholder=\"password\">\n",
      "\t\t\t\t\t\t<input name=\"continue type = \" submit\"=\"\" value=\"Login\">\n",
      "\t\t\t\t\t</form>\n",
      "\t\t\t\t\n",
      "\t\t\t\n",
      "\t\t\t</body></html>\n"
     ]
    }
   ],
   "source": [
    "from selenium import webdriver\n",
    "from selenium.webdriver.common.keys import Keys\n",
    "import time\n",
    "\n",
    "driver = webdriver.Chrome()\n",
    "\n",
    "driver.get(\"http://127.0.0.1:5000\")\n",
    "\n",
    "login_form = driver.find_element_by_id('loginForm')\n",
    "\n",
    "print(login_form)\n",
    "\n",
    "html_source = driver.page_source\n",
    "\n",
    "print(html_source)\n",
    "\n",
    "time.sleep(5)\n",
    "\n",
    "driver.close()"
   ]
  },
  {
   "cell_type": "markdown",
   "id": "6ce8fad7",
   "metadata": {},
   "source": [
    "#### Locating by name\n",
    "    \t\t<!doctype html>\n",
    "\t\t\t<html>\n",
    "\t\t\t\t<head>\n",
    "\t\t\t\t\t<title> Locating by ID </title>\n",
    "\t\t\t\t</head>\n",
    "\t\t\t\t<body>\n",
    "\t\t\t\t\t<form id = 'loginForm'>\n",
    "\t\t\t\t\t\t<input name = \"username\" type = \"text\" placeholder = \"username\" />\n",
    "\t\t\t\t\t\t<input name = \"password\" type = \"password\" placeholder = \"password\"/>\n",
    "\t\t\t\t\t\t<input name = \"continue\" type = \"submit\" value = \"Login\"/>\n",
    "\t\t\t\t\t\t<input name = \"continue\" type = \"button\" value = \"Clear\" />\n",
    "\t\t\t\t\t</form>\n",
    "\t\t\t\t</body>\n",
    "\t\t\t</html>\n",
    "\n"
   ]
  },
  {
   "cell_type": "code",
   "execution_count": 105,
   "id": "566ae90f",
   "metadata": {},
   "outputs": [
    {
     "name": "stdout",
     "output_type": "stream",
     "text": [
      "<html><head>\n",
      "\t\t\t\t\t<title> Locating by ID </title>\n",
      "\t\t\t\t</head>\n",
      "\t\t\t\t<body>\n",
      "\t\t\t\t\t<form id=\"loginForm\">\n",
      "\t\t\t\t\t\t<input name=\"username\" type=\"text\" placeholder=\"username\">\n",
      "\t\t\t\t\t\t<input name=\"password\" type=\"password\" placeholder=\"password\">\n",
      "\t\t\t\t\t\t<input name=\"continue\" type=\"submit\" value=\"Login\">\n",
      "\t\t\t\t\t\t<input name=\"continue\" type=\"button\" value=\"Clear\">\n",
      "\t\t\t\t\t</form>\n",
      "\t\t\t\t\n",
      "\t\t\t\n",
      "\t\t\t</body></html>\n",
      "<selenium.webdriver.remote.webelement.WebElement (session=\"ec1ab5db17f0ec3e5ee75c3aa534c823\", element=\"1cd02d4d-704b-44c5-b0fa-9d731129b91d\")>\n",
      "<selenium.webdriver.remote.webelement.WebElement (session=\"ec1ab5db17f0ec3e5ee75c3aa534c823\", element=\"0fb56b09-8063-49df-bea9-f952e413146e\")>\n",
      "<selenium.webdriver.remote.webelement.WebElement (session=\"8762cbda298299b3f816a514df186f80\", element=\"73ed51dd-e645-4ff5-b919-5df7e351ea72\")>\n"
     ]
    }
   ],
   "source": [
    "from selenium import webdriver\n",
    "from selenium.webdriver.common.keys import Keys\n",
    "import time\n",
    "\n",
    "driver =webdriver.Chrome()\n",
    "\n",
    "driver.get(\"http://127.0.0.1:5000\")\n",
    "\n",
    "html_source = driver.page_source\n",
    "print(html_source)\n",
    "\n",
    "username = driver.find_element_by_name(\"username\")\n",
    "password = driver.find_element_by_name(\"password\")\n",
    "cont_button = driver.find_element_by_name(\"continue\") #find the first thing name cont_button\n",
    "\n",
    "print(username)\n",
    "print(password)\n",
    "print(cont_button)\n",
    "print(clear_button)\n",
    "\n",
    "time.sleep(1)\n",
    "\n",
    "username.send_keys(\"chuong hoa loc\")\n",
    "password.send_keys(\"42342\")\n",
    "\n",
    "time.sleep(1)\n",
    "\n",
    "cont_button.click() \n",
    "\n",
    "time.sleep(1)\n",
    "\n",
    "driver.close()"
   ]
  },
  {
   "cell_type": "markdown",
   "id": "5e2a498f",
   "metadata": {},
   "source": [
    "#### locating by xpath\n",
    "\n",
    "    - full Xpath: /html/body/form/input[4]\n",
    "\n",
    "    - Xpath: //*[@id=\"loginForm\"]/input[4]\n"
   ]
  },
  {
   "cell_type": "code",
   "execution_count": 108,
   "id": "dca2594d",
   "metadata": {},
   "outputs": [
    {
     "name": "stdout",
     "output_type": "stream",
     "text": [
      "<html><head>\n",
      "\t\t\t\t\t<title> Locating by ID </title>\n",
      "\t\t\t\t</head>\n",
      "\t\t\t\t<body>\n",
      "\t\t\t\t\t<form id=\"loginForm\">\n",
      "\t\t\t\t\t\t<input name=\"username\" type=\"text\" placeholder=\"username\">\n",
      "\t\t\t\t\t\t<input name=\"password\" type=\"password\" placeholder=\"password\">\n",
      "\t\t\t\t\t\t<input name=\"continue\" type=\"submit\" value=\"Login\">\n",
      "\t\t\t\t\t\t<input name=\"continue\" type=\"button\" value=\"Clear\">\n",
      "\t\t\t\t\t</form>\n",
      "\t\t\t\t\n",
      "\t\t\t\n",
      "\t\t\t</body></html>\n",
      "<selenium.webdriver.remote.webelement.WebElement (session=\"d744ab581603275cac94074591ee3577\", element=\"80089846-88d3-45df-aba8-c12990f00946\")>\n",
      "<selenium.webdriver.remote.webelement.WebElement (session=\"d744ab581603275cac94074591ee3577\", element=\"9a5a8323-7835-4403-8ad9-dc4e9b54bc52\")>\n",
      "<selenium.webdriver.remote.webelement.WebElement (session=\"d744ab581603275cac94074591ee3577\", element=\"97b689f1-7239-4cd3-b2a1-5f7ed3539f87\")>\n",
      "<selenium.webdriver.remote.webelement.WebElement (session=\"d744ab581603275cac94074591ee3577\", element=\"dd1415cd-14eb-4f28-84fc-10d115c1277d\")>\n"
     ]
    }
   ],
   "source": [
    "import time\n",
    "\n",
    "driver =webdriver.Chrome()\n",
    "\n",
    "driver.get(\"http://127.0.0.1:5000\")\n",
    "\n",
    "html_source = driver.page_source\n",
    "print(html_source)\n",
    "\n",
    "username = driver.find_element_by_xpath(\"//*[@id='loginForm']/input[1]\") #/html/body/form/input[1]\n",
    "print(username)\n",
    "\n",
    "password =  driver.find_element_by_xpath(\"//*[@id='loginForm']/input[2]\") #/html/body/form/input[2]\n",
    "print(password)\n",
    "\n",
    "cont_button = driver.find_element_by_xpath(\"//*[@id = 'loginForm']/input[3]\") #/html/body/form/input[3]\n",
    "print(cont_button)\n",
    "\n",
    "clear_button = driver.find_element_by_xpath(\"//*[@id = 'loginForm']/input[4]\") #/html/body/form/input[4]\n",
    "print(clear_button)\n",
    "\n",
    "time.sleep(1)\n",
    "\n",
    "username.send_keys(\"chuong hoa loc\")\n",
    "password.send_keys(\"42342\")\n",
    "\n",
    "time.sleep(1)\n",
    "\n",
    "cont_button.click() \n",
    "\n",
    "time.sleep(1)\n",
    "\n",
    "driver.close()"
   ]
  },
  {
   "cell_type": "markdown",
   "id": "0bf89f1f",
   "metadata": {},
   "source": [
    "username = driver.find_element_by_xpath(\"//form[input/@name='username']\")\n",
    "\n",
    "username = driver.find_element_by_xpath(\"//form[@id='loginForm']/input[1]\")\n",
    "\n",
    "username = driver.find_element_by_xpath(\"//input[@name='username']\")"
   ]
  },
  {
   "cell_type": "markdown",
   "id": "cb7bf80e",
   "metadata": {},
   "source": [
    "#### locating hyperlinks by link text"
   ]
  },
  {
   "cell_type": "code",
   "execution_count": 113,
   "id": "c4bcd7d4",
   "metadata": {},
   "outputs": [
    {
     "name": "stdout",
     "output_type": "stream",
     "text": [
      "<html><head>\n",
      "\t\t\t\t\t<title> Server </title>\n",
      "\t\t\t\t</head>\n",
      "\t\t\t\t<body>\n",
      "\t\t\t\t\t<p> Are you sure you want to do it </p>\n",
      "\t\t\t\t\t<a href=\"continue.html\">Continue</a>\n",
      "\t\t\t\t\t<br>\n",
      "\t\t\t\t\t<a href=\"cancel.html\">Cancel</a>\n",
      "\t\t\t\t\n",
      "\t\t\t\n",
      "\t\t\t</body></html>\n",
      "<selenium.webdriver.remote.webelement.WebElement (session=\"36b42589b8ee0af74dc8eadb31cdb2af\", element=\"f8458635-bcb1-4c4e-9706-e19e463dec12\")>\n",
      "<selenium.webdriver.remote.webelement.WebElement (session=\"36b42589b8ee0af74dc8eadb31cdb2af\", element=\"6d7d270b-c6a4-42ce-9cd2-f9cbb7a24975\")>\n"
     ]
    }
   ],
   "source": [
    "from selenium import webdriver\n",
    "from selenium.webdriver.common.keys import Keys\n",
    "\n",
    "driver = webdriver.Chrome()\n",
    "\n",
    "driver.get(\"http://127.0.0.1:5000\")\n",
    "\n",
    "print(driver.page_source)\n",
    "\n",
    "continue_link = driver.find_element_by_link_text(\"Continue\")\n",
    "cancel_link = driver.find_element_by_link_text(\"Cancel\")\n",
    "\n",
    "print(continue_link)\n",
    "\n",
    "print(cancel_link)\n",
    "\n",
    "time.sleep(1)\n",
    "\n",
    "continue_link.click()\n",
    "\n",
    "time.sleep(1)\n",
    "\n",
    "driver.close()\n",
    "\n"
   ]
  },
  {
   "cell_type": "markdown",
   "id": "c1c54bd5",
   "metadata": {},
   "source": [
    "#### locating elements by tag name\n",
    "\n",
    "    <!doctype html>\n",
    "                <html>\n",
    "                    <head>\n",
    "                        <title> Server </title>\n",
    "                    </head>\n",
    "                    <body>\n",
    "                        <h1>Wellcome</h1>\n",
    "                        <p>Site content goes here.</p>\n",
    "                    </body>\n",
    "                </html>"
   ]
  },
  {
   "cell_type": "code",
   "execution_count": 116,
   "id": "beab3180",
   "metadata": {},
   "outputs": [
    {
     "name": "stdout",
     "output_type": "stream",
     "text": [
      "<Response [200]>\n"
     ]
    }
   ],
   "source": [
    "import requests\n",
    "\n",
    "response = requests.get(\"http://127.0.0.1:5000\")\n",
    "\n",
    "print(response)"
   ]
  },
  {
   "cell_type": "code",
   "execution_count": 117,
   "id": "614d8467",
   "metadata": {},
   "outputs": [
    {
     "name": "stdout",
     "output_type": "stream",
     "text": [
      "\n",
      "\t\t\t<!doctype html>\n",
      "\t\t\t<html>\n",
      "\t\t\t\t<head>\n",
      "\t\t\t\t\t<title> Server </title>\n",
      "\t\t\t\t</head>\n",
      "\t\t\t\t<body>\n",
      "\t\t\t\t\t<h1>Wellcome</h1>\n",
      "\t\t\t\t\t<p>Site content goes here.</p>\n",
      "\t\t\t\t</body>\n",
      "\t\t\t</html>\n",
      "\t\t\t\n"
     ]
    }
   ],
   "source": [
    "response = requests.get(\"http://127.0.0.1:5000\")\n",
    "\n",
    "print(response.text)"
   ]
  },
  {
   "cell_type": "code",
   "execution_count": 120,
   "id": "b0a16b8d",
   "metadata": {},
   "outputs": [
    {
     "name": "stdout",
     "output_type": "stream",
     "text": [
      "<html><head>\n",
      "\t\t\t\t\t<title> Server </title>\n",
      "\t\t\t\t</head>\n",
      "\t\t\t\t<body>\n",
      "\t\t\t\t\t<h1>Wellcome</h1>\n",
      "\t\t\t\t\t<p>Site content goes here.</p>\n",
      "\t\t\t\t\n",
      "\t\t\t\n",
      "\t\t\t</body></html>\n",
      "<selenium.webdriver.remote.webelement.WebElement (session=\"daa7cae9de2a1c73da52064f8d9543c7\", element=\"385c3a01-b9c0-45d4-8e8a-dbbfe987fd2b\")>\n"
     ]
    }
   ],
   "source": [
    "from selenium import webdriver\n",
    "from selenium.webdriver.common.keys import Keys\n",
    "import time \n",
    "\n",
    "driver = webdriver.Chrome()\n",
    "\n",
    "driver.get(\"http://127.0.0.1:5000\")\n",
    "\n",
    "html_source = driver.page_source\n",
    "print(html_source)\n",
    "\n",
    "p_tag = driver.find_element_by_tag_name('p')\n",
    "\n",
    "print(p_tag)"
   ]
  },
  {
   "cell_type": "markdown",
   "id": "b5103d36",
   "metadata": {},
   "source": [
    "#### locating elements by class name\n",
    "\n",
    "\t\t\t<!doctype html>\n",
    "\t\t\t<html>\n",
    "\t\t\t\t<head>\n",
    "\t\t\t\t\t<title> Server </title>\n",
    "\t\t\t\t</head>\n",
    "\t\t\t\t<body>\n",
    "\t\t\t\t\t<p class = \"content\">Site content goes here.</p>\n",
    "\t\t\t\t</body>\n",
    "\t\t\t</html>\n"
   ]
  },
  {
   "cell_type": "code",
   "execution_count": 121,
   "id": "e76d04ce",
   "metadata": {},
   "outputs": [
    {
     "name": "stdout",
     "output_type": "stream",
     "text": [
      "<selenium.webdriver.remote.webelement.WebElement (session=\"f4699dd7e3d5ee33960d4ac0247db28d\", element=\"d90120be-8b6b-41bc-b3db-4262ba780279\")>\n"
     ]
    }
   ],
   "source": [
    "from selenium import webdriver\n",
    "from selenium.webdriver.common.keys import Keys\n",
    "\n",
    "driver = webdriver.Chrome()\n",
    "driver.get(\"http://127.0.0.1:5000\")\n",
    "\n",
    "content = driver.find_element_by_class_name('content')\n",
    "\n",
    "print(content)\n"
   ]
  },
  {
   "cell_type": "markdown",
   "id": "3632d060",
   "metadata": {},
   "source": [
    "#### locating by CSS selectors"
   ]
  },
  {
   "cell_type": "code",
   "execution_count": 128,
   "id": "fa4f1908",
   "metadata": {},
   "outputs": [
    {
     "name": "stdout",
     "output_type": "stream",
     "text": [
      "<html><head>\n",
      "\t\t\t\t\t<title> Server </title>\n",
      "\t\t\t\t</head>\n",
      "\t\t\t\t<body>\n",
      "\t\t\t\t\t<p class=\"title\">Site title goes here.</p>\n",
      "\t\t\t\t\t<p class=\"content\">Site content goes here.</p>\n",
      "\t\t\t\t\n",
      "\t\t\t\n",
      "\t\t\t</body></html>\n",
      "<selenium.webdriver.remote.webelement.WebElement (session=\"e5d11a541fdffd9072e61935787403eb\", element=\"f8d473bc-6f79-4412-9053-90cb72d42e43\")>\n",
      "<selenium.webdriver.remote.webelement.WebElement (session=\"e5d11a541fdffd9072e61935787403eb\", element=\"62cb5ea3-2b2f-4cab-9781-5ba70f11a4ef\")>\n"
     ]
    }
   ],
   "source": [
    "from selenium import webdriver\n",
    "from selenium.webdriver.common.keys import Keys \n",
    "\n",
    "driver = webdriver.Chrome()\n",
    "driver.get(\"http://127.0.0.1:5000\")\n",
    "print(driver.page_source)\n",
    "\n",
    "title = driver.find_element_by_css_selector('p.title')\n",
    "content = driver.find_element_by_css_selector('p.content')\n",
    "\n",
    "print(title)\n",
    "\n",
    "print(content)\n"
   ]
  },
  {
   "cell_type": "code",
   "execution_count": null,
   "id": "f0640b63",
   "metadata": {},
   "outputs": [],
   "source": []
  }
 ],
 "metadata": {
  "kernelspec": {
   "display_name": "Python 3",
   "language": "python",
   "name": "python3"
  },
  "language_info": {
   "codemirror_mode": {
    "name": "ipython",
    "version": 3
   },
   "file_extension": ".py",
   "mimetype": "text/x-python",
   "name": "python",
   "nbconvert_exporter": "python",
   "pygments_lexer": "ipython3",
   "version": "3.8.8"
  }
 },
 "nbformat": 4,
 "nbformat_minor": 5
}
