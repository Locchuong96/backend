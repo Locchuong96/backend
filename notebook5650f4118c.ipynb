{
 "cells": [
  {
   "cell_type": "markdown",
   "id": "f2289094",
   "metadata": {
    "papermill": {
     "duration": 0.021371,
     "end_time": "2022-03-28T08:20:41.233918",
     "exception": false,
     "start_time": "2022-03-28T08:20:41.212547",
     "status": "completed"
    },
    "tags": []
   },
   "source": [
    "## Workflow\n",
    "- Check buitin packages, check gpu\n",
    "- EDA (Exploratory Data Analysis)\n",
    "    - Check label value count\n",
    "    - Check null\n",
    "- Preprocess dataset\n",
    "    - Resize image\n",
    "    - Normalization\n",
    "    - Save preprocessed images and the corresponding labels to resusable file (Because limitted resource)\n",
    "    \n",
    "## Reference\n",
    "\n",
    "https://www.kaggle.com/code/meetnagadia/sorghum-100-cultivar-baseline\n",
    "\n",
    "https://www.kaggle.com/code/gauravduttakiit/sorghum-cultivar-identification-class-dataset\n",
    "\n",
    "https://www.kaggle.com/code/tchaye59/efficientnet-tensorflow-baseline-tpu\n",
    "\n",
    "https://www.kaggle.com/code/lonnieqin/sorghum-100-cultivar-identification-with-cnn\n",
    "\n",
    "https://www.kaggle.com/code/wakamori/sorghum-eda"
   ]
  },
  {
   "cell_type": "markdown",
   "id": "11870170",
   "metadata": {
    "papermill": {
     "duration": 0.013621,
     "end_time": "2022-03-28T08:20:41.261721",
     "exception": false,
     "start_time": "2022-03-28T08:20:41.248100",
     "status": "completed"
    },
    "tags": []
   },
   "source": [
    "### Check buitin packages, check gpu"
   ]
  },
  {
   "cell_type": "code",
   "execution_count": 1,
   "id": "fa56140a",
   "metadata": {
    "execution": {
     "iopub.execute_input": "2022-03-28T08:20:41.300400Z",
     "iopub.status.busy": "2022-03-28T08:20:41.299639Z",
     "iopub.status.idle": "2022-03-28T08:20:46.515979Z",
     "shell.execute_reply": "2022-03-28T08:20:46.514949Z",
     "shell.execute_reply.started": "2022-03-28T07:43:56.980811Z"
    },
    "papermill": {
     "duration": 5.240691,
     "end_time": "2022-03-28T08:20:46.516141",
     "exception": false,
     "start_time": "2022-03-28T08:20:41.275450",
     "status": "completed"
    },
    "tags": []
   },
   "outputs": [
    {
     "name": "stdout",
     "output_type": "stream",
     "text": [
      "2.6.2\n"
     ]
    }
   ],
   "source": [
    "import tensorflow as tf\n",
    "print(tf.__version__)"
   ]
  },
  {
   "cell_type": "code",
   "execution_count": 2,
   "id": "65afb3ff",
   "metadata": {
    "execution": {
     "iopub.execute_input": "2022-03-28T08:20:46.548717Z",
     "iopub.status.busy": "2022-03-28T08:20:46.548054Z",
     "iopub.status.idle": "2022-03-28T08:20:46.566319Z",
     "shell.execute_reply": "2022-03-28T08:20:46.566989Z",
     "shell.execute_reply.started": "2022-03-28T07:43:59.879577Z"
    },
    "papermill": {
     "duration": 0.035343,
     "end_time": "2022-03-28T08:20:46.567145",
     "exception": false,
     "start_time": "2022-03-28T08:20:46.531802",
     "status": "completed"
    },
    "tags": []
   },
   "outputs": [
    {
     "name": "stdout",
     "output_type": "stream",
     "text": [
      "False\n"
     ]
    }
   ],
   "source": [
    "# Check gpu device\n",
    "print(tf.test.is_gpu_available())"
   ]
  },
  {
   "cell_type": "code",
   "execution_count": 3,
   "id": "eba760cb",
   "metadata": {
    "execution": {
     "iopub.execute_input": "2022-03-28T08:20:46.615773Z",
     "iopub.status.busy": "2022-03-28T08:20:46.615080Z",
     "iopub.status.idle": "2022-03-28T08:20:46.886484Z",
     "shell.execute_reply": "2022-03-28T08:20:46.887014Z",
     "shell.execute_reply.started": "2022-03-28T07:44:02.897643Z"
    },
    "papermill": {
     "duration": 0.298571,
     "end_time": "2022-03-28T08:20:46.887189",
     "exception": false,
     "start_time": "2022-03-28T08:20:46.588618",
     "status": "completed"
    },
    "tags": []
   },
   "outputs": [
    {
     "name": "stdout",
     "output_type": "stream",
     "text": [
      "/kaggle/working\r\n"
     ]
    }
   ],
   "source": [
    "# print the current directory\n",
    "!pwd"
   ]
  },
  {
   "cell_type": "code",
   "execution_count": 4,
   "id": "b7219e1e",
   "metadata": {
    "execution": {
     "iopub.execute_input": "2022-03-28T08:20:46.936014Z",
     "iopub.status.busy": "2022-03-28T08:20:46.933583Z",
     "iopub.status.idle": "2022-03-28T08:20:47.210047Z",
     "shell.execute_reply": "2022-03-28T08:20:47.209493Z",
     "shell.execute_reply.started": "2022-03-28T07:44:05.084253Z"
    },
    "papermill": {
     "duration": 0.301,
     "end_time": "2022-03-28T08:20:47.210184",
     "exception": false,
     "start_time": "2022-03-28T08:20:46.909184",
     "status": "completed"
    },
    "tags": []
   },
   "outputs": [
    {
     "name": "stdout",
     "output_type": "stream",
     "text": [
      "__notebook__.ipynb\r\n"
     ]
    }
   ],
   "source": [
    "# list folder\n",
    "!ls"
   ]
  },
  {
   "cell_type": "markdown",
   "id": "f2f5e66d",
   "metadata": {
    "papermill": {
     "duration": 0.022133,
     "end_time": "2022-03-28T08:20:47.254418",
     "exception": false,
     "start_time": "2022-03-28T08:20:47.232285",
     "status": "completed"
    },
    "tags": []
   },
   "source": [
    "### EDA"
   ]
  },
  {
   "cell_type": "code",
   "execution_count": 5,
   "id": "e4b0eacf",
   "metadata": {
    "execution": {
     "iopub.execute_input": "2022-03-28T08:20:47.305825Z",
     "iopub.status.busy": "2022-03-28T08:20:47.305062Z",
     "iopub.status.idle": "2022-03-28T08:20:47.307958Z",
     "shell.execute_reply": "2022-03-28T08:20:47.307425Z",
     "shell.execute_reply.started": "2022-03-28T07:44:09.060951Z"
    },
    "papermill": {
     "duration": 0.031461,
     "end_time": "2022-03-28T08:20:47.308099",
     "exception": false,
     "start_time": "2022-03-28T08:20:47.276638",
     "status": "completed"
    },
    "tags": []
   },
   "outputs": [],
   "source": [
    "import pandas as pd \n",
    "import numpy as np \n",
    "import matplotlib.pyplot as plt \n",
    "import tensorflow as tf\n",
    "import random\n",
    "import pickle\n",
    "import os\n",
    "from tqdm import tqdm\n",
    "from PIL import Image"
   ]
  },
  {
   "cell_type": "code",
   "execution_count": 6,
   "id": "74a3475c",
   "metadata": {
    "execution": {
     "iopub.execute_input": "2022-03-28T08:20:47.359030Z",
     "iopub.status.busy": "2022-03-28T08:20:47.358092Z",
     "iopub.status.idle": "2022-03-28T08:20:47.361461Z",
     "shell.execute_reply": "2022-03-28T08:20:47.360996Z",
     "shell.execute_reply.started": "2022-03-28T07:44:11.318642Z"
    },
    "papermill": {
     "duration": 0.03073,
     "end_time": "2022-03-28T08:20:47.361574",
     "exception": false,
     "start_time": "2022-03-28T08:20:47.330844",
     "status": "completed"
    },
    "tags": []
   },
   "outputs": [],
   "source": [
    "base_dir = \"../input/sorghum-id-fgvc-9\"\n",
    "train_dir = \"../input/sorghum-id-fgvc-9/train_images\"\n",
    "test_dir = \"../input/sorghum-id-fgvc-9/test\""
   ]
  },
  {
   "cell_type": "markdown",
   "id": "11405487",
   "metadata": {
    "papermill": {
     "duration": 0.01461,
     "end_time": "2022-03-28T08:20:47.391829",
     "exception": false,
     "start_time": "2022-03-28T08:20:47.377219",
     "status": "completed"
    },
    "tags": []
   },
   "source": [
    "### Train data"
   ]
  },
  {
   "cell_type": "code",
   "execution_count": 7,
   "id": "34fd46c6",
   "metadata": {
    "execution": {
     "iopub.execute_input": "2022-03-28T08:20:47.426857Z",
     "iopub.status.busy": "2022-03-28T08:20:47.426262Z",
     "iopub.status.idle": "2022-03-28T08:20:47.486526Z",
     "shell.execute_reply": "2022-03-28T08:20:47.486929Z",
     "shell.execute_reply.started": "2022-03-28T07:44:14.750635Z"
    },
    "papermill": {
     "duration": 0.080428,
     "end_time": "2022-03-28T08:20:47.487057",
     "exception": false,
     "start_time": "2022-03-28T08:20:47.406629",
     "status": "completed"
    },
    "tags": []
   },
   "outputs": [
    {
     "name": "stdout",
     "output_type": "stream",
     "text": [
      "Number of train images: 22194\n"
     ]
    },
    {
     "data": {
      "text/html": [
       "<div>\n",
       "<style scoped>\n",
       "    .dataframe tbody tr th:only-of-type {\n",
       "        vertical-align: middle;\n",
       "    }\n",
       "\n",
       "    .dataframe tbody tr th {\n",
       "        vertical-align: top;\n",
       "    }\n",
       "\n",
       "    .dataframe thead th {\n",
       "        text-align: right;\n",
       "    }\n",
       "</style>\n",
       "<table border=\"1\" class=\"dataframe\">\n",
       "  <thead>\n",
       "    <tr style=\"text-align: right;\">\n",
       "      <th></th>\n",
       "      <th>image</th>\n",
       "      <th>cultivar</th>\n",
       "    </tr>\n",
       "  </thead>\n",
       "  <tbody>\n",
       "    <tr>\n",
       "      <th>0</th>\n",
       "      <td>2017-06-16__12-24-20-930.png</td>\n",
       "      <td>PI_257599</td>\n",
       "    </tr>\n",
       "    <tr>\n",
       "      <th>1</th>\n",
       "      <td>2017-06-02__16-48-57-866.png</td>\n",
       "      <td>PI_154987</td>\n",
       "    </tr>\n",
       "    <tr>\n",
       "      <th>2</th>\n",
       "      <td>2017-06-12__13-18-07-707.png</td>\n",
       "      <td>PI_92270</td>\n",
       "    </tr>\n",
       "    <tr>\n",
       "      <th>3</th>\n",
       "      <td>2017-06-22__13-18-06-841.png</td>\n",
       "      <td>PI_152651</td>\n",
       "    </tr>\n",
       "    <tr>\n",
       "      <th>4</th>\n",
       "      <td>2017-06-26__12-56-48-642.png</td>\n",
       "      <td>PI_176766</td>\n",
       "    </tr>\n",
       "  </tbody>\n",
       "</table>\n",
       "</div>"
      ],
      "text/plain": [
       "                          image   cultivar\n",
       "0  2017-06-16__12-24-20-930.png  PI_257599\n",
       "1  2017-06-02__16-48-57-866.png  PI_154987\n",
       "2  2017-06-12__13-18-07-707.png   PI_92270\n",
       "3  2017-06-22__13-18-06-841.png  PI_152651\n",
       "4  2017-06-26__12-56-48-642.png  PI_176766"
      ]
     },
     "execution_count": 7,
     "metadata": {},
     "output_type": "execute_result"
    }
   ],
   "source": [
    "train_df = pd.read_csv(\"../input/sorghum-id-fgvc-9/train_cultivar_mapping.csv\")\n",
    "print(f\"Number of train images: {train_df.shape[0]}\")\n",
    "train_df.head()"
   ]
  },
  {
   "cell_type": "code",
   "execution_count": 8,
   "id": "aa215482",
   "metadata": {
    "execution": {
     "iopub.execute_input": "2022-03-28T08:20:47.522193Z",
     "iopub.status.busy": "2022-03-28T08:20:47.521719Z",
     "iopub.status.idle": "2022-03-28T08:20:48.153328Z",
     "shell.execute_reply": "2022-03-28T08:20:48.153880Z",
     "shell.execute_reply.started": "2022-03-28T07:46:37.626100Z"
    },
    "papermill": {
     "duration": 0.651487,
     "end_time": "2022-03-28T08:20:48.154045",
     "exception": false,
     "start_time": "2022-03-28T08:20:47.502558",
     "status": "completed"
    },
    "tags": []
   },
   "outputs": [
    {
     "name": "stdout",
     "output_type": "stream",
     "text": [
      "There are 22193 images in ../input/sorghum-id-fgvc-9/train_images\n"
     ]
    }
   ],
   "source": [
    "# Check image number in training data\n",
    "print(f\"There are {len(os.listdir(train_dir))} images in {train_dir}\")"
   ]
  },
  {
   "cell_type": "markdown",
   "id": "eab9ecbb",
   "metadata": {
    "papermill": {
     "duration": 0.027023,
     "end_time": "2022-03-28T08:20:48.205115",
     "exception": false,
     "start_time": "2022-03-28T08:20:48.178092",
     "status": "completed"
    },
    "tags": []
   },
   "source": [
    "## Size of training data\n",
    "**Note** that some images, listed in train_cultivar_mapping.csv do not exist"
   ]
  },
  {
   "cell_type": "code",
   "execution_count": 9,
   "id": "db29ed7d",
   "metadata": {
    "execution": {
     "iopub.execute_input": "2022-03-28T08:20:48.258517Z",
     "iopub.status.busy": "2022-03-28T08:20:48.257671Z",
     "iopub.status.idle": "2022-03-28T08:21:55.464716Z",
     "shell.execute_reply": "2022-03-28T08:21:55.465227Z",
     "shell.execute_reply.started": "2022-03-28T07:49:04.548598Z"
    },
    "papermill": {
     "duration": 67.235236,
     "end_time": "2022-03-28T08:21:55.465389",
     "exception": false,
     "start_time": "2022-03-28T08:20:48.230153",
     "status": "completed"
    },
    "tags": []
   },
   "outputs": [
    {
     "name": "stdout",
     "output_type": "stream",
     "text": [
      "Number of non-existent images: 3\n"
     ]
    }
   ],
   "source": [
    "train_df[\"image_existence\"] = [os.path.exists(os.path.join(train_dir, row.image)) for _, row in train_df.iterrows()]\n",
    "print(f\"Number of non-existent images: {train_df[train_df.image_existence == False].size}\")"
   ]
  },
  {
   "cell_type": "markdown",
   "id": "77548a14",
   "metadata": {
    "papermill": {
     "duration": 0.023595,
     "end_time": "2022-03-28T08:21:55.513120",
     "exception": false,
     "start_time": "2022-03-28T08:21:55.489525",
     "status": "completed"
    },
    "tags": []
   },
   "source": [
    "## Plot number of images"
   ]
  },
  {
   "cell_type": "code",
   "execution_count": 10,
   "id": "67605b1f",
   "metadata": {
    "execution": {
     "iopub.execute_input": "2022-03-28T08:21:55.565143Z",
     "iopub.status.busy": "2022-03-28T08:21:55.564227Z",
     "iopub.status.idle": "2022-03-28T08:21:55.576652Z",
     "shell.execute_reply": "2022-03-28T08:21:55.577132Z",
     "shell.execute_reply.started": "2022-03-28T08:08:10.293762Z"
    },
    "papermill": {
     "duration": 0.039892,
     "end_time": "2022-03-28T08:21:55.577263",
     "exception": false,
     "start_time": "2022-03-28T08:21:55.537371",
     "status": "completed"
    },
    "tags": []
   },
   "outputs": [
    {
     "name": "stdout",
     "output_type": "stream",
     "text": [
      "Number of cultivar: 100\n"
     ]
    }
   ],
   "source": [
    "train_counts = train_df.cultivar.value_counts()\n",
    "existed_train_counts = train_df[train_df.image_existence == True].cultivar.value_counts()\n",
    "print(f\"Number of cultivar: {existed_train_counts.size}\")"
   ]
  },
  {
   "cell_type": "code",
   "execution_count": 11,
   "id": "fbade3a2",
   "metadata": {
    "execution": {
     "iopub.execute_input": "2022-03-28T08:21:55.613644Z",
     "iopub.status.busy": "2022-03-28T08:21:55.612972Z",
     "iopub.status.idle": "2022-03-28T08:21:57.018505Z",
     "shell.execute_reply": "2022-03-28T08:21:57.018011Z",
     "shell.execute_reply.started": "2022-03-28T08:15:19.551436Z"
    },
    "papermill": {
     "duration": 1.424651,
     "end_time": "2022-03-28T08:21:57.018617",
     "exception": false,
     "start_time": "2022-03-28T08:21:55.593966",
     "status": "completed"
    },
    "tags": []
   },
   "outputs": [
    {
     "data": {
      "image/png": "[encoded data removed]",
      "text/plain": [
       "<Figure size 1800x720 with 1 Axes>"
      ]
     },
     "metadata": {
      "needs_background": "light"
     },
     "output_type": "display_data"
    },
    {
     "data": {
      "text/plain": [
       "<Figure size 432x288 with 0 Axes>"
      ]
     },
     "metadata": {},
     "output_type": "display_data"
    }
   ],
   "source": [
    "plt.figure(figsize = (25,10))\n",
    "# bar plot all images in train_dir\n",
    "plt.bar(train_counts.index,train_counts.values,color = 'black', alpha = 0.5, label = \"All\")\n",
    "# bar plot existed images\n",
    "plt.bar(existed_train_counts.index,existed_train_counts.values,color = 'red',alpha = 0.5, label = \"Existed\")\n",
    "plt.xticks(rotation = 90)\n",
    "plt.xlabel(\"Class label (cultivar)\")\n",
    "plt.ylabel(\"Frequency\")\n",
    "plt.title(\"Number of train images\")\n",
    "plt.ylim(0,350)\n",
    "plt.legend()\n",
    "plt.show()\n",
    "plt.savefig(\"./train_cultivar.png\")"
   ]
  },
  {
   "cell_type": "markdown",
   "id": "b90421f7",
   "metadata": {
    "papermill": {
     "duration": 0.017648,
     "end_time": "2022-03-28T08:21:57.054185",
     "exception": false,
     "start_time": "2022-03-28T08:21:57.036537",
     "status": "completed"
    },
    "tags": []
   },
   "source": [
    "![plot](./train_cultivar.png)"
   ]
  },
  {
   "cell_type": "code",
   "execution_count": null,
   "id": "e52a7f25",
   "metadata": {
    "papermill": {
     "duration": 0.017677,
     "end_time": "2022-03-28T08:21:57.089749",
     "exception": false,
     "start_time": "2022-03-28T08:21:57.072072",
     "status": "completed"
    },
    "tags": []
   },
   "outputs": [],
   "source": []
  }
 ],
 "metadata": {
  "kernelspec": {
   "display_name": "Python 3",
   "language": "python",
   "name": "python3"
  },
  "language_info": {
   "codemirror_mode": {
    "name": "ipython",
    "version": 3
   },
   "file_extension": ".py",
   "mimetype": "text/x-python",
   "name": "python",
   "nbconvert_exporter": "python",
   "pygments_lexer": "ipython3",
   "version": "3.7.12"
  },
  "papermill": {
   "default_parameters": {},
   "duration": 87.515915,
   "end_time": "2022-03-28T08:22:00.279400",
   "environment_variables": {},
   "exception": null,
   "input_path": "__notebook__.ipynb",
   "output_path": "__notebook__.ipynb",
   "parameters": {},
   "start_time": "2022-03-28T08:20:32.763485",
   "version": "2.3.3"
  }
 },
 "nbformat": 4,
 "nbformat_minor": 5
}
